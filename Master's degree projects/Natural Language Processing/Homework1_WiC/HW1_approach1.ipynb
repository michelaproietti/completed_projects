{
  "nbformat": 4,
  "nbformat_minor": 0,
  "metadata": {
    "accelerator": "GPU",
    "colab": {
      "name": "NLP_homework1_approach1.ipynb",
      "provenance": [],
      "collapsed_sections": []
    },
    "kernelspec": {
      "display_name": "Python 3",
      "name": "python3"
    },
    "language_info": {
      "name": "python"
    }
  },
  "cells": [
    {
      "cell_type": "markdown",
      "metadata": {
        "id": "07nzQLOaZoW5"
      },
      "source": [
        "#First approach"
      ]
    },
    {
      "cell_type": "code",
      "metadata": {
        "colab": {
          "base_uri": "https://localhost:8080/"
        },
        "id": "Q7H_O_cbjfFv",
        "outputId": "4830f159-c2ce-4a92-856f-6c20c3500b74"
      },
      "source": [
        "!python -m pip install json-lines"
      ],
      "execution_count": 1,
      "outputs": [
        {
          "output_type": "stream",
          "text": [
            "Collecting json-lines\n",
            "  Downloading https://files.pythonhosted.org/packages/7f/0f/79c96c0d26b276c583484fe8209e5ebbb416a920309568650325f6e1de73/json_lines-0.5.0-py2.py3-none-any.whl\n",
            "Requirement already satisfied: six in /usr/local/lib/python3.7/dist-packages (from json-lines) (1.15.0)\n",
            "Installing collected packages: json-lines\n",
            "Successfully installed json-lines-0.5.0\n"
          ],
          "name": "stdout"
        }
      ]
    },
    {
      "cell_type": "code",
      "metadata": {
        "colab": {
          "base_uri": "https://localhost:8080/"
        },
        "id": "oDokgYWSWV_U",
        "outputId": "3bd2d86e-8b86-4664-e531-dc1e7d3d3133"
      },
      "source": [
        "import matplotlib.pyplot as plt\n",
        "from torch.utils.data import Dataset, DataLoader\n",
        "\n",
        "import nltk\n",
        "nltk.download('punkt')\n",
        "nltk.download('stopwords')\n",
        "nltk.download('wordnet')\n",
        "from nltk.corpus import stopwords, wordnet\n",
        "from nltk.tokenize import word_tokenize\n",
        "from nltk.stem import WordNetLemmatizer, PorterStemmer\n",
        "\n",
        "from typing import Callable\n",
        "import torch.nn as nn\n",
        "import numpy as np\n",
        "import collections\n",
        "import torch\n",
        "import json_lines\n",
        "import os\n",
        "import re\n",
        "\n",
        "from tqdm.auto import tqdm"
      ],
      "execution_count": 2,
      "outputs": [
        {
          "output_type": "stream",
          "text": [
            "[nltk_data] Downloading package punkt to /root/nltk_data...\n",
            "[nltk_data]   Unzipping tokenizers/punkt.zip.\n",
            "[nltk_data] Downloading package stopwords to /root/nltk_data...\n",
            "[nltk_data]   Unzipping corpora/stopwords.zip.\n",
            "[nltk_data] Downloading package wordnet to /root/nltk_data...\n",
            "[nltk_data]   Unzipping corpora/wordnet.zip.\n"
          ],
          "name": "stdout"
        }
      ]
    },
    {
      "cell_type": "markdown",
      "metadata": {
        "id": "Y4fZYKBtZtT-"
      },
      "source": [
        "## Analysing data"
      ]
    },
    {
      "cell_type": "code",
      "metadata": {
        "id": "kh2G5ynnZs_1"
      },
      "source": [
        "path_to_train_data = '/content/drive/MyDrive/NLP/Homework1/data/train.jsonl'\n",
        "path_to_val_data = '/content/drive/MyDrive/NLP/Homework1/data/dev.jsonl'"
      ],
      "execution_count": 3,
      "outputs": []
    },
    {
      "cell_type": "code",
      "metadata": {
        "colab": {
          "base_uri": "https://localhost:8080/"
        },
        "id": "6MIPzKLOdtaK",
        "outputId": "0362ee3e-0922-4118-86a5-03685dcd3414"
      },
      "source": [
        "!head -5 /content/drive/MyDrive/NLP/Homework1/data/train.jsonl"
      ],
      "execution_count": 4,
      "outputs": [
        {
          "output_type": "stream",
          "text": [
            "{\"id\": \"train.0\", \"lemma\": \"play\", \"pos\": \"NOUN\", \"sentence1\": \"In that context of coordination and integration, Bolivia holds a key play in any process of infrastructure development.\", \"sentence2\": \"A musical play on the same subject was also staged in Kathmandu for three days.\", \"start1\": \"69\", \"end1\": \"73\", \"start2\": \"10\", \"end2\": \"14\", \"label\": \"False\"}\n",
            "{\"id\": \"train.1\", \"lemma\": \"play\", \"pos\": \"NOUN\", \"sentence1\": \"In that context of coordination and integration, Bolivia holds a key play in any process of infrastructure development.\", \"sentence2\": \"In schools, when water is needed, it is girls who are sent to fetch it, taking time away from their studies and play.\", \"start1\": \"69\", \"end1\": \"73\", \"start2\": \"112\", \"end2\": \"116\", \"label\": \"False\"}\n",
            "{\"id\": \"train.2\", \"lemma\": \"esteem\", \"pos\": \"NOUN\", \"sentence1\": \"We would also like to convey our esteem and congratulations to fraternal Lebanon and its people on the unconditional liberation of its southern part.\", \"sentence2\": \"Father Lini said that, because of that, the United Nations has a very special place in the affections and esteem of the people of Vanuatu.\", \"start1\": \"33\", \"end1\": \"39\", \"start2\": \"106\", \"end2\": \"112\", \"label\": \"True\"}\n",
            "{\"id\": \"train.3\", \"lemma\": \"esteem\", \"pos\": \"NOUN\", \"sentence1\": \"We would also like to convey our esteem and congratulations to fraternal Lebanon and its people on the unconditional liberation of its southern part.\", \"sentence2\": \"This attests to the esteem and trust enjoyed by your country.\", \"start1\": \"33\", \"end1\": \"39\", \"start2\": \"20\", \"end2\": \"26\", \"label\": \"True\"}\n",
            "{\"id\": \"train.4\", \"lemma\": \"holder\", \"pos\": \"NOUN\", \"sentence1\": \"This growth is the direct result of the increased number of baccalaureate holders, who form the potential market for higher education.\", \"sentence2\": \"A person may be either the holder of an option, being the person entitled to buy or sell; or the writer of the option, being the person required to honour the holder’s right to buy or sell.\", \"start1\": \"74\", \"end1\": \"81\", \"start2\": \"27\", \"end2\": \"33\", \"label\": \"True\"}\n"
          ],
          "name": "stdout"
        }
      ]
    },
    {
      "cell_type": "code",
      "metadata": {
        "id": "XWz1BPAZEQ_u"
      },
      "source": [
        "# Simple initial preprocessing (not used anymore)\n",
        "def preprocess_sentence_initial(sentence: str) -> str:\n",
        "  sentence = sentence.lower()\n",
        "  sentence = re.sub(r\"what's\", \"what is\", sentence)   # replace contracted form\n",
        "  sentence = re.sub(\"\\'s\", \"\", sentence)              # remove 's at the end of words\n",
        "  sentence = re.sub(r\"\\'ve\", \" have\", sentence)       # replace contracted form\n",
        "  sentence = re.sub(r\"can't\", \"cannot\", sentence)     # replace contracted form\n",
        "  sentence = re.sub(r\"\\n't\", \" not\", sentence)        # replace contracted form\n",
        "  sentence = re.sub(r\"i'm\", \"i am\", sentence)         # replace contracted form\n",
        "  sentence = re.sub(r\"\\'re\", \" are\", sentence)        # replace contracted form\n",
        "  sentence = re.sub(r\"\\'d\", \" would\", sentence)       # replace contracted form\n",
        "  sentence = re.sub(r\"\\'ll\", \" will\", sentence)       # replace contracted form\n",
        "  sentence = re.sub(r\"[^A-Za-z]\", \" \", sentence)      # remove characters different from alphabetic letters\n",
        "  sentence = re.sub(r\" {1,}\", \" \", sentence)          # remove repeated spaces\n",
        "\n",
        "  return sentence"
      ],
      "execution_count": 5,
      "outputs": []
    },
    {
      "cell_type": "code",
      "metadata": {
        "id": "Pm6m6o68dDv7"
      },
      "source": [
        "# Preprocess each input sentence\n",
        "def preprocess_sentence(sentence: str) -> str:\n",
        "\n",
        "  sentence = sentence.lower()\n",
        "    \n",
        "  lemmatizer = WordNetLemmatizer()\n",
        "  tokens = word_tokenize(sentence)\n",
        "\n",
        "  tokens = [lemmatizer.lemmatize(w) for w in tokens if w not in stopwords.words(\"english\")]\n",
        "\n",
        "  return sentence"
      ],
      "execution_count": 29,
      "outputs": []
    },
    {
      "cell_type": "markdown",
      "metadata": {
        "id": "TYCGcqYg8roN"
      },
      "source": [
        "The following function analyse the dataset that is given as input, returning a dictionary containing all the words and the corresponding number of occurrences. This function is then used on both the training and validation sets to study how words are distributed between them. Clearly, the first thing we can notice is that since the validation set contains less samples, so less pairs of sentences, the number of distinct words is less than in the trianing set, but we expected that. In the same way, since the training set contains just 5000 samples, the number of distinct words is relatively small, and this why we decided to use pretrained embeddings, that are trained on large corpora, \n",
        "and therefore are more likely to give better results.\n",
        "\n"
      ]
    },
    {
      "cell_type": "code",
      "metadata": {
        "id": "76JBs4NYBQQN"
      },
      "source": [
        "def analyse_dataset(data_path:str):\n",
        "  counter_list = []\n",
        "\n",
        "  with open(data_path) as f:\n",
        "    for line in json_lines.reader(f):\n",
        "      tokens1 = word_tokenize(preprocess_sentence_initial(line['sentence1']))\n",
        "      tokens2 = word_tokenize(preprocess_sentence_initial(line['sentence2']))\n",
        "      counter_list.extend(tokens1)\n",
        "      counter_list.extend(tokens2)\n",
        "\n",
        "  counter = collections.Counter(counter_list)\n",
        "  counter_len = len(counter)\n",
        "\n",
        "  dictionary = {key: index for index, key in enumerate(counter)}\n",
        "  dict_counts = {x: counter[x] for x in dictionary}\n",
        "\n",
        "  return dict_counts"
      ],
      "execution_count": 6,
      "outputs": []
    },
    {
      "cell_type": "code",
      "metadata": {
        "colab": {
          "base_uri": "https://localhost:8080/"
        },
        "id": "qvU_XnN4BUxU",
        "outputId": "79b9386a-16ac-4579-a833-dc33b65fa5f9"
      },
      "source": [
        "train_dict_counts = analyse_dataset(path_to_train_data)\n",
        "val_dict_counts = analyse_dataset(path_to_val_data)\n",
        "\n",
        "print(\"Number of distinct words in the training set: {}\".format(len(train_dict_counts)))\n",
        "print(\"Number of distinct words in the validation set: {}\".format(len(val_dict_counts)))"
      ],
      "execution_count": 7,
      "outputs": [
        {
          "output_type": "stream",
          "text": [
            "Number of distinct words in the training set: 26395\n",
            "Number of distinct words in the validation set: 7879\n"
          ],
          "name": "stdout"
        }
      ]
    },
    {
      "cell_type": "markdown",
      "metadata": {
        "id": "EvBInwVS_U0r"
      },
      "source": [
        "Using the dictionaries that we have just built, we create a new dictionary in which we have as keys all the words and as values we have lists of two integers, which represent respectively the number of occurrences in the training and validation sets. Using this dictionary, we count how many times we encounter words in the validation set that never appear, how many of them appear just once, less than 5 times and so on in the training set. Showing the results in a plot, we see that 1/4 of the words in the validation set occur less than 20 times in the training set."
      ]
    },
    {
      "cell_type": "code",
      "metadata": {
        "id": "p84LF_9ZGTlz"
      },
      "source": [
        "all_words = dict()\n",
        "for key in (set(train_dict_counts.keys()) | set(val_dict_counts.keys())):\n",
        "  values = list()\n",
        "  if key in train_dict_counts:\n",
        "    values.append(train_dict_counts[key])\n",
        "  else:\n",
        "    values.append(0)\n",
        "  \n",
        "  if key in val_dict_counts:\n",
        "    values.append(val_dict_counts[key])\n",
        "  else:\n",
        "    values.append(0)\n",
        "    \n",
        "  all_words[key] = values"
      ],
      "execution_count": 8,
      "outputs": []
    },
    {
      "cell_type": "code",
      "metadata": {
        "id": "orTEJqm1L-eF"
      },
      "source": [
        "occurrences = np.zeros(9, dtype=int)\n",
        "for key, pair in all_words.items():\n",
        "  if pair[0] == 0:\n",
        "    occurrences[0] += pair[1]\n",
        "  if pair[0] == 1 and pair[1] != 0:\n",
        "    occurrences[1] += pair[1]\n",
        "  if pair[0] <= 5 and pair[0] > 1 and pair[1] != 0:\n",
        "    occurrences[2] += pair[1]\n",
        "  if pair[0] <= 10 and pair[0] > 5 and pair[1] != 0:\n",
        "    occurrences[3] += pair[1]\n",
        "  if pair[0] <= 20 and pair[0] > 10 and pair[1] != 0:\n",
        "    occurrences[4] += pair[1]\n",
        "  if pair[0] <= 30 and pair[0] > 20 and pair[1] != 0:\n",
        "    occurrences[5] += pair[1]\n",
        "  if pair[0] <= 40 and pair[0] > 30 and pair[1] != 0:\n",
        "    occurrences[6] += pair[1]\n",
        "  if pair[0] <= 50 and pair[0] > 40 and pair[1] != 0:\n",
        "    occurrences[7] += pair[1]\n",
        "  if pair[0] > 50 and pair[1] != 0:\n",
        "    occurrences[8] += pair[1]"
      ],
      "execution_count": 9,
      "outputs": []
    },
    {
      "cell_type": "code",
      "metadata": {
        "colab": {
          "base_uri": "https://localhost:8080/"
        },
        "id": "qBNVpLqIBmeQ",
        "outputId": "092b310b-d3de-45ff-d61e-0a92391cea4d"
      },
      "source": [
        "print(f\"Number of words in the validation set that never occur in the training set {occurrences[0]}\")\n",
        "print(f\"Number of words in the validation set that occur just once in the training set {occurrences[1]}\")\n",
        "print(f\"Number of words in the validation set that occur between 1 and 5 (included) times in the training set {occurrences[2]}\")\n",
        "print(f\"Number of words in the validation set that occur between 5 and 10 (included) times in the training set {occurrences[3]}\")\n",
        "print(f\"Number of words in the validation set that occur between 10 and 20 (included) times in the training set {occurrences[4]}\")\n",
        "print(f\"Number of words in the validation set that occur between 20 and 30 (included) times in the training set {occurrences[5]}\")\n",
        "print(f\"Number of words in the validation set that occur between 30 and 40 (included) times in the training set {occurrences[6]}\")\n",
        "print(f\"Number of words in the validation set that occur between 40 and 50 (included) times in the training set {occurrences[7]}\")\n",
        "print(f\"Number of words in the validation set that occur more than 50 times in the training set {occurrences[8]}\")"
      ],
      "execution_count": 10,
      "outputs": [
        {
          "output_type": "stream",
          "text": [
            "Number of words in the validation set that never occur in the training set 2580\n",
            "Number of words in the validation set that occur just once in the training set 948\n",
            "Number of words in the validation set that occur between 1 and 5 (included) times in the training set 2651\n",
            "Number of words in the validation set that occur between 5 and 10 (included) times in the training set 2267\n",
            "Number of words in the validation set that occur between 10 and 20 (included) times in the training set 2934\n",
            "Number of words in the validation set that occur between 20 and 30 (included) times in the training set 2022\n",
            "Number of words in the validation set that occur between 30 and 40 (included) times in the training set 1698\n",
            "Number of words in the validation set that occur between 40 and 50 (included) times in the training set 1261\n",
            "Number of words in the validation set that occur more than 50 times in the training set 29162\n"
          ],
          "name": "stdout"
        }
      ]
    },
    {
      "cell_type": "code",
      "metadata": {
        "colab": {
          "base_uri": "https://localhost:8080/",
          "height": 466
        },
        "id": "buxp4J9XSjlZ",
        "outputId": "8d459ba2-0dfd-4aa5-e4bc-690b2790e14f"
      },
      "source": [
        "label = [\"N = 0\", \"N = 1\", \"1 < N <= 5\", \"5 < N <= 10\", \"10 < N <= 20\", \"20 < N <= 30\", \"30 < N <= 40\", \"40 < N < 50\", \"N > 50\"]\n",
        "\n",
        "plt.figure(figsize=(8,8))\n",
        "plt.pie(occurrences, labels=label, colors=['pink', 'magenta', 'purple', 'blue', 'cyan', 'lime', 'yellow', 'orange', 'red'], labeldistance=1.1)\n",
        "plt.show()"
      ],
      "execution_count": 11,
      "outputs": [
        {
          "output_type": "display_data",
          "data": {
            "image/png": "[encoded data removed]",
            "text/plain": [
              "<Figure size 576x576 with 1 Axes>"
            ]
          },
          "metadata": {
            "tags": []
          }
        }
      ]
    },
    {
      "cell_type": "markdown",
      "metadata": {
        "id": "9olO5kiu1OPB"
      },
      "source": [
        "## Glove and Word2vec pre-trained embeddings"
      ]
    },
    {
      "cell_type": "code",
      "metadata": {
        "id": "OyD94Pek1hOJ"
      },
      "source": [
        "! head /content/drive/MyDrive/NLP/Homework1/glove.6B.300d.txt"
      ],
      "execution_count": null,
      "outputs": []
    },
    {
      "cell_type": "code",
      "metadata": {
        "id": "KFkr-PSJd0us"
      },
      "source": [
        "! head /content/drive/MyDrive/NLP/Homework1/GoogleNews-vectors-negative300.txt"
      ],
      "execution_count": null,
      "outputs": []
    },
    {
      "cell_type": "code",
      "metadata": {
        "id": "Qw7Ab48VC8jR"
      },
      "source": [
        "# build a dictionary with GloVe word embeddings using all the words that it contains\n",
        "glove_dict = dict()\n",
        "max_words = 400000\n",
        "\n",
        "with open('/content/drive/MyDrive/NLP/Homework1/glove.6B.300d.txt') as f:\n",
        "  for i, line in tqdm(enumerate(f), total=max_words):\n",
        "    if i == max_words:\n",
        "      break\n",
        "\n",
        "    word, *vector = line.strip().split(' ')\n",
        "    vector = torch.tensor([float(n) for n in vector])\n",
        "\n",
        "    glove_dict[word] = vector"
      ],
      "execution_count": null,
      "outputs": []
    },
    {
      "cell_type": "code",
      "metadata": {
        "id": "Xm3OVgOLDFMT"
      },
      "source": [
        "# build a dictionary with Word2Vec word embeddings using all the words that it contains\n",
        "word2vec_dict = dict()\n",
        "max_words = 3000000\n",
        "\n",
        "with open('/content/drive/MyDrive/NLP/Homework1/GoogleNews-vectors-negative300.txt') as f:\n",
        "  next(f)\n",
        "  for i, line in tqdm(enumerate(f), total=max_words):\n",
        "    if i == max_words:\n",
        "      break\n",
        "\n",
        "    word, *vector = line.strip().split(' ')\n",
        "    word = word.lower()\n",
        "    vector = torch.tensor([float(n) for n in vector])\n",
        "\n",
        "    word2vec_dict[word] = vector"
      ],
      "execution_count": null,
      "outputs": []
    },
    {
      "cell_type": "code",
      "metadata": {
        "id": "6QbcfhCMDrmD"
      },
      "source": [
        "# Build a dictionary with all the words that are present in both GloVe and Word2Vec\n",
        "# that have as associated word vectors the concatenation of the GloVe and Word2Vec\n",
        "# word embeddings\n",
        "glove_w2v_dict = dict()\n",
        "keys = glove_dict.keys() & word2vec_dict.keys()\n",
        "\n",
        "for key in keys:\n",
        "  glove_w2v_dict[key] = torch.cat((glove_dict[key], word2vec_dict[key]), 0)"
      ],
      "execution_count": null,
      "outputs": []
    },
    {
      "cell_type": "code",
      "metadata": {
        "id": "nyoHuog_NgY8"
      },
      "source": [
        "# For efficiency reasons, we reduce the size of the GloVe and Word2Vec dictionaries,\n",
        "# by considering the words that are present in both of them, that are likely the most\n",
        "# frequent ones\n",
        "glove_dict = {key: glove_dict[key] for key in keys}\n",
        "word2vec_dict = {key: word2vec_dict[key] for key in keys}"
      ],
      "execution_count": null,
      "outputs": []
    },
    {
      "cell_type": "code",
      "metadata": {
        "id": "lk8J4zw00nQX"
      },
      "source": [
        "# save the dictionaries\n",
        "np.save('/content/drive/MyDrive/NLP/Homework1/glove_dictionary.npy', glove_dict)\n",
        "np.save('/content/drive/MyDrive/NLP/Homework1/word2vec_dictionary.npy', word2vec_dict)\n",
        "np.save('/content/drive/MyDrive/NLP/Homework1/glove_w2v_dictionary.npy', glove_w2v_dict)"
      ],
      "execution_count": null,
      "outputs": []
    },
    {
      "cell_type": "code",
      "metadata": {
        "id": "kytt99tIQLRQ"
      },
      "source": [
        "# load the dictionaries\n",
        "glove_dict = np.load('/content/drive/MyDrive/NLP/Homework1/glove_dictionary.npy', allow_pickle='TRUE').item()\n",
        "word2vec_dict = np.load('/content/drive/MyDrive/NLP/Homework1/word2vec_dictionary.npy', allow_pickle='TRUE').item()\n",
        "glove_w2v_dict = np.load('/content/drive/MyDrive/NLP/Homework1/glove_w2v_dictionary.npy', allow_pickle='TRUE').item()"
      ],
      "execution_count": 32,
      "outputs": []
    },
    {
      "cell_type": "code",
      "metadata": {
        "colab": {
          "base_uri": "https://localhost:8080/"
        },
        "id": "gitu7eRyRING",
        "outputId": "0d6f7072-1ba3-4839-ab93-b8b7069cb60c"
      },
      "source": [
        "print(len(glove_dict))\n",
        "print(len(word2vec_dict))\n",
        "print(len(glove_w2v_dict))"
      ],
      "execution_count": 55,
      "outputs": [
        {
          "output_type": "stream",
          "text": [
            "284859\n",
            "284859\n",
            "284859\n"
          ],
          "name": "stdout"
        }
      ]
    },
    {
      "cell_type": "markdown",
      "metadata": {
        "id": "mntDynY0Vqf-"
      },
      "source": [
        "## Building the dataset"
      ]
    },
    {
      "cell_type": "code",
      "metadata": {
        "id": "QFNe8ZCscT5l"
      },
      "source": [
        "# Build the vector representation that is given as input to our model, by taking the word embeddings for each token in each of the two sentences,\n",
        "# considering just the words that are in the dictionary and that are not stopwords, computing their means, and concatenating them.\n",
        "# With two flags, glove and mixed, we handle the use of the 3 different dictionaries. In the case of the combined word embeddings, we first concatenate\n",
        "# the word embeddings of the two sentences and then we compute the mean of their concatenation, so that in all 3 cases we have a 600-dimensional vector.\n",
        "\n",
        "def sentence2vec(sentence1:str, sentence2: str, glove: bool, mixed: bool):\n",
        "  if mixed:\n",
        "    sentence_vector1 = [glove_w2v_dict[word] for word in word_tokenize(sentence1) if word in glove_w2v_dict and word not in stopwords.words('english')]\n",
        "    sentence_vector2 = [glove_w2v_dict[word] for word in word_tokenize(sentence2) if word in glove_w2v_dict and word not in stopwords.words('english')]\n",
        "\n",
        "    if len(sentence_vector1) == 0 or  len(sentence_vector2) == 0:\n",
        "      return None\n",
        "\n",
        "    sentence_vector = sentence_vector1 + sentence_vector2\n",
        "    sentence_vector = torch.stack(sentence_vector)\n",
        "\n",
        "    return torch.mean(sentence_vector, dim=0)\n",
        "\n",
        "  else:\n",
        "    if glove:\n",
        "      sentence_vector1 = [glove_dict[word] for word in word_tokenize(sentence1) if word in glove_dict and word not in stopwords.words('english')]\n",
        "      sentence_vector2 = [glove_dict[word] for word in word_tokenize(sentence2) if word in glove_dict and word not in stopwords.words('english')]\n",
        "\n",
        "    else:\n",
        "      sentence_vector1 = [word2vec_dict[word] for word in word_tokenize(sentence1) if word in word2vec_dict and word not in stopwords.words('english')]\n",
        "      sentence_vector2 = [word2vec_dict[word] for word in word_tokenize(sentence2) if word in word2vec_dict and word not in stopwords.words('english')]\n",
        "\n",
        "    if len(sentence_vector1) == 0 or  len(sentence_vector2) == 0:\n",
        "      return None\n",
        "\n",
        "    sentence_vector1 = torch.stack(sentence_vector1)\n",
        "    sentence_vector2 = torch.stack(sentence_vector2)\n",
        "\n",
        "    mean1 = torch.mean(sentence_vector1, dim=0)\n",
        "    mean2 = torch.mean(sentence_vector2, dim=0)\n",
        "\n",
        "    return torch.cat((mean1, mean2), 0)"
      ],
      "execution_count": 33,
      "outputs": []
    },
    {
      "cell_type": "code",
      "metadata": {
        "id": "xocsGGemdF0E"
      },
      "source": [
        "class WordInContextDataset(Dataset):\n",
        "  \n",
        "  def __init__(self, data_path, sentence2vec, glove=True, mixed=False):\n",
        "    self.data = []\n",
        "    self.glove = glove\n",
        "    self.mixed = mixed\n",
        "    self.create_samples(data_path, sentence2vec)\n",
        "\n",
        "  def create_samples(self, data_path, sentence2vec):\n",
        "\n",
        "    with open(data_path) as f:\n",
        "      for line in json_lines.reader(f):\n",
        "        sentence1 = preprocess_sentence(line['sentence1'])\n",
        "        sentence2 = preprocess_sentence(line['sentence2'])\n",
        "\n",
        "        sentence_vector = sentence2vec(sentence1, sentence2, glove=self.glove, mixed=self.mixed)\n",
        "\n",
        "        if sentence_vector is None:\n",
        "          continue\n",
        "\n",
        "        label = line['label']\n",
        "        if label == 'True':\n",
        "          label = 1.0\n",
        "        else:\n",
        "          label = 0.0\n",
        "        \n",
        "        self.data.append((sentence_vector, label))\n",
        "\n",
        "  def __len__(self):\n",
        "    return len(self.data)\n",
        "\n",
        "  def __getitem__(self, idx):\n",
        "    return self.data[idx]"
      ],
      "execution_count": 34,
      "outputs": []
    },
    {
      "cell_type": "code",
      "metadata": {
        "id": "vxNZxC7Aewh3"
      },
      "source": [
        "# create dataset using GloVe word embeddings\n",
        "train_dataset_glove = WordInContextDataset(path_to_train_data, sentence2vec)\n",
        "val_dataset_glove = WordInContextDataset(path_to_val_data, sentence2vec)\n",
        "\n",
        "train_dataloader_glove = DataLoader(train_dataset_glove, batch_size=16)\n",
        "val_dataloader_glove = DataLoader(val_dataset_glove, batch_size=16)"
      ],
      "execution_count": 35,
      "outputs": []
    },
    {
      "cell_type": "code",
      "metadata": {
        "id": "My17SV7mgKoV"
      },
      "source": [
        "# create dataset using Word2Vec word embeddings\n",
        "train_dataset_w2v = WordInContextDataset(path_to_train_data, sentence2vec, glove = False)\n",
        "val_dataset_w2v = WordInContextDataset(path_to_val_data, sentence2vec, glove = False)\n",
        "\n",
        "train_dataloader_w2v = DataLoader(train_dataset_w2v, batch_size=16)\n",
        "val_dataloader_w2v = DataLoader(val_dataset_w2v, batch_size=16)"
      ],
      "execution_count": 36,
      "outputs": []
    },
    {
      "cell_type": "code",
      "metadata": {
        "id": "uaYdl3eBWULi"
      },
      "source": [
        "# create dataset using GloVe and Word2Vec word embeddings\n",
        "train_dataset_mixed = WordInContextDataset(path_to_train_data, sentence2vec, mixed=True)\n",
        "val_dataset_mixed = WordInContextDataset(path_to_val_data, sentence2vec, mixed=True)\n",
        "\n",
        "train_dataloader_mixed = DataLoader(train_dataset_mixed, batch_size=16)\n",
        "val_dataloader_mixed = DataLoader(val_dataset_mixed, batch_size=16)"
      ],
      "execution_count": 37,
      "outputs": []
    },
    {
      "cell_type": "markdown",
      "metadata": {
        "id": "L5S4zbrTVtxP"
      },
      "source": [
        "## Building the classifier"
      ]
    },
    {
      "cell_type": "code",
      "metadata": {
        "id": "e0Q3ZUT1gh2F"
      },
      "source": [
        "class Classifier(nn.Module):\n",
        "  def __init__(self, input_features, hidden_size, output_classes):\n",
        "    super().__init__()\n",
        "    self.global_epoch = 0\n",
        "\n",
        "    self.lin1 = nn.Linear(input_features, hidden_size)\n",
        "    self.lin2 = nn.Linear(hidden_size, output_classes)\n",
        "\n",
        "    self.prelu = nn.PReLU()\n",
        "    self.loss_fn = nn.BCELoss()\n",
        "\n",
        "  def forward(self, x, y=None):\n",
        "    out = self.lin1(x)\n",
        "    out = self.prelu(out)\n",
        "    out = self.lin2(out).squeeze(1)\n",
        "    out = torch.sigmoid(out)\n",
        "\n",
        "    result = {'pred': out}\n",
        "\n",
        "    if y is not None:\n",
        "      loss = self.loss(out, y.float())\n",
        "      result['loss'] = loss\n",
        "\n",
        "    return result\n",
        "  \n",
        "  def loss(self, pred, y):\n",
        "    return self.loss_fn(pred, y)"
      ],
      "execution_count": 38,
      "outputs": []
    },
    {
      "cell_type": "code",
      "metadata": {
        "id": "GhLDAI3OlKHE"
      },
      "source": [
        "def evaluate_model(model: nn.Module, dataloader: DataLoader):\n",
        "  losses = []\n",
        "  predictions = []\n",
        "  labels = []\n",
        "  n = 0\n",
        "  d = 0\n",
        "\n",
        "  for x, y in dataloader:\n",
        "    outputs = model(x,y)\n",
        "    loss = outputs['loss']\n",
        "    losses.append(loss)\n",
        "    pred = outputs['pred']\n",
        "    pred = torch.round(pred)\n",
        "    predictions.append(pred)\n",
        "    labels.append(y)\n",
        "\n",
        "    d += pred.shape[0]\n",
        "    n += (y == pred).int().sum()\n",
        "    \n",
        "  mean_loss = sum(losses) / len(losses)\n",
        "  mean_accuracy = (n / d).item()\n",
        "\n",
        "  return {'loss': mean_loss, 'accuracy': mean_accuracy}"
      ],
      "execution_count": 39,
      "outputs": []
    },
    {
      "cell_type": "code",
      "metadata": {
        "id": "K4XNGpglgm9M"
      },
      "source": [
        "def train_and_evaluate(model: nn.Module, optimizer: torch.optim.Optimizer, \n",
        "                       train_dataloader: DataLoader, epochs: int = 5,\n",
        "                       valid_dataloader: DataLoader = None, valid_fn: Callable = None,\n",
        "                       verbose: bool = True):\n",
        "  train_acc = []\n",
        "  train_loss = []\n",
        "  val_acc = []\n",
        "  val_loss = []\n",
        "\n",
        "  min_val_loss = np.Inf \n",
        "  stop_epochs = 5\n",
        "  no_improvement = 0\n",
        "\n",
        "  for epoch in range(epochs):\n",
        "    losses = []\n",
        "    predictions = []\n",
        "    labels = []\n",
        "    n = 0\n",
        "    d = 0\n",
        "\n",
        "    # batches of the training set\n",
        "    for x, y in train_dataloader:\n",
        "      optimizer.zero_grad()\n",
        "      batch_out = model(x, y)\n",
        "      loss = batch_out['loss']\n",
        "      losses.append(loss)\n",
        "      pred = batch_out['pred']\n",
        "      pred = torch.round(pred)\n",
        "      predictions.append(pred)\n",
        "      labels.append(y)\n",
        "\n",
        "      d += pred.shape[0]\n",
        "      n += (y == pred).int().sum()\n",
        "\n",
        "      # computes the gradient of the loss\n",
        "      loss.backward()\n",
        "      # update parameters based on the gradient information\n",
        "      optimizer.step()\n",
        "\n",
        "    model.global_epoch += 1\n",
        "    mean_loss = sum(losses) / len(losses)\n",
        "    mean_accuracy = (n / d).item()\n",
        "\n",
        "    train_loss.append(mean_loss.item())\n",
        "    train_acc.append(mean_accuracy)\n",
        "\n",
        "    if verbose or epoch == epochs - 1:\n",
        "      print(f' Epoch {model.global_epoch:3d} => Loss: {mean_loss:0.6f} | Accuracy: {mean_accuracy:0.2f}')\n",
        "    \n",
        "    if verbose and valid_dataloader:\n",
        "      assert valid_fn is not None\n",
        "      valid_output = valid_fn(model, valid_dataloader)\n",
        "      valid_loss = valid_output['loss']\n",
        "      valid_accuracy = valid_output['accuracy']\n",
        "      val_loss.append(valid_loss.item())\n",
        "      val_acc.append(valid_accuracy)\n",
        "      print(f' Validation loss: {valid_loss:0.6f}, Validation accuracy: {valid_accuracy:0.2f}')\n",
        "      print()\n",
        "\n",
        "    # EARLY STOPPING: \n",
        "    # - If the valid loss is less or equal than the minimum loss obtained until now we set\n",
        "    #   no_improvement=0 and we update min_val_loss to the current value.\n",
        "    # - Otherwise we increase no_improvement by 1.\n",
        "    # When no_improvement is equal to stop_epochs, we stop the training.\n",
        "    \n",
        "    if valid_loss <= min_val_loss:\n",
        "      no_improvement = 0\n",
        "      min_val_loss = valid_loss\n",
        "    else:\n",
        "      no_improvement += 1\n",
        "\n",
        "    if no_improvement == stop_epochs:\n",
        "      print('Early stopping!')\n",
        "      break\n",
        "    else:\n",
        "      continue\n",
        "\n",
        "  return {'train_acc': train_acc, 'train_loss': train_loss, 'val_acc': val_acc, 'val_loss': val_loss}"
      ],
      "execution_count": 40,
      "outputs": []
    },
    {
      "cell_type": "markdown",
      "metadata": {
        "id": "yDig_iEtVzO1"
      },
      "source": [
        "## Training the model with Glove"
      ]
    },
    {
      "cell_type": "code",
      "metadata": {
        "colab": {
          "base_uri": "https://localhost:8080/"
        },
        "id": "4bmXwEOgdxEE",
        "outputId": "0b02a96a-4331-4021-92e8-f82b306e0d9d"
      },
      "source": [
        "glove_model = Classifier(input_features=600, hidden_size=64, output_classes=1)\n",
        "optimizer = torch.optim.Adam(glove_model.parameters(), lr=0.0002, betas=(0.85, 0.999))\n",
        "\n",
        "glove_logs = train_and_evaluate(model=glove_model, optimizer=optimizer,\n",
        "                          train_dataloader=train_dataloader_glove,\n",
        "                          valid_dataloader=val_dataloader_glove,\n",
        "                          valid_fn=evaluate_model,\n",
        "                          epochs=50)"
      ],
      "execution_count": 41,
      "outputs": [
        {
          "output_type": "stream",
          "text": [
            " Epoch   1 => Loss: 0.693476 | Accuracy: 0.51\n",
            " Validation loss: 0.686548, Validation accuracy: 0.59\n",
            "\n",
            " Epoch   2 => Loss: 0.686790 | Accuracy: 0.55\n",
            " Validation loss: 0.680285, Validation accuracy: 0.59\n",
            "\n",
            " Epoch   3 => Loss: 0.679401 | Accuracy: 0.57\n",
            " Validation loss: 0.674067, Validation accuracy: 0.59\n",
            "\n",
            " Epoch   4 => Loss: 0.670430 | Accuracy: 0.59\n",
            " Validation loss: 0.667216, Validation accuracy: 0.60\n",
            "\n",
            " Epoch   5 => Loss: 0.659876 | Accuracy: 0.61\n",
            " Validation loss: 0.659464, Validation accuracy: 0.63\n",
            "\n",
            " Epoch   6 => Loss: 0.647871 | Accuracy: 0.63\n",
            " Validation loss: 0.651026, Validation accuracy: 0.63\n",
            "\n",
            " Epoch   7 => Loss: 0.634344 | Accuracy: 0.65\n",
            " Validation loss: 0.641938, Validation accuracy: 0.64\n",
            "\n",
            " Epoch   8 => Loss: 0.619719 | Accuracy: 0.67\n",
            " Validation loss: 0.632686, Validation accuracy: 0.64\n",
            "\n",
            " Epoch   9 => Loss: 0.604534 | Accuracy: 0.69\n",
            " Validation loss: 0.624172, Validation accuracy: 0.65\n",
            "\n",
            " Epoch  10 => Loss: 0.589093 | Accuracy: 0.70\n",
            " Validation loss: 0.616539, Validation accuracy: 0.66\n",
            "\n",
            " Epoch  11 => Loss: 0.573693 | Accuracy: 0.72\n",
            " Validation loss: 0.610367, Validation accuracy: 0.66\n",
            "\n",
            " Epoch  12 => Loss: 0.558413 | Accuracy: 0.73\n",
            " Validation loss: 0.605188, Validation accuracy: 0.67\n",
            "\n",
            " Epoch  13 => Loss: 0.543256 | Accuracy: 0.74\n",
            " Validation loss: 0.601023, Validation accuracy: 0.67\n",
            "\n",
            " Epoch  14 => Loss: 0.528089 | Accuracy: 0.75\n",
            " Validation loss: 0.598072, Validation accuracy: 0.67\n",
            "\n",
            " Epoch  15 => Loss: 0.512804 | Accuracy: 0.77\n",
            " Validation loss: 0.595793, Validation accuracy: 0.67\n",
            "\n",
            " Epoch  16 => Loss: 0.497591 | Accuracy: 0.78\n",
            " Validation loss: 0.594360, Validation accuracy: 0.68\n",
            "\n",
            " Epoch  17 => Loss: 0.482360 | Accuracy: 0.79\n",
            " Validation loss: 0.593320, Validation accuracy: 0.67\n",
            "\n",
            " Epoch  18 => Loss: 0.467035 | Accuracy: 0.80\n",
            " Validation loss: 0.593170, Validation accuracy: 0.67\n",
            "\n",
            " Epoch  19 => Loss: 0.451539 | Accuracy: 0.81\n",
            " Validation loss: 0.593995, Validation accuracy: 0.67\n",
            "\n",
            " Epoch  20 => Loss: 0.436148 | Accuracy: 0.82\n",
            " Validation loss: 0.595412, Validation accuracy: 0.68\n",
            "\n",
            " Epoch  21 => Loss: 0.420646 | Accuracy: 0.83\n",
            " Validation loss: 0.597505, Validation accuracy: 0.68\n",
            "\n",
            " Epoch  22 => Loss: 0.405310 | Accuracy: 0.84\n",
            " Validation loss: 0.600746, Validation accuracy: 0.67\n",
            "\n",
            " Epoch  23 => Loss: 0.390013 | Accuracy: 0.85\n",
            " Validation loss: 0.604440, Validation accuracy: 0.67\n",
            "\n",
            "Early stopping!\n"
          ],
          "name": "stdout"
        }
      ]
    },
    {
      "cell_type": "code",
      "metadata": {
        "id": "49fanIF2zpw_"
      },
      "source": [
        "OUTPUT_PATH = '/content/drive/MyDrive/NLP/Homework1/models/pretrained_glove_69_1.pth'\n",
        "#torch.save(glove_model.state_dict(), OUTPUT_PATH)"
      ],
      "execution_count": 42,
      "outputs": []
    },
    {
      "cell_type": "markdown",
      "metadata": {
        "id": "N3TJ3Xw8Yubw"
      },
      "source": [
        "## Training the model using Word2Vec pretrained embeddings"
      ]
    },
    {
      "cell_type": "code",
      "metadata": {
        "colab": {
          "base_uri": "https://localhost:8080/"
        },
        "id": "zDuK-3r0Y3L_",
        "outputId": "fdfc398e-6c2e-4e81-b003-986199f03568"
      },
      "source": [
        "w2v_model = Classifier(input_features=600, hidden_size=64, output_classes=1)\n",
        "optimizer = torch.optim.Adam(w2v_model.parameters(), lr=0.0002, betas=(0.85, 0.999))\n",
        "\n",
        "w2v_logs = train_and_evaluate(model=w2v_model, optimizer=optimizer,\n",
        "                          train_dataloader=train_dataloader_w2v,\n",
        "                          valid_dataloader=val_dataloader_w2v,\n",
        "                          valid_fn=evaluate_model,\n",
        "                          epochs=50)"
      ],
      "execution_count": 43,
      "outputs": [
        {
          "output_type": "stream",
          "text": [
            " Epoch   1 => Loss: 0.694420 | Accuracy: 0.51\n",
            " Validation loss: 0.692767, Validation accuracy: 0.50\n",
            "\n",
            " Epoch   2 => Loss: 0.693563 | Accuracy: 0.51\n",
            " Validation loss: 0.692291, Validation accuracy: 0.52\n",
            "\n",
            " Epoch   3 => Loss: 0.692854 | Accuracy: 0.52\n",
            " Validation loss: 0.691763, Validation accuracy: 0.54\n",
            "\n",
            " Epoch   4 => Loss: 0.692102 | Accuracy: 0.53\n",
            " Validation loss: 0.691284, Validation accuracy: 0.55\n",
            "\n",
            " Epoch   5 => Loss: 0.691320 | Accuracy: 0.53\n",
            " Validation loss: 0.690768, Validation accuracy: 0.54\n",
            "\n",
            " Epoch   6 => Loss: 0.690452 | Accuracy: 0.54\n",
            " Validation loss: 0.690320, Validation accuracy: 0.54\n",
            "\n",
            " Epoch   7 => Loss: 0.689564 | Accuracy: 0.54\n",
            " Validation loss: 0.689880, Validation accuracy: 0.54\n",
            "\n",
            " Epoch   8 => Loss: 0.688578 | Accuracy: 0.54\n",
            " Validation loss: 0.689496, Validation accuracy: 0.53\n",
            "\n",
            " Epoch   9 => Loss: 0.687462 | Accuracy: 0.54\n",
            " Validation loss: 0.689188, Validation accuracy: 0.52\n",
            "\n",
            " Epoch  10 => Loss: 0.686092 | Accuracy: 0.54\n",
            " Validation loss: 0.688972, Validation accuracy: 0.52\n",
            "\n",
            " Epoch  11 => Loss: 0.684903 | Accuracy: 0.55\n",
            " Validation loss: 0.688842, Validation accuracy: 0.53\n",
            "\n",
            " Epoch  12 => Loss: 0.683546 | Accuracy: 0.55\n",
            " Validation loss: 0.688740, Validation accuracy: 0.53\n",
            "\n",
            " Epoch  13 => Loss: 0.682038 | Accuracy: 0.55\n",
            " Validation loss: 0.688774, Validation accuracy: 0.53\n",
            "\n",
            " Epoch  14 => Loss: 0.680521 | Accuracy: 0.56\n",
            " Validation loss: 0.688857, Validation accuracy: 0.54\n",
            "\n",
            " Epoch  15 => Loss: 0.678958 | Accuracy: 0.56\n",
            " Validation loss: 0.689002, Validation accuracy: 0.54\n",
            "\n",
            " Epoch  16 => Loss: 0.677189 | Accuracy: 0.56\n",
            " Validation loss: 0.689253, Validation accuracy: 0.54\n",
            "\n",
            " Epoch  17 => Loss: 0.675299 | Accuracy: 0.57\n",
            " Validation loss: 0.689499, Validation accuracy: 0.53\n",
            "\n",
            "Early stopping!\n"
          ],
          "name": "stdout"
        }
      ]
    },
    {
      "cell_type": "code",
      "metadata": {
        "id": "3KDDiDXyY3ME"
      },
      "source": [
        "#OUTPUT_PATH = '/content/drive/MyDrive/NLP/Homework1/models/pretrained_w2v.pth'\n",
        "#torch.save(w2v_model.state_dict(), OUTPUT_PATH)"
      ],
      "execution_count": 44,
      "outputs": []
    },
    {
      "cell_type": "markdown",
      "metadata": {
        "id": "5F5thRfvZJkx"
      },
      "source": [
        "## Training the model using Glove and Word2Vec pretrained embeddings"
      ]
    },
    {
      "cell_type": "code",
      "metadata": {
        "colab": {
          "base_uri": "https://localhost:8080/"
        },
        "id": "ocxIgwJoZYyK",
        "outputId": "a9423b33-3a4d-4410-a0d6-6a1c56cd5e6c"
      },
      "source": [
        "mixed_model = Classifier(input_features=600, hidden_size=64, output_classes=1)\n",
        "optimizer = torch.optim.Adam(mixed_model.parameters(), lr=0.0002, betas=(0.85, 0.999))\n",
        "\n",
        "mixed_logs = train_and_evaluate(model=mixed_model, optimizer=optimizer,\n",
        "                          train_dataloader=train_dataloader_mixed,\n",
        "                          valid_dataloader=val_dataloader_mixed,\n",
        "                          valid_fn=evaluate_model,\n",
        "                          epochs=50)"
      ],
      "execution_count": 45,
      "outputs": [
        {
          "output_type": "stream",
          "text": [
            " Epoch   1 => Loss: 0.693865 | Accuracy: 0.51\n",
            " Validation loss: 0.689736, Validation accuracy: 0.57\n",
            "\n",
            " Epoch   2 => Loss: 0.691422 | Accuracy: 0.53\n",
            " Validation loss: 0.687021, Validation accuracy: 0.57\n",
            "\n",
            " Epoch   3 => Loss: 0.689158 | Accuracy: 0.54\n",
            " Validation loss: 0.684407, Validation accuracy: 0.57\n",
            "\n",
            " Epoch   4 => Loss: 0.686622 | Accuracy: 0.55\n",
            " Validation loss: 0.682226, Validation accuracy: 0.57\n",
            "\n",
            " Epoch   5 => Loss: 0.683691 | Accuracy: 0.56\n",
            " Validation loss: 0.680014, Validation accuracy: 0.57\n",
            "\n",
            " Epoch   6 => Loss: 0.680414 | Accuracy: 0.58\n",
            " Validation loss: 0.677737, Validation accuracy: 0.58\n",
            "\n",
            " Epoch   7 => Loss: 0.676818 | Accuracy: 0.59\n",
            " Validation loss: 0.675380, Validation accuracy: 0.59\n",
            "\n",
            " Epoch   8 => Loss: 0.673093 | Accuracy: 0.59\n",
            " Validation loss: 0.673128, Validation accuracy: 0.59\n",
            "\n",
            " Epoch   9 => Loss: 0.669190 | Accuracy: 0.60\n",
            " Validation loss: 0.670920, Validation accuracy: 0.60\n",
            "\n",
            " Epoch  10 => Loss: 0.665207 | Accuracy: 0.60\n",
            " Validation loss: 0.668890, Validation accuracy: 0.60\n",
            "\n",
            " Epoch  11 => Loss: 0.661133 | Accuracy: 0.61\n",
            " Validation loss: 0.666724, Validation accuracy: 0.61\n",
            "\n",
            " Epoch  12 => Loss: 0.656887 | Accuracy: 0.61\n",
            " Validation loss: 0.664735, Validation accuracy: 0.61\n",
            "\n",
            " Epoch  13 => Loss: 0.652668 | Accuracy: 0.62\n",
            " Validation loss: 0.662786, Validation accuracy: 0.61\n",
            "\n",
            " Epoch  14 => Loss: 0.648333 | Accuracy: 0.62\n",
            " Validation loss: 0.661091, Validation accuracy: 0.61\n",
            "\n",
            " Epoch  15 => Loss: 0.643941 | Accuracy: 0.63\n",
            " Validation loss: 0.659301, Validation accuracy: 0.61\n",
            "\n",
            " Epoch  16 => Loss: 0.639348 | Accuracy: 0.64\n",
            " Validation loss: 0.657753, Validation accuracy: 0.62\n",
            "\n",
            " Epoch  17 => Loss: 0.634791 | Accuracy: 0.64\n",
            " Validation loss: 0.656311, Validation accuracy: 0.63\n",
            "\n",
            " Epoch  18 => Loss: 0.630210 | Accuracy: 0.65\n",
            " Validation loss: 0.654935, Validation accuracy: 0.63\n",
            "\n",
            " Epoch  19 => Loss: 0.625576 | Accuracy: 0.66\n",
            " Validation loss: 0.653539, Validation accuracy: 0.63\n",
            "\n",
            " Epoch  20 => Loss: 0.620745 | Accuracy: 0.66\n",
            " Validation loss: 0.652326, Validation accuracy: 0.62\n",
            "\n",
            " Epoch  21 => Loss: 0.615772 | Accuracy: 0.67\n",
            " Validation loss: 0.651369, Validation accuracy: 0.62\n",
            "\n",
            " Epoch  22 => Loss: 0.610840 | Accuracy: 0.67\n",
            " Validation loss: 0.650192, Validation accuracy: 0.62\n",
            "\n",
            " Epoch  23 => Loss: 0.605386 | Accuracy: 0.68\n",
            " Validation loss: 0.649308, Validation accuracy: 0.63\n",
            "\n",
            " Epoch  24 => Loss: 0.599812 | Accuracy: 0.68\n",
            " Validation loss: 0.648621, Validation accuracy: 0.63\n",
            "\n",
            " Epoch  25 => Loss: 0.594280 | Accuracy: 0.69\n",
            " Validation loss: 0.648120, Validation accuracy: 0.63\n",
            "\n",
            " Epoch  26 => Loss: 0.588543 | Accuracy: 0.70\n",
            " Validation loss: 0.647639, Validation accuracy: 0.64\n",
            "\n",
            " Epoch  27 => Loss: 0.582632 | Accuracy: 0.70\n",
            " Validation loss: 0.646978, Validation accuracy: 0.64\n",
            "\n",
            " Epoch  28 => Loss: 0.576714 | Accuracy: 0.71\n",
            " Validation loss: 0.646794, Validation accuracy: 0.64\n",
            "\n",
            " Epoch  29 => Loss: 0.570716 | Accuracy: 0.71\n",
            " Validation loss: 0.646580, Validation accuracy: 0.64\n",
            "\n",
            " Epoch  30 => Loss: 0.564568 | Accuracy: 0.72\n",
            " Validation loss: 0.645995, Validation accuracy: 0.64\n",
            "\n",
            " Epoch  31 => Loss: 0.558427 | Accuracy: 0.73\n",
            " Validation loss: 0.646049, Validation accuracy: 0.63\n",
            "\n",
            " Epoch  32 => Loss: 0.552283 | Accuracy: 0.73\n",
            " Validation loss: 0.646528, Validation accuracy: 0.63\n",
            "\n",
            " Epoch  33 => Loss: 0.545981 | Accuracy: 0.74\n",
            " Validation loss: 0.646762, Validation accuracy: 0.63\n",
            "\n",
            " Epoch  34 => Loss: 0.539616 | Accuracy: 0.74\n",
            " Validation loss: 0.646833, Validation accuracy: 0.63\n",
            "\n",
            " Epoch  35 => Loss: 0.533215 | Accuracy: 0.75\n",
            " Validation loss: 0.647444, Validation accuracy: 0.63\n",
            "\n",
            "Early stopping!\n"
          ],
          "name": "stdout"
        }
      ]
    },
    {
      "cell_type": "code",
      "metadata": {
        "id": "1y2ZgY57ZYyL"
      },
      "source": [
        "#OUTPUT_PATH = '/content/drive/MyDrive/NLP/Homework1/models/pretrained_mixed.pth'\n",
        "#torch.save(mixed_model.state_dict(), OUTPUT_PATH)"
      ],
      "execution_count": 46,
      "outputs": []
    },
    {
      "cell_type": "markdown",
      "metadata": {
        "id": "Xx1aQ-alV1yV"
      },
      "source": [
        "## Evaluating the models"
      ]
    },
    {
      "cell_type": "code",
      "metadata": {
        "id": "Ey2Z-JlxG-O7"
      },
      "source": [
        "def overall_validation_performance(model, val_dataloader):\n",
        "  n = 0\n",
        "  d = 0\n",
        "\n",
        "  for x, y in val_dataloader:\n",
        "    with torch.no_grad():\n",
        "      batch_out = model(x)\n",
        "      pred = batch_out['pred']\n",
        "\n",
        "    pred = torch.round(pred)\n",
        "    d += pred.shape[0]\n",
        "    n += (y == pred).int().sum()\n",
        "\n",
        "  print(f'# accuracy: {(n / d).item():.2f}')"
      ],
      "execution_count": 47,
      "outputs": []
    },
    {
      "cell_type": "code",
      "metadata": {
        "id": "qPb1w4tj1ioe"
      },
      "source": [
        "def plot_metrics(logs):\n",
        "  plt.figure(figsize=(15,3))\n",
        "  plt.subplot(1, 2, 1)\n",
        "  plt.plot(logs['train_acc'],'-')\n",
        "  plt.plot(logs['val_acc'],'-')\n",
        "  plt.xlabel('epoch', fontsize=14)\n",
        "  plt.ylabel('accuracy', fontsize=14)\n",
        "  plt.legend(['Train','Valid'])\n",
        "  plt.title('Train vs Valid Accuracy', fontsize=16)\n",
        "\n",
        "  plt.subplot(1, 2, 2)\n",
        "  plt.plot(logs['train_loss'],'-')\n",
        "  plt.plot(logs['val_loss'],'-')\n",
        "  plt.xlabel('epoch', fontsize=14)\n",
        "  plt.ylabel('loss', fontsize=14)\n",
        "  plt.legend(['Train','Valid'])\n",
        "  plt.title('Train vs Valid Loss', fontsize=16)"
      ],
      "execution_count": 48,
      "outputs": []
    },
    {
      "cell_type": "markdown",
      "metadata": {
        "id": "MlHNHCcwZkcG"
      },
      "source": [
        "### Glove"
      ]
    },
    {
      "cell_type": "code",
      "metadata": {
        "colab": {
          "base_uri": "https://localhost:8080/"
        },
        "id": "PPEXcDSxd4wm",
        "outputId": "c6b63513-05b5-415e-bac2-97be8469bfde"
      },
      "source": [
        "overall_validation_performance(glove_model, val_dataloader_glove)"
      ],
      "execution_count": 63,
      "outputs": [
        {
          "output_type": "stream",
          "text": [
            "# accuracy: 0.67\n"
          ],
          "name": "stdout"
        }
      ]
    },
    {
      "cell_type": "code",
      "metadata": {
        "colab": {
          "base_uri": "https://localhost:8080/",
          "height": 247
        },
        "id": "0hOv6WA93_OH",
        "outputId": "45618db7-872b-4c63-cc6f-7a17bcf282bd"
      },
      "source": [
        "plot_metrics(glove_logs)"
      ],
      "execution_count": 50,
      "outputs": [
        {
          "output_type": "display_data",
          "data": {
            "image/png": "[encoded data removed]",
            "text/plain": [
              "<Figure size 1080x216 with 2 Axes>"
            ]
          },
          "metadata": {
            "tags": [],
            "needs_background": "light"
          }
        }
      ]
    },
    {
      "cell_type": "markdown",
      "metadata": {
        "id": "IPIoXNESaRE2"
      },
      "source": [
        "### Word2Vec"
      ]
    },
    {
      "cell_type": "code",
      "metadata": {
        "colab": {
          "base_uri": "https://localhost:8080/"
        },
        "id": "0yQpYb8taEjc",
        "outputId": "556ff298-dcbd-44d5-8e5a-59399aaa9fec"
      },
      "source": [
        "overall_validation_performance(w2v_model, val_dataloader_w2v)"
      ],
      "execution_count": 51,
      "outputs": [
        {
          "output_type": "stream",
          "text": [
            "# accuracy: 0.53\n"
          ],
          "name": "stdout"
        }
      ]
    },
    {
      "cell_type": "code",
      "metadata": {
        "colab": {
          "base_uri": "https://localhost:8080/",
          "height": 247
        },
        "id": "9mJ7zQiCaGmu",
        "outputId": "7214401a-f48b-4923-9e77-3d501b155651"
      },
      "source": [
        "plot_metrics(w2v_logs)"
      ],
      "execution_count": 52,
      "outputs": [
        {
          "output_type": "display_data",
          "data": {
            "image/png": "[encoded data removed]",
            "text/plain": [
              "<Figure size 1080x216 with 2 Axes>"
            ]
          },
          "metadata": {
            "tags": [],
            "needs_background": "light"
          }
        }
      ]
    },
    {
      "cell_type": "markdown",
      "metadata": {
        "id": "-QR90bP7aSxs"
      },
      "source": [
        "### Glove and Word2Vec"
      ]
    },
    {
      "cell_type": "code",
      "metadata": {
        "colab": {
          "base_uri": "https://localhost:8080/"
        },
        "id": "jD5J4dsGaMid",
        "outputId": "c00badd5-0fd2-4ff3-89a3-48722ef9dcd3"
      },
      "source": [
        "overall_validation_performance(mixed_model, val_dataloader_mixed)"
      ],
      "execution_count": 53,
      "outputs": [
        {
          "output_type": "stream",
          "text": [
            "# accuracy: 0.63\n"
          ],
          "name": "stdout"
        }
      ]
    },
    {
      "cell_type": "code",
      "metadata": {
        "colab": {
          "base_uri": "https://localhost:8080/",
          "height": 247
        },
        "id": "KrEd9m3KaMid",
        "outputId": "5a545a85-ddbe-4110-d2a5-94a495cdce08"
      },
      "source": [
        "plot_metrics(mixed_logs)"
      ],
      "execution_count": 54,
      "outputs": [
        {
          "output_type": "display_data",
          "data": {
            "image/png": "[encoded data removed]",
            "text/plain": [
              "<Figure size 1080x216 with 2 Axes>"
            ]
          },
          "metadata": {
            "tags": [],
            "needs_background": "light"
          }
        }
      ]
    }
  ]
}