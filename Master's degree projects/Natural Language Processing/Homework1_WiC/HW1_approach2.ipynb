{
  "nbformat": 4,
  "nbformat_minor": 0,
  "metadata": {
    "colab": {
      "name": "NLP_homework1_approach2.ipynb",
      "provenance": [],
      "collapsed_sections": []
    },
    "kernelspec": {
      "name": "python3",
      "display_name": "Python 3"
    },
    "language_info": {
      "name": "python"
    },
    "accelerator": "GPU"
  },
  "cells": [
    {
      "cell_type": "markdown",
      "metadata": {
        "id": "bS51WYyMV07e"
      },
      "source": [
        "# Second approach"
      ]
    },
    {
      "cell_type": "code",
      "metadata": {
        "colab": {
          "base_uri": "https://localhost:8080/"
        },
        "id": "s2tEX_as3Iex",
        "outputId": "cd8d9ce8-9702-42dc-c650-5cd22414e466"
      },
      "source": [
        "!python -m pip install json-lines"
      ],
      "execution_count": null,
      "outputs": [
        {
          "output_type": "stream",
          "text": [
            "Collecting json-lines\n",
            "  Downloading https://files.pythonhosted.org/packages/7f/0f/79c96c0d26b276c583484fe8209e5ebbb416a920309568650325f6e1de73/json_lines-0.5.0-py2.py3-none-any.whl\n",
            "Requirement already satisfied: six in /usr/local/lib/python3.7/dist-packages (from json-lines) (1.15.0)\n",
            "Installing collected packages: json-lines\n",
            "Successfully installed json-lines-0.5.0\n"
          ],
          "name": "stdout"
        }
      ]
    },
    {
      "cell_type": "code",
      "metadata": {
        "id": "ywmzx9-c4R-M",
        "colab": {
          "base_uri": "https://localhost:8080/"
        },
        "outputId": "0ff18a4d-2c0a-4bd4-fa28-d4540c04388a"
      },
      "source": [
        "import matplotlib.pyplot as plt\n",
        "from torch.utils.data import Dataset, DataLoader\n",
        "\n",
        "import nltk\n",
        "nltk.download('punkt')\n",
        "nltk.download('stopwords')\n",
        "nltk.download('wordnet')\n",
        "from nltk.corpus import stopwords, wordnet\n",
        "from nltk.tokenize import word_tokenize\n",
        "from nltk.stem import WordNetLemmatizer\n",
        "\n",
        "from collections import defaultdict\n",
        "from typing import Callable\n",
        "import torch.nn as nn\n",
        "import numpy as np\n",
        "import collections\n",
        "import torch\n",
        "import json_lines\n",
        "import os\n",
        "import re\n",
        "\n",
        "from tqdm.auto import tqdm"
      ],
      "execution_count": null,
      "outputs": [
        {
          "output_type": "stream",
          "text": [
            "[nltk_data] Downloading package punkt to /root/nltk_data...\n",
            "[nltk_data]   Unzipping tokenizers/punkt.zip.\n",
            "[nltk_data] Downloading package stopwords to /root/nltk_data...\n",
            "[nltk_data]   Unzipping corpora/stopwords.zip.\n",
            "[nltk_data] Downloading package wordnet to /root/nltk_data...\n",
            "[nltk_data]   Unzipping corpora/wordnet.zip.\n"
          ],
          "name": "stdout"
        }
      ]
    },
    {
      "cell_type": "code",
      "metadata": {
        "id": "CooFj3ZN5IQJ"
      },
      "source": [
        "device = torch.device(\"cuda\" if torch.cuda.is_available() else \"cpu\")"
      ],
      "execution_count": null,
      "outputs": []
    },
    {
      "cell_type": "markdown",
      "metadata": {
        "id": "rgOZwpzcV8D8"
      },
      "source": [
        "## Building dictionaries and datasets"
      ]
    },
    {
      "cell_type": "code",
      "metadata": {
        "id": "F6ysvDjl4ZBh"
      },
      "source": [
        "path_to_train_data = '/content/drive/MyDrive/NLP/Homework1/data/train.jsonl'\n",
        "path_to_val_data = '/content/drive/MyDrive/NLP/Homework1/data/dev.jsonl'"
      ],
      "execution_count": null,
      "outputs": []
    },
    {
      "cell_type": "code",
      "metadata": {
        "id": "43MvTui24bxk"
      },
      "source": [
        "# Load previously built dictionaries with the pretrained embedding for each word\n",
        "glove_dict = np.load('/content/drive/MyDrive/NLP/Homework1/glove_dictionary.npy', allow_pickle='TRUE').item()\n",
        "word2vec_dict = np.load('/content/drive/MyDrive/NLP/Homework1/word2vec_dictionary.npy', allow_pickle='TRUE').item()\n",
        "dictionary = np.load('/content/drive/MyDrive/NLP/Homework1/glove_w2v_dictionary.npy', allow_pickle='TRUE').item()"
      ],
      "execution_count": null,
      "outputs": []
    },
    {
      "cell_type": "code",
      "metadata": {
        "id": "f8ekdNJR4lBN"
      },
      "source": [
        "# This function is used to index all the words in the three dictionaries that we have\n",
        "# just loaded. It returns the dictionary with the word and its index, that correspond\n",
        "# to the position of its embedding in the word_vectors list\n",
        "\n",
        "def build_idx_dictionary(dictionary: dict, mixed: bool):\n",
        "  word_idxs = dict()\n",
        "  word_vectors = []\n",
        "\n",
        "  # reserve indexes 0 and 1 repsectively for the pad token and the unknown token\n",
        "  if mixed:\n",
        "    word_vectors.append(torch.rand(600))\n",
        "    word_vectors.append(torch.rand(600))\n",
        "  else:\n",
        "    word_vectors.append(torch.rand(300))\n",
        "    word_vectors.append(torch.rand(300))\n",
        "\n",
        "  for word, vector in dictionary.items():\n",
        "    word_idxs[word] = len(word_vectors)\n",
        "    word_vectors.append(vector)\n",
        "\n",
        "  word_idxs = defaultdict(lambda: 1, word_idxs)\n",
        "  word_vectors = torch.stack(word_vectors)\n",
        "\n",
        "  return word_idxs, word_vectors"
      ],
      "execution_count": null,
      "outputs": []
    },
    {
      "cell_type": "code",
      "metadata": {
        "id": "oEIyzACHOww_"
      },
      "source": [
        "word_idxs_glove, word_vectors_glove = build_idx_dictionary(glove_dict, mixed=False)\n",
        "word_idxs_w2v, word_vectors_w2v = build_idx_dictionary(word2vec_dict, mixed=False)\n",
        "word_idxs_mixed, word_vectors_mixed = build_idx_dictionary(dictionary, mixed=True)"
      ],
      "execution_count": null,
      "outputs": []
    },
    {
      "cell_type": "code",
      "metadata": {
        "id": "jmcG0UOQAUDW"
      },
      "source": [
        "# Preprocess each input sentence\n",
        "def preprocess_sentence(sentence: str) -> str:\n",
        "\n",
        "  sentence = sentence.lower()\n",
        "  lemmatizer = WordNetLemmatizer()\n",
        "  tokens = word_tokenize(sentence)\n",
        "\n",
        "  tokens = [lemmatizer.lemmatize(w) for w in tokens if w not in stopwords.words(\"english\")]\n",
        "\n",
        "  return sentence"
      ],
      "execution_count": null,
      "outputs": []
    },
    {
      "cell_type": "code",
      "metadata": {
        "id": "qOfjqpbA6shd"
      },
      "source": [
        "# Function to get the indices of all the words in input sentences\n",
        "def sentence2idx(sentence1:str, sentence2:str, word_idxs: dict) -> torch.Tensor:\n",
        "  sentence1 = torch.tensor([word_idxs[word] for word in word_tokenize(sentence1)], dtype=torch.long)\n",
        "  sentence2 = torch.tensor([word_idxs[word] for word in word_tokenize(sentence2)], dtype=torch.long)\n",
        "  return torch.cat((sentence1, sentence2), 0)"
      ],
      "execution_count": null,
      "outputs": []
    },
    {
      "cell_type": "code",
      "metadata": {
        "id": "W5eptBtY7Cgs"
      },
      "source": [
        "def collate_function(input_data):\n",
        "  x = [input[0] for input in input_data]\n",
        "\n",
        "  x_len = torch.tensor([xi.size(0) for xi in x], dtype=torch.long)\n",
        "\n",
        "  # we pad the list of index tensors to get shape (batch_size x max_seq_len)\n",
        "  x = torch.nn.utils.rnn.pad_sequence(x, batch_first=True, padding_value=0)\n",
        "\n",
        "  y = [input[1] for input in input_data]\n",
        "  y = torch.tensor(y)\n",
        "\n",
        "  return x, x_len, y"
      ],
      "execution_count": null,
      "outputs": []
    },
    {
      "cell_type": "code",
      "metadata": {
        "id": "mUXhsTVJ8gm3"
      },
      "source": [
        "class WordInContextDataset(Dataset):\n",
        "  \n",
        "  def __init__(self, data_path : str, sentence2idx, word_idxs: dict):\n",
        "    self.data = []\n",
        "    self.create_samples(data_path, sentence2idx, word_idxs)\n",
        "\n",
        "  def create_samples(self, data_path, sentence2idx, word_idxs):\n",
        "\n",
        "    with open(data_path) as f:\n",
        "      for line in json_lines.reader(f):\n",
        "        sentence1 = preprocess_sentence(line['sentence1'])\n",
        "        sentence2 = preprocess_sentence(line['sentence2'])\n",
        "        \n",
        "        sentence_vector = sentence2idx(sentence1, sentence2, word_idxs=word_idxs).to(device)\n",
        "\n",
        "        if sentence_vector is None:\n",
        "          continue\n",
        "\n",
        "        label = line['label']\n",
        "        if label == 'True':\n",
        "          label = 1\n",
        "        else:\n",
        "          label = 0\n",
        "        \n",
        "        self.data.append((sentence_vector, label))\n",
        "\n",
        "  def __len__(self):\n",
        "    return len(self.data)\n",
        "\n",
        "  def __getitem__(self, idx):\n",
        "    return self.data[idx]"
      ],
      "execution_count": null,
      "outputs": []
    },
    {
      "cell_type": "code",
      "metadata": {
        "id": "m2yirI9n8qKV"
      },
      "source": [
        "train_dataset_glove = WordInContextDataset(path_to_train_data, sentence2idx, word_idxs=word_idxs_glove)\n",
        "val_dataset_glove = WordInContextDataset(path_to_val_data, sentence2idx, word_idxs=word_idxs_glove)\n",
        "\n",
        "train_dataloader_glove = DataLoader(train_dataset_glove, batch_size=32, collate_fn=collate_function)\n",
        "val_dataloader_glove = DataLoader(val_dataset_glove, batch_size=32, collate_fn=collate_function)"
      ],
      "execution_count": null,
      "outputs": []
    },
    {
      "cell_type": "code",
      "metadata": {
        "id": "Oc-zow4d8vmE"
      },
      "source": [
        "train_dataset_w2v = WordInContextDataset(path_to_train_data, sentence2idx, word_idxs_w2v)\n",
        "val_dataset_w2v = WordInContextDataset(path_to_val_data, sentence2idx, word_idxs_w2v)\n",
        "\n",
        "train_dataloader_w2v = DataLoader(train_dataset_w2v, batch_size=32, collate_fn=collate_function)\n",
        "val_dataloader_w2v = DataLoader(val_dataset_w2v, batch_size=32, collate_fn=collate_function)"
      ],
      "execution_count": null,
      "outputs": []
    },
    {
      "cell_type": "code",
      "metadata": {
        "id": "8WvPfZseVrr_"
      },
      "source": [
        "train_dataset_mixed = WordInContextDataset(path_to_train_data, sentence2idx, word_idxs_mixed)\n",
        "val_dataset_mixed = WordInContextDataset(path_to_val_data, sentence2idx, word_idxs_mixed)\n",
        "\n",
        "train_dataloader_mixed = DataLoader(train_dataset_mixed, batch_size=32, collate_fn=collate_function)\n",
        "val_dataloader_mixed = DataLoader(val_dataset_mixed, batch_size=32, collate_fn=collate_function)"
      ],
      "execution_count": null,
      "outputs": []
    },
    {
      "cell_type": "markdown",
      "metadata": {
        "id": "iutMSuSi_CNd"
      },
      "source": [
        "## Build the classifier"
      ]
    },
    {
      "cell_type": "code",
      "metadata": {
        "id": "jFUtwt1L9Jf0"
      },
      "source": [
        "class Classifier(nn.Module):\n",
        "  def __init__(self, word_vectors, hidden_size, output_classes):\n",
        "    super().__init__()\n",
        "    self.global_epoch = 0\n",
        "\n",
        "    self.embedding = torch.nn.Embedding.from_pretrained(word_vectors, padding_idx=0)\n",
        "    self.rnn = torch.nn.LSTM(input_size=word_vectors.size(1), hidden_size=hidden_size,\n",
        "                             bidirectional=True, num_layers=1, batch_first=True, dropout=0.0)\n",
        "    \n",
        "    self.lin1 = nn.Linear(hidden_size*2, hidden_size)\n",
        "    self.lin2 = nn.Linear(hidden_size, output_classes)\n",
        "\n",
        "    self.dropout = nn.Dropout(0.2)\n",
        "\n",
        "    self.loss_fn = nn.BCELoss()\n",
        "\n",
        "  def forward(self, x, x_len, y=None):\n",
        "    output_embedding = self.embedding(x)\n",
        "    output_embedding = self.dropout(output_embedding)\n",
        "    output_rnn = self.rnn(output_embedding)[0]\n",
        "\n",
        "    batch_size, seq_length, hidden_size = output_rnn.shape\n",
        "\n",
        "    output_flat = output_rnn.reshape(-1, hidden_size)\n",
        "\n",
        "    last_word_relative_idxs = x_len - 1\n",
        "    sequences_offsets = torch.arange(batch_size) * seq_length\n",
        "    summary_vectors_indices = last_word_relative_idxs + sequences_offsets\n",
        "\n",
        "    representative_vectors = output_flat[summary_vectors_indices.long()]\n",
        "\n",
        "    out = self.lin1(representative_vectors)\n",
        "    out = torch.relu(out)\n",
        "    out = self.dropout(out)\n",
        "    out = self.lin2(out).squeeze(1)\n",
        "    out = torch.sigmoid(out)\n",
        "\n",
        "    result = {'pred': out}\n",
        "\n",
        "    if y is not None:\n",
        "      loss = self.loss(out, y.float())\n",
        "      result['loss'] = loss\n",
        "\n",
        "    return result\n",
        "  \n",
        "  def loss(self, pred, y):\n",
        "    return self.loss_fn(pred, y.to(device))"
      ],
      "execution_count": null,
      "outputs": []
    },
    {
      "cell_type": "code",
      "metadata": {
        "id": "39NvMk2C_iIU"
      },
      "source": [
        "def evaluate_model(model: nn.Module, dataloader: DataLoader):\n",
        "  losses = []\n",
        "  predictions = []\n",
        "  labels = []\n",
        "  n = 0\n",
        "  d = 0\n",
        "\n",
        "  for batch in dataloader:\n",
        "    x, x_len, y = batch\n",
        "    y = y.to(device)\n",
        "    outputs = model(x, x_len, y)\n",
        "    loss = outputs['loss']\n",
        "    losses.append(loss)\n",
        "    pred = outputs['pred']\n",
        "    pred = torch.round(pred)\n",
        "    predictions.append(pred)\n",
        "    labels.append(y)\n",
        "    \n",
        "    d += pred.shape[0]\n",
        "    n += (y == pred).int().sum()\n",
        "\n",
        "  mean_loss = sum(losses) / len(losses)\n",
        "  return {'loss': mean_loss, 'accuracy': (n / d).item()}"
      ],
      "execution_count": null,
      "outputs": []
    },
    {
      "cell_type": "code",
      "metadata": {
        "id": "WQQerGHE---8"
      },
      "source": [
        "def train_and_evaluate(model: nn.Module, optimizer: torch.optim.Optimizer, \n",
        "                       train_dataloader: DataLoader, epochs: int = 5,\n",
        "                       valid_dataloader: DataLoader = None, valid_fn: Callable = None,\n",
        "                       verbose: bool = True):\n",
        "  train_acc = []\n",
        "  train_loss = []\n",
        "  val_acc = []\n",
        "  val_loss = []\n",
        "  n = 0\n",
        "  d = 0\n",
        "\n",
        "  min_val_loss = np.Inf \n",
        "  stop_epochs = 5\n",
        "  no_improvement = 0\n",
        "\n",
        "  for epoch in range(epochs):\n",
        "    losses = []\n",
        "    predictions = []\n",
        "    labels = []\n",
        "\n",
        "    # batches of the training set\n",
        "    for batch in train_dataloader:\n",
        "      x, x_len, y = batch\n",
        "      y = y.to(device)\n",
        "      optimizer.zero_grad()\n",
        "      batch_out = model(x, x_len, y)\n",
        "      loss = batch_out['loss']\n",
        "      losses.append(loss)\n",
        "      pred = batch_out['pred']\n",
        "      pred = torch.round(pred)\n",
        "      predictions.append(pred)\n",
        "      labels.append(y)\n",
        "\n",
        "      # computes the gradient of the loss\n",
        "      loss.backward()\n",
        "      # updates parameters based on the gradient information\n",
        "      optimizer.step()\n",
        "\n",
        "      d += pred.shape[0]\n",
        "      n += (y == pred).int().sum()\n",
        "\n",
        "    model.global_epoch += 1\n",
        "    mean_loss = sum(losses) / len(losses)\n",
        "    accuracy = (n / d).item();\n",
        "\n",
        "    train_loss.append(mean_loss.item())\n",
        "    train_acc.append(accuracy)\n",
        "    if verbose or epoch == epochs - 1:\n",
        "      print(f' Epoch {model.global_epoch:3d} => Loss: {mean_loss:0.6f}, Accuracy: {accuracy:0.2f}')\n",
        "    \n",
        "    if verbose and valid_dataloader:\n",
        "      assert valid_fn is not None\n",
        "      valid_output = valid_fn(model, valid_dataloader)\n",
        "      valid_loss = valid_output['loss']\n",
        "      valid_accuracy = valid_output['accuracy']\n",
        "      val_loss.append(valid_loss.item())\n",
        "      val_acc.append(valid_accuracy)\n",
        "      print(f' Validation => Loss: {valid_loss:0.6f}, Accuracy: {valid_accuracy:0.2f}')\n",
        "      print()\n",
        "\n",
        "    if valid_loss <= min_val_loss:\n",
        "      no_improvement = 0\n",
        "      min_val_loss = valid_loss\n",
        "    else:\n",
        "      no_improvement += 1\n",
        "\n",
        "    if no_improvement == stop_epochs:\n",
        "      print('Early stopping!')\n",
        "      break\n",
        "    else:\n",
        "      continue\n",
        "\n",
        "  return {'train_acc': train_acc, 'train_loss': train_loss, 'val_acc': val_acc, 'val_loss': val_loss}"
      ],
      "execution_count": null,
      "outputs": []
    },
    {
      "cell_type": "markdown",
      "metadata": {
        "id": "Kr1Zg8F7_FXI"
      },
      "source": [
        "### Training using GloVe word embeddings\n",
        "\n"
      ]
    },
    {
      "cell_type": "code",
      "metadata": {
        "colab": {
          "base_uri": "https://localhost:8080/"
        },
        "id": "aIYGRuw1_Idk",
        "outputId": "6b19a25e-2ff9-42a6-f830-b66925731076"
      },
      "source": [
        "glove_model = Classifier(word_vectors=word_vectors_glove, hidden_size=128, output_classes=1).to(device)\n",
        "optimizer = torch.optim.Adam(glove_model.parameters(), lr=0.0001, betas=(0.85, 0.999)) \n",
        "\n",
        "glove_logs = train_and_evaluate(model=glove_model, optimizer=optimizer,\n",
        "                          train_dataloader=train_dataloader_glove,\n",
        "                          valid_dataloader=val_dataloader_glove,\n",
        "                          valid_fn=evaluate_model,\n",
        "                          epochs=100)"
      ],
      "execution_count": null,
      "outputs": [
        {
          "output_type": "stream",
          "text": [
            " Epoch   1 => Loss: 0.694477, Accuracy: 0.50\n",
            " Validation => Loss: 0.693042, Accuracy: 0.52\n",
            "\n",
            " Epoch   2 => Loss: 0.694192, Accuracy: 0.50\n",
            " Validation => Loss: 0.692574, Accuracy: 0.52\n",
            "\n",
            " Epoch   3 => Loss: 0.693779, Accuracy: 0.50\n",
            " Validation => Loss: 0.692970, Accuracy: 0.51\n",
            "\n",
            " Epoch   4 => Loss: 0.693136, Accuracy: 0.50\n",
            " Validation => Loss: 0.692542, Accuracy: 0.52\n",
            "\n",
            " Epoch   5 => Loss: 0.692838, Accuracy: 0.51\n",
            " Validation => Loss: 0.692085, Accuracy: 0.53\n",
            "\n",
            " Epoch   6 => Loss: 0.691454, Accuracy: 0.51\n",
            " Validation => Loss: 0.689392, Accuracy: 0.55\n",
            "\n",
            " Epoch   7 => Loss: 0.689866, Accuracy: 0.51\n",
            " Validation => Loss: 0.688070, Accuracy: 0.55\n",
            "\n",
            " Epoch   8 => Loss: 0.686451, Accuracy: 0.52\n",
            " Validation => Loss: 0.686459, Accuracy: 0.55\n",
            "\n",
            " Epoch   9 => Loss: 0.683183, Accuracy: 0.52\n",
            " Validation => Loss: 0.685809, Accuracy: 0.55\n",
            "\n",
            " Epoch  10 => Loss: 0.680719, Accuracy: 0.53\n",
            " Validation => Loss: 0.687368, Accuracy: 0.54\n",
            "\n",
            " Epoch  11 => Loss: 0.677769, Accuracy: 0.53\n",
            " Validation => Loss: 0.685285, Accuracy: 0.55\n",
            "\n",
            " Epoch  12 => Loss: 0.672882, Accuracy: 0.53\n",
            " Validation => Loss: 0.684800, Accuracy: 0.56\n",
            "\n",
            " Epoch  13 => Loss: 0.670151, Accuracy: 0.54\n",
            " Validation => Loss: 0.684379, Accuracy: 0.56\n",
            "\n",
            " Epoch  14 => Loss: 0.664485, Accuracy: 0.54\n",
            " Validation => Loss: 0.688888, Accuracy: 0.55\n",
            "\n",
            " Epoch  15 => Loss: 0.660060, Accuracy: 0.55\n",
            " Validation => Loss: 0.684767, Accuracy: 0.57\n",
            "\n",
            " Epoch  16 => Loss: 0.651133, Accuracy: 0.55\n",
            " Validation => Loss: 0.685877, Accuracy: 0.57\n",
            "\n",
            " Epoch  17 => Loss: 0.646742, Accuracy: 0.55\n",
            " Validation => Loss: 0.695551, Accuracy: 0.55\n",
            "\n",
            " Epoch  18 => Loss: 0.638744, Accuracy: 0.56\n",
            " Validation => Loss: 0.690678, Accuracy: 0.57\n",
            "\n",
            "Early stopping!\n"
          ],
          "name": "stdout"
        }
      ]
    },
    {
      "cell_type": "code",
      "metadata": {
        "id": "XWJd0jydInFg"
      },
      "source": [
        "PATH = '/content/drive/MyDrive/NLP/Homework1/models/approach2_3.pth'\n",
        "#torch.save(glove_model.state_dict(), PATH)"
      ],
      "execution_count": null,
      "outputs": []
    },
    {
      "cell_type": "markdown",
      "metadata": {
        "id": "Vct95n0z_L8R"
      },
      "source": [
        "### Training using Word2Vec word embeddings"
      ]
    },
    {
      "cell_type": "code",
      "metadata": {
        "colab": {
          "base_uri": "https://localhost:8080/"
        },
        "id": "k7YgEqsqasda",
        "outputId": "a2c201a1-9898-4ea9-9c1b-efdccf5dc647"
      },
      "source": [
        "w2v_model = Classifier(word_vectors=word_vectors_w2v, hidden_size=64, output_classes=1).to(device)\n",
        "optimizer = torch.optim.Adam(w2v_model.parameters(), lr=0.0001, betas=(0.85, 0.999))\n",
        "\n",
        "w2v_logs = train_and_evaluate(model=w2v_model, optimizer=optimizer,\n",
        "                          train_dataloader=train_dataloader_w2v,\n",
        "                          valid_dataloader=val_dataloader_w2v,\n",
        "                          valid_fn=evaluate_model,\n",
        "                          epochs=100)"
      ],
      "execution_count": null,
      "outputs": [
        {
          "output_type": "stream",
          "text": [
            " Epoch   1 => Loss: 0.694757, Accuracy: 0.50\n",
            " Validation => Loss: 0.692769, Accuracy: 0.54\n",
            "\n",
            " Epoch   2 => Loss: 0.694131, Accuracy: 0.50\n",
            " Validation => Loss: 0.693140, Accuracy: 0.50\n",
            "\n",
            " Epoch   3 => Loss: 0.694001, Accuracy: 0.49\n",
            " Validation => Loss: 0.693026, Accuracy: 0.51\n",
            "\n",
            " Epoch   4 => Loss: 0.693876, Accuracy: 0.49\n",
            " Validation => Loss: 0.693380, Accuracy: 0.47\n",
            "\n",
            " Epoch   5 => Loss: 0.693551, Accuracy: 0.49\n",
            " Validation => Loss: 0.693725, Accuracy: 0.45\n",
            "\n",
            " Epoch   6 => Loss: 0.693455, Accuracy: 0.50\n",
            " Validation => Loss: 0.693340, Accuracy: 0.49\n",
            "\n",
            "Early stopping!\n"
          ],
          "name": "stdout"
        }
      ]
    },
    {
      "cell_type": "code",
      "metadata": {
        "id": "QWWU0jDvas4h"
      },
      "source": [
        "#OUTPUT_PATH = '/content/drive/MyDrive/NLP/Homework1/models/pretrained_w2v.pth'\n",
        "#torch.save(w2v_model.state_dict(), OUTPUT_PATH)"
      ],
      "execution_count": null,
      "outputs": []
    },
    {
      "cell_type": "markdown",
      "metadata": {
        "id": "DHGp-3c7_QCc"
      },
      "source": [
        "### Training using concatenated GloVe and Word2Vec word embeddings"
      ]
    },
    {
      "cell_type": "code",
      "metadata": {
        "colab": {
          "base_uri": "https://localhost:8080/"
        },
        "id": "EuGvuCUya0DD",
        "outputId": "b260f7c3-8783-484f-c422-9c5b6a9701cf"
      },
      "source": [
        "mixed_model = Classifier(word_vectors_mixed, hidden_size=64, output_classes=1).to(device)\n",
        "optimizer = torch.optim.Adam(mixed_model.parameters(), lr=0.0001, betas=(0.85, 0.999))\n",
        "\n",
        "mixed_logs = train_and_evaluate(model=mixed_model, optimizer=optimizer,\n",
        "                          train_dataloader=train_dataloader_mixed,\n",
        "                          valid_dataloader=val_dataloader_mixed,\n",
        "                          valid_fn=evaluate_model,\n",
        "                          epochs=100)"
      ],
      "execution_count": null,
      "outputs": [
        {
          "output_type": "stream",
          "text": [
            " Epoch   1 => Loss: 0.694962, Accuracy: 0.50\n",
            " Validation => Loss: 0.692923, Accuracy: 0.50\n",
            "\n",
            " Epoch   2 => Loss: 0.694060, Accuracy: 0.50\n",
            " Validation => Loss: 0.693334, Accuracy: 0.50\n",
            "\n",
            " Epoch   3 => Loss: 0.693847, Accuracy: 0.51\n",
            " Validation => Loss: 0.692581, Accuracy: 0.51\n",
            "\n",
            " Epoch   4 => Loss: 0.693227, Accuracy: 0.51\n",
            " Validation => Loss: 0.692527, Accuracy: 0.51\n",
            "\n",
            " Epoch   5 => Loss: 0.692116, Accuracy: 0.51\n",
            " Validation => Loss: 0.691600, Accuracy: 0.54\n",
            "\n",
            " Epoch   6 => Loss: 0.691204, Accuracy: 0.51\n",
            " Validation => Loss: 0.690920, Accuracy: 0.56\n",
            "\n",
            " Epoch   7 => Loss: 0.689598, Accuracy: 0.51\n",
            " Validation => Loss: 0.688607, Accuracy: 0.54\n",
            "\n",
            " Epoch   8 => Loss: 0.688034, Accuracy: 0.52\n",
            " Validation => Loss: 0.687612, Accuracy: 0.57\n",
            "\n",
            " Epoch   9 => Loss: 0.685838, Accuracy: 0.52\n",
            " Validation => Loss: 0.687150, Accuracy: 0.55\n",
            "\n",
            " Epoch  10 => Loss: 0.682730, Accuracy: 0.53\n",
            " Validation => Loss: 0.686870, Accuracy: 0.55\n",
            "\n",
            " Epoch  11 => Loss: 0.678430, Accuracy: 0.53\n",
            " Validation => Loss: 0.685526, Accuracy: 0.54\n",
            "\n",
            " Epoch  12 => Loss: 0.675948, Accuracy: 0.53\n",
            " Validation => Loss: 0.682703, Accuracy: 0.56\n",
            "\n",
            " Epoch  13 => Loss: 0.671442, Accuracy: 0.54\n",
            " Validation => Loss: 0.686070, Accuracy: 0.55\n",
            "\n",
            " Epoch  14 => Loss: 0.668283, Accuracy: 0.54\n",
            " Validation => Loss: 0.691056, Accuracy: 0.55\n",
            "\n",
            " Epoch  15 => Loss: 0.663792, Accuracy: 0.55\n",
            " Validation => Loss: 0.681263, Accuracy: 0.56\n",
            "\n",
            " Epoch  16 => Loss: 0.658475, Accuracy: 0.55\n",
            " Validation => Loss: 0.684080, Accuracy: 0.55\n",
            "\n",
            " Epoch  17 => Loss: 0.653515, Accuracy: 0.55\n",
            " Validation => Loss: 0.687575, Accuracy: 0.57\n",
            "\n",
            " Epoch  18 => Loss: 0.646600, Accuracy: 0.56\n",
            " Validation => Loss: 0.687105, Accuracy: 0.56\n",
            "\n",
            " Epoch  19 => Loss: 0.645645, Accuracy: 0.56\n",
            " Validation => Loss: 0.696422, Accuracy: 0.56\n",
            "\n",
            " Epoch  20 => Loss: 0.636820, Accuracy: 0.57\n",
            " Validation => Loss: 0.692570, Accuracy: 0.55\n",
            "\n",
            "Early stopping!\n"
          ],
          "name": "stdout"
        }
      ]
    },
    {
      "cell_type": "code",
      "metadata": {
        "id": "DlZnvBY0a0TM"
      },
      "source": [
        "#OUTPUT_PATH = '/content/drive/MyDrive/NLP/Homework1/models/pretrained_mixed.pth'\n",
        "#torch.save(mixed_model.state_dict(), OUTPUT_PATH)"
      ],
      "execution_count": null,
      "outputs": []
    },
    {
      "cell_type": "markdown",
      "metadata": {
        "id": "WdAekM0X_VWo"
      },
      "source": [
        "## Evaluating the model"
      ]
    },
    {
      "cell_type": "code",
      "metadata": {
        "id": "kxS3ItNsOJJP"
      },
      "source": [
        "def overall_validation_performance(model, val_dataloader):\n",
        "  n = 0\n",
        "  d = 0\n",
        "\n",
        "  for batch in val_dataloader:\n",
        "    x, x_len, y = batch\n",
        "    y = y.to(device)\n",
        "    with torch.no_grad():\n",
        "      batch_out = model(x, x_len)\n",
        "      pred = batch_out['pred']\n",
        "\n",
        "    pred = torch.round(pred)\n",
        "    d += pred.shape[0]\n",
        "    n += (y == pred).int().sum()\n",
        "\n",
        "  print(f'# accuracy: {(n / d).item():.2f}')"
      ],
      "execution_count": null,
      "outputs": []
    },
    {
      "cell_type": "code",
      "metadata": {
        "id": "YkYlP4SYA3Yt"
      },
      "source": [
        "def plot_metrics(logs):\n",
        "  plt.figure(figsize=(15,3))\n",
        "  plt.subplot(1, 2, 1)\n",
        "  plt.plot(logs['train_acc'],'-')\n",
        "  plt.plot(logs['val_acc'],'-')\n",
        "  plt.xlabel('epoch', fontsize=14)\n",
        "  plt.ylabel('accuracy', fontsize=14)\n",
        "  plt.legend(['Train','Valid'])\n",
        "  plt.title('Train vs Valid Accuracy', fontsize=16)\n",
        "\n",
        "  plt.subplot(1, 2, 2)\n",
        "  plt.plot(logs['train_loss'],'-')\n",
        "  plt.plot(logs['val_loss'],'-')\n",
        "  plt.xlabel('epoch', fontsize=14)\n",
        "  plt.ylabel('loss', fontsize=14)\n",
        "  plt.legend(['Train','Valid'])\n",
        "  plt.title('Train vs Valid Loss', fontsize=16)"
      ],
      "execution_count": null,
      "outputs": []
    },
    {
      "cell_type": "markdown",
      "metadata": {
        "id": "T540cVMX_YWa"
      },
      "source": [
        "### Results with GloVe"
      ]
    },
    {
      "cell_type": "code",
      "metadata": {
        "colab": {
          "base_uri": "https://localhost:8080/"
        },
        "id": "mW10cmR1Yrcm",
        "outputId": "1401cda8-8f68-47c9-df2f-ac407593d886"
      },
      "source": [
        "overall_validation_performance(glove_model, val_dataloader_glove)"
      ],
      "execution_count": null,
      "outputs": [
        {
          "output_type": "stream",
          "text": [
            "# accuracy: 0.57\n"
          ],
          "name": "stdout"
        }
      ]
    },
    {
      "cell_type": "code",
      "metadata": {
        "colab": {
          "base_uri": "https://localhost:8080/",
          "height": 247
        },
        "id": "aehpfmecD07L",
        "outputId": "02116ca3-3a2e-47e9-a86d-44d58bf30c0b"
      },
      "source": [
        "plot_metrics(glove_logs)"
      ],
      "execution_count": null,
      "outputs": [
        {
          "output_type": "display_data",
          "data": {
            "image/png": "[encoded data removed]",
            "text/plain": [
              "<Figure size 1080x216 with 2 Axes>"
            ]
          },
          "metadata": {
            "tags": [],
            "needs_background": "light"
          }
        }
      ]
    },
    {
      "cell_type": "markdown",
      "metadata": {
        "id": "bkamhhaF_bMw"
      },
      "source": [
        "### Results with Word2Vec"
      ]
    },
    {
      "cell_type": "code",
      "metadata": {
        "colab": {
          "base_uri": "https://localhost:8080/"
        },
        "id": "8oSGGZOblnJR",
        "outputId": "57d90071-ab06-4eb2-c22f-9f2922479b7c"
      },
      "source": [
        "overall_validation_performance(w2v_model, val_dataloader_w2v)"
      ],
      "execution_count": null,
      "outputs": [
        {
          "output_type": "stream",
          "text": [
            "# accuracy: 0.53\n"
          ],
          "name": "stdout"
        }
      ]
    },
    {
      "cell_type": "code",
      "metadata": {
        "colab": {
          "base_uri": "https://localhost:8080/",
          "height": 247
        },
        "id": "tAgu5jmwlnJS",
        "outputId": "c15914d1-42ca-47be-8ae0-3cc472f858fe"
      },
      "source": [
        "plot_metrics(w2v_logs)"
      ],
      "execution_count": null,
      "outputs": [
        {
          "output_type": "display_data",
          "data": {
            "image/png": "[encoded data removed]",
            "text/plain": [
              "<Figure size 1080x216 with 2 Axes>"
            ]
          },
          "metadata": {
            "tags": [],
            "needs_background": "light"
          }
        }
      ]
    },
    {
      "cell_type": "code",
      "metadata": {
        "colab": {
          "base_uri": "https://localhost:8080/"
        },
        "id": "9wVXdFgNlwi9",
        "outputId": "e3b7856c-ae11-48e4-b3e6-f93c710b96cc"
      },
      "source": [
        "overall_validation_performance(mixed_model, val_dataloader_mixed)"
      ],
      "execution_count": null,
      "outputs": [
        {
          "output_type": "stream",
          "text": [
            "# accuracy: 0.56\n"
          ],
          "name": "stdout"
        }
      ]
    },
    {
      "cell_type": "markdown",
      "metadata": {
        "id": "AG89A_Ph_dfM"
      },
      "source": [
        "### Results with concatenated GloVe and Word2Vec word embeddings"
      ]
    },
    {
      "cell_type": "code",
      "metadata": {
        "colab": {
          "base_uri": "https://localhost:8080/",
          "height": 247
        },
        "id": "d7uwMJzElwi-",
        "outputId": "bd4745d3-423e-4353-da42-b1b3c56ff8e4"
      },
      "source": [
        "plot_metrics(mixed_logs)"
      ],
      "execution_count": null,
      "outputs": [
        {
          "output_type": "display_data",
          "data": {
            "image/png": "[encoded data removed]",
            "text/plain": [
              "<Figure size 1080x216 with 2 Axes>"
            ]
          },
          "metadata": {
            "tags": [],
            "needs_background": "light"
          }
        }
      ]
    },
    {
      "cell_type": "code",
      "metadata": {
        "id": "2xoEREDDFQb3"
      },
      "source": [
        ""
      ],
      "execution_count": null,
      "outputs": []
    }
  ]
}