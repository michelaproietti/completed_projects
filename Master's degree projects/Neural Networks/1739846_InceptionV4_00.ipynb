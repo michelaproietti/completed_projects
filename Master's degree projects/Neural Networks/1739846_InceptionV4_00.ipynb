{
  "nbformat": 4,
  "nbformat_minor": 0,
  "metadata": {
    "colab": {
      "name": "InceptionV4_00.ipynb",
      "provenance": [],
      "collapsed_sections": []
    },
    "kernelspec": {
      "name": "python3",
      "display_name": "Python 3"
    },
    "accelerator": "GPU"
  },
  "cells": [
    {
      "cell_type": "code",
      "metadata": {
        "colab": {
          "base_uri": "https://localhost:8080/"
        },
        "id": "oNdRNg9FIq0X",
        "outputId": "eba8d3f8-09c4-4ed2-90a4-487e33aee024"
      },
      "source": [
        "import numpy as np\r\n",
        "import tensorflow as tf\r\n",
        "print(tf.test.gpu_device_name())\r\n",
        "\r\n",
        "from tensorflow.keras.models import Sequential\r\n",
        "from tensorflow.keras.layers import Input, Dense, Conv2D, MaxPooling2D, AveragePooling2D, Dropout, Flatten, concatenate, Reshape, Activation, BatchNormalization\r\n",
        "from tensorflow.keras.models import Model, load_model\r\n",
        "from tensorflow.keras import backend as K\r\n",
        "from sklearn.metrics import log_loss\r\n",
        "\r\n",
        "from keras.preprocessing.image import ImageDataGenerator\r\n",
        "\r\n",
        "from keras import optimizers"
      ],
      "execution_count": 1,
      "outputs": [
        {
          "output_type": "stream",
          "text": [
            "/device:GPU:0\n"
          ],
          "name": "stdout"
        }
      ]
    },
    {
      "cell_type": "code",
      "metadata": {
        "id": "ZH3cu72POGNW"
      },
      "source": [
        "def conv2d_bn(x, n_filters, rows, cols,\r\n",
        "              padding='same', subsample=(1, 1)):\r\n",
        "  x = Conv2D(n_filters, (rows, cols), strides=subsample, padding=padding, activation='relu')(x)\r\n",
        "  x = BatchNormalization()(x)\r\n",
        "  return x"
      ],
      "execution_count": 2,
      "outputs": []
    },
    {
      "cell_type": "code",
      "metadata": {
        "id": "3bert4UMOI-l"
      },
      "source": [
        "def inception_a(input):\r\n",
        "  branch_0 = conv2d_bn(input, 96, 1, 1)\r\n",
        "\r\n",
        "  branch_1 = conv2d_bn(input, 64, 1, 1)\r\n",
        "  branch_1 = conv2d_bn(branch_1, 96, 3, 3)\r\n",
        "\r\n",
        "  branch_2 = conv2d_bn(input, 64, 1, 1)\r\n",
        "  branch_2 = conv2d_bn(branch_2, 96, 3, 3)\r\n",
        "  branch_2 = conv2d_bn(branch_2, 96, 3, 3)\r\n",
        "\r\n",
        "  branch_3 = AveragePooling2D((3,3), strides=(1,1), padding='same')(input)\r\n",
        "  branch_3 = conv2d_bn(branch_3, 96, 1, 1)\r\n",
        "\r\n",
        "  x = concatenate([branch_0, branch_1, branch_2, branch_3])\r\n",
        "  return x"
      ],
      "execution_count": 3,
      "outputs": []
    },
    {
      "cell_type": "code",
      "metadata": {
        "id": "ivmqig54O2qM"
      },
      "source": [
        "def reduction_a(input):\r\n",
        "  branch_0 = conv2d_bn(input, 384, 3, 3, subsample=(2,2), padding='valid')\r\n",
        "\r\n",
        "  branch_1 = conv2d_bn(input, 192, 1, 1)\r\n",
        "  branch_1 = conv2d_bn(branch_1, 224, 3, 3)\r\n",
        "  branch_1 = conv2d_bn(branch_1, 256, 3, 3, subsample=(2,2), padding='valid')\r\n",
        "\r\n",
        "  branch_2 = MaxPooling2D((3,3), strides=(2,2), padding='valid')(input)\r\n",
        "\r\n",
        "  x = concatenate([branch_0, branch_1, branch_2])\r\n",
        "  return x"
      ],
      "execution_count": 4,
      "outputs": []
    },
    {
      "cell_type": "code",
      "metadata": {
        "id": "iqZw0UQeOM71"
      },
      "source": [
        "def inception_b(input):\r\n",
        "  branch_0 = conv2d_bn(input, 384, 1, 1)\r\n",
        "\r\n",
        "  branch_1 = conv2d_bn(input, 192, 1, 1)\r\n",
        "  branch_1 = conv2d_bn(branch_1, 224, 1, 7)\r\n",
        "  branch_1 = conv2d_bn(branch_1, 256, 7, 1)\r\n",
        "\r\n",
        "  branch_2 = conv2d_bn(input, 192, 1, 1)\r\n",
        "  branch_2 = conv2d_bn(branch_2, 192, 7, 1)\r\n",
        "  branch_2 = conv2d_bn(branch_2, 224, 1, 7)\r\n",
        "  branch_2 = conv2d_bn(branch_2, 224, 7, 1)\r\n",
        "  branch_2 = conv2d_bn(branch_2, 256, 1, 7)\r\n",
        "\r\n",
        "  branch_3 = AveragePooling2D((3,3), strides=(1,1), padding='same')(input)\r\n",
        "  branch_3 = conv2d_bn(branch_3, 128, 1, 1)\r\n",
        "\r\n",
        "  x = concatenate([branch_0, branch_1, branch_2, branch_3])\r\n",
        "  return x"
      ],
      "execution_count": 5,
      "outputs": []
    },
    {
      "cell_type": "code",
      "metadata": {
        "id": "3fh8keXzPaC1"
      },
      "source": [
        "def reduction_b(input):\r\n",
        "  branch_0 = conv2d_bn(input, 192, 1, 1)\r\n",
        "  branch_0 = conv2d_bn(branch_0, 192, 3, 3, subsample=(2, 2), padding='valid')\r\n",
        "\r\n",
        "  branch_1 = conv2d_bn(input, 256, 1, 1)\r\n",
        "  branch_1 = conv2d_bn(branch_1, 256, 1, 7)\r\n",
        "  branch_1 = conv2d_bn(branch_1, 320, 7, 1)\r\n",
        "  branch_1 = conv2d_bn(branch_1, 320, 3, 3, subsample=(2,2), padding='valid')\r\n",
        "\r\n",
        "  branch_2 = MaxPooling2D((3, 3), strides=(2, 2), padding='valid')(input)\r\n",
        "\r\n",
        "  x = concatenate([branch_0, branch_1, branch_2])\r\n",
        "  return x"
      ],
      "execution_count": 6,
      "outputs": []
    },
    {
      "cell_type": "code",
      "metadata": {
        "id": "adG2uoc3Pnom"
      },
      "source": [
        "def inception_c(input):\r\n",
        "  branch_0 = conv2d_bn(input, 256, 1, 1)\r\n",
        "\r\n",
        "  branch_1 = conv2d_bn(input, 384, 1, 1)\r\n",
        "  branch_10 = conv2d_bn(branch_1, 256, 1, 3)\r\n",
        "  branch_11 = conv2d_bn(branch_1, 256, 3, 1)\r\n",
        "  branch_1 = concatenate([branch_10, branch_11])\r\n",
        "\r\n",
        "\r\n",
        "  branch_2 = conv2d_bn(input, 384, 1, 1)\r\n",
        "  branch_2 = conv2d_bn(branch_2, 448, 3, 1)\r\n",
        "  branch_2 = conv2d_bn(branch_2, 512, 1, 3)\r\n",
        "  branch_20 = conv2d_bn(branch_2, 256, 1, 3)\r\n",
        "  branch_21 = conv2d_bn(branch_2, 256, 3, 1)\r\n",
        "  branch_2 = concatenate([branch_20, branch_21])\r\n",
        "\r\n",
        "  branch_3 = AveragePooling2D((3, 3), strides=(1, 1), padding='same')(input)\r\n",
        "  branch_3 = conv2d_bn(branch_3, 256, 1, 1)\r\n",
        "\r\n",
        "  x = concatenate([branch_0, branch_1, branch_2, branch_3])\r\n",
        "  return x"
      ],
      "execution_count": 7,
      "outputs": []
    },
    {
      "cell_type": "code",
      "metadata": {
        "id": "WAVFx6ZGPqqG"
      },
      "source": [
        "def stem_inception_reduction(input):\r\n",
        "  # Input Shape is 299 x 299 x 3\r\n",
        "  net = conv2d_bn(input, 32, 3, 3, subsample=(2,2), padding='valid')\r\n",
        "  net = conv2d_bn(net, 32, 3, 3, padding='valid')\r\n",
        "  net = conv2d_bn(net, 64, 3, 3)\r\n",
        "\r\n",
        "  branch_0 = MaxPooling2D((3,3), strides=(2,2), padding ='valid')(net)\r\n",
        "\r\n",
        "  branch_1 = conv2d_bn(net, 96, 3, 3, subsample=(2,2), padding='valid')\r\n",
        "\r\n",
        "  net = concatenate([branch_0, branch_1])\r\n",
        "\r\n",
        "  branch_0 = conv2d_bn(net, 64, 1, 1)\r\n",
        "  branch_0 = conv2d_bn(branch_0, 96, 3, 3, padding='valid')\r\n",
        "\r\n",
        "  branch_1 = conv2d_bn(net, 64, 1, 1)\r\n",
        "  branch_1 = conv2d_bn(branch_1, 64, 1, 7)\r\n",
        "  branch_1 = conv2d_bn(branch_1, 64, 7, 1)\r\n",
        "  branch_1 = conv2d_bn(branch_1, 96, 3, 3, padding='valid')\r\n",
        "\r\n",
        "  net = concatenate([branch_0, branch_1])\r\n",
        "\r\n",
        "  branch_0 = conv2d_bn(net, 192, 3, 3, subsample=(2,2), padding ='valid')\r\n",
        "  branch_1 = MaxPooling2D((3,3), strides=(2,2), padding ='valid')(net)\r\n",
        "\r\n",
        "  net = concatenate([branch_0, branch_1])\r\n",
        "\r\n",
        "  #Adding inception and reduction blocks\r\n",
        "  # 4 x Inception-A blocks\r\n",
        "  for i in range(4):\r\n",
        "    net = inception_a(net)\r\n",
        "\r\n",
        "  # Reduction-A block\r\n",
        "  net = reduction_a(net)\r\n",
        "\r\n",
        "  # 7 x Inception-B blocks\r\n",
        "  for i in range(7):\r\n",
        "    net = inception_b(net)\r\n",
        "\r\n",
        "  # Reduction-B block\r\n",
        "  net = reduction_b(net)\r\n",
        "\r\n",
        "  # 3 x Inception-C blocks\r\n",
        "  for i in range(3):\r\n",
        "    net = inception_c(net)\r\n",
        "\r\n",
        "  return net"
      ],
      "execution_count": 8,
      "outputs": []
    },
    {
      "cell_type": "code",
      "metadata": {
        "id": "W9Kci_TEQVqa"
      },
      "source": [
        "def build_model():\r\n",
        "\r\n",
        "  # Input Shape is 299 x 299 x 3\r\n",
        "  inputs = Input((299, 299, 3))\r\n",
        "\r\n",
        "  # First part of the network\r\n",
        "  net = stem_inception_reduction(inputs)\r\n",
        "\r\n",
        "  # Final pooling and prediction\r\n",
        "  net_old = AveragePooling2D((8,8), padding='valid')(net)\r\n",
        "  net_old = Dropout(0.2)(net_old)\r\n",
        "  net_old = Flatten()(net_old)\r\n",
        "\r\n",
        "  predictions = Dense(1001, activation='softmax')(net_old)\r\n",
        "\r\n",
        "  model = Model(inputs, predictions, name='inception_v4')\r\n",
        "\r\n",
        "  # Use pre-trained weights for Tensorflow backend\r\n",
        "  weights_path = '/content/drive/MyDrive/NN_project/inception-v4_weights_tf_dim_ordering_tf_kernels.h5'\r\n",
        "\r\n",
        "  model.load_weights(weights_path, by_name=True)\r\n",
        "\r\n",
        "  # Truncate and replace softmax layer for transfer learning\r\n",
        "  net_ft = AveragePooling2D((8,8), padding='valid')(net)\r\n",
        "  net_ft = Dropout(0.2)(net_ft)\r\n",
        "  net_ft = Flatten()(net_ft)\r\n",
        "  predictions_ft = Dense(1, activation='sigmoid')(net_ft)\r\n",
        "\r\n",
        "  model = Model(inputs, predictions_ft, name='inception_v4')\r\n",
        "\r\n",
        "  sgd = optimizers.SGD(lr=1e-3, decay=1e-6, momentum=0.9, nesterov=True)\r\n",
        "  model.compile(optimizer=sgd, loss='binary_crossentropy', metrics=['accuracy'])\r\n",
        "\r\n",
        "  return model"
      ],
      "execution_count": 9,
      "outputs": []
    },
    {
      "cell_type": "code",
      "metadata": {
        "id": "JTIRVobeRmap"
      },
      "source": [
        "# dimensions of our images.\r\n",
        "img_width, img_height = 299, 299\r\n",
        "\r\n",
        "train_data_dir = '/content/drive/MyDrive/NN_project/data_00/train'\r\n",
        "validation_data_dir = '/content/drive/MyDrive/NN_project/data_00/validation'\r\n",
        "nb_train_samples = 5120\r\n",
        "nb_validation_samples = 1280\r\n",
        "epochs = 100\r\n",
        "batch_size = 8 #10 #40\r\n",
        "channel = 1\r\n",
        "num_classes = 2"
      ],
      "execution_count": 10,
      "outputs": []
    },
    {
      "cell_type": "code",
      "metadata": {
        "colab": {
          "base_uri": "https://localhost:8080/"
        },
        "id": "VEYrVAQoSBOT",
        "outputId": "b7b1f93b-64cb-4e4b-d850-8f38bf4752de"
      },
      "source": [
        "datagen = ImageDataGenerator(rescale=1. / 255)\r\n",
        "\r\n",
        "train_generator = datagen.flow_from_directory(\r\n",
        "    train_data_dir,\r\n",
        "    target_size=(img_width, img_height),\r\n",
        "    batch_size=batch_size,\r\n",
        "    class_mode='binary')\r\n",
        "\r\n",
        "val_generator = datagen.flow_from_directory(\r\n",
        "    validation_data_dir,\r\n",
        "    target_size=(img_width, img_height),\r\n",
        "    batch_size=batch_size,\r\n",
        "    class_mode='binary')"
      ],
      "execution_count": 11,
      "outputs": [
        {
          "output_type": "stream",
          "text": [
            "Found 5120 images belonging to 2 classes.\n",
            "Found 1280 images belonging to 2 classes.\n"
          ],
          "name": "stdout"
        }
      ]
    },
    {
      "cell_type": "code",
      "metadata": {
        "id": "pQEt3hq6SEEZ"
      },
      "source": [
        "# Load our model\r\n",
        "model = build_model()"
      ],
      "execution_count": 12,
      "outputs": []
    },
    {
      "cell_type": "code",
      "metadata": {
        "colab": {
          "base_uri": "https://localhost:8080/"
        },
        "id": "59QnBLinSa-5",
        "outputId": "6e554491-f1f5-4c00-a6e2-f4e85913896d"
      },
      "source": [
        "history = model.fit(\r\n",
        "    train_generator,\r\n",
        "    steps_per_epoch=nb_train_samples // batch_size,\r\n",
        "    epochs=epochs,\r\n",
        "    validation_data=val_generator,\r\n",
        "    validation_steps=nb_validation_samples // batch_size)\r\n",
        "\r\n",
        "model.save('InceptionV4_model_00.h5')"
      ],
      "execution_count": 13,
      "outputs": [
        {
          "output_type": "stream",
          "text": [
            "Epoch 1/100\n",
            "640/640 [==============================] - 2208s 3s/step - loss: 0.6580 - accuracy: 0.6256 - val_loss: 1.8507 - val_accuracy: 0.4602\n",
            "Epoch 2/100\n",
            "640/640 [==============================] - 190s 297ms/step - loss: 0.6271 - accuracy: 0.6602 - val_loss: 0.6034 - val_accuracy: 0.7156\n",
            "Epoch 3/100\n",
            "640/640 [==============================] - 190s 297ms/step - loss: 0.5898 - accuracy: 0.6832 - val_loss: 0.7996 - val_accuracy: 0.6633\n",
            "Epoch 4/100\n",
            "640/640 [==============================] - 190s 297ms/step - loss: 0.5771 - accuracy: 0.7040 - val_loss: 0.8551 - val_accuracy: 0.6164\n",
            "Epoch 5/100\n",
            "640/640 [==============================] - 190s 297ms/step - loss: 0.5670 - accuracy: 0.7089 - val_loss: 0.7301 - val_accuracy: 0.6281\n",
            "Epoch 6/100\n",
            "640/640 [==============================] - 190s 296ms/step - loss: 0.5499 - accuracy: 0.7158 - val_loss: 0.5468 - val_accuracy: 0.6984\n",
            "Epoch 7/100\n",
            "640/640 [==============================] - 190s 296ms/step - loss: 0.5219 - accuracy: 0.7457 - val_loss: 0.5526 - val_accuracy: 0.7633\n",
            "Epoch 8/100\n",
            "640/640 [==============================] - 190s 297ms/step - loss: 0.5122 - accuracy: 0.7404 - val_loss: 0.6615 - val_accuracy: 0.6844\n",
            "Epoch 9/100\n",
            "640/640 [==============================] - 190s 297ms/step - loss: 0.4721 - accuracy: 0.7717 - val_loss: 0.9140 - val_accuracy: 0.7070\n",
            "Epoch 10/100\n",
            "640/640 [==============================] - 190s 297ms/step - loss: 0.4552 - accuracy: 0.7828 - val_loss: 1.2236 - val_accuracy: 0.6250\n",
            "Epoch 11/100\n",
            "640/640 [==============================] - 190s 296ms/step - loss: 0.4266 - accuracy: 0.8012 - val_loss: 0.6456 - val_accuracy: 0.7734\n",
            "Epoch 12/100\n",
            "640/640 [==============================] - 190s 297ms/step - loss: 0.4094 - accuracy: 0.8179 - val_loss: 1.0688 - val_accuracy: 0.7969\n",
            "Epoch 13/100\n",
            "640/640 [==============================] - 190s 297ms/step - loss: 0.3669 - accuracy: 0.8351 - val_loss: 0.8489 - val_accuracy: 0.7180\n",
            "Epoch 14/100\n",
            "640/640 [==============================] - 190s 296ms/step - loss: 0.3520 - accuracy: 0.8473 - val_loss: 1.3298 - val_accuracy: 0.7203\n",
            "Epoch 15/100\n",
            "640/640 [==============================] - 190s 297ms/step - loss: 0.3020 - accuracy: 0.8698 - val_loss: 0.9679 - val_accuracy: 0.7016\n",
            "Epoch 16/100\n",
            "640/640 [==============================] - 190s 297ms/step - loss: 0.2984 - accuracy: 0.8733 - val_loss: 0.8950 - val_accuracy: 0.8164\n",
            "Epoch 17/100\n",
            "640/640 [==============================] - 190s 297ms/step - loss: 0.2753 - accuracy: 0.8878 - val_loss: 0.5047 - val_accuracy: 0.8672\n",
            "Epoch 18/100\n",
            "640/640 [==============================] - 190s 297ms/step - loss: 0.2393 - accuracy: 0.9006 - val_loss: 1.5544 - val_accuracy: 0.6477\n",
            "Epoch 19/100\n",
            "640/640 [==============================] - 190s 298ms/step - loss: 0.2339 - accuracy: 0.9075 - val_loss: 0.3976 - val_accuracy: 0.8320\n",
            "Epoch 20/100\n",
            "640/640 [==============================] - 190s 298ms/step - loss: 0.1981 - accuracy: 0.9170 - val_loss: 0.8609 - val_accuracy: 0.7711\n",
            "Epoch 21/100\n",
            "640/640 [==============================] - 191s 298ms/step - loss: 0.1958 - accuracy: 0.9247 - val_loss: 0.4008 - val_accuracy: 0.8930\n",
            "Epoch 22/100\n",
            "640/640 [==============================] - 191s 298ms/step - loss: 0.1863 - accuracy: 0.9201 - val_loss: 1.7334 - val_accuracy: 0.5734\n",
            "Epoch 23/100\n",
            "640/640 [==============================] - 190s 297ms/step - loss: 0.1660 - accuracy: 0.9396 - val_loss: 0.2708 - val_accuracy: 0.9219\n",
            "Epoch 24/100\n",
            "640/640 [==============================] - 190s 298ms/step - loss: 0.1523 - accuracy: 0.9355 - val_loss: 0.4113 - val_accuracy: 0.9016\n",
            "Epoch 25/100\n",
            "640/640 [==============================] - 190s 297ms/step - loss: 0.1458 - accuracy: 0.9440 - val_loss: 0.3523 - val_accuracy: 0.8570\n",
            "Epoch 26/100\n",
            "640/640 [==============================] - 190s 298ms/step - loss: 0.1325 - accuracy: 0.9511 - val_loss: 0.6619 - val_accuracy: 0.8242\n",
            "Epoch 27/100\n",
            "640/640 [==============================] - 191s 298ms/step - loss: 0.1266 - accuracy: 0.9515 - val_loss: 0.7098 - val_accuracy: 0.8055\n",
            "Epoch 28/100\n",
            "640/640 [==============================] - 190s 297ms/step - loss: 0.1352 - accuracy: 0.9496 - val_loss: 1.2735 - val_accuracy: 0.6875\n",
            "Epoch 29/100\n",
            "640/640 [==============================] - 190s 298ms/step - loss: 0.1081 - accuracy: 0.9625 - val_loss: 0.3293 - val_accuracy: 0.9047\n",
            "Epoch 30/100\n",
            "640/640 [==============================] - 191s 298ms/step - loss: 0.1021 - accuracy: 0.9643 - val_loss: 0.3238 - val_accuracy: 0.9336\n",
            "Epoch 31/100\n",
            "640/640 [==============================] - 190s 297ms/step - loss: 0.0901 - accuracy: 0.9751 - val_loss: 1.1594 - val_accuracy: 0.8117\n",
            "Epoch 32/100\n",
            "640/640 [==============================] - 190s 297ms/step - loss: 0.0687 - accuracy: 0.9779 - val_loss: 1.1625 - val_accuracy: 0.7336\n",
            "Epoch 33/100\n",
            "640/640 [==============================] - 190s 297ms/step - loss: 0.0984 - accuracy: 0.9671 - val_loss: 0.3554 - val_accuracy: 0.9430\n",
            "Epoch 34/100\n",
            "640/640 [==============================] - 190s 297ms/step - loss: 0.0864 - accuracy: 0.9737 - val_loss: 0.4982 - val_accuracy: 0.8273\n",
            "Epoch 35/100\n",
            "640/640 [==============================] - 190s 297ms/step - loss: 0.0792 - accuracy: 0.9738 - val_loss: 0.4793 - val_accuracy: 0.8195\n",
            "Epoch 36/100\n",
            "640/640 [==============================] - 190s 297ms/step - loss: 0.0660 - accuracy: 0.9791 - val_loss: 0.8815 - val_accuracy: 0.7984\n",
            "Epoch 37/100\n",
            "640/640 [==============================] - 190s 297ms/step - loss: 0.0635 - accuracy: 0.9800 - val_loss: 0.4346 - val_accuracy: 0.8523\n",
            "Epoch 38/100\n",
            "640/640 [==============================] - 190s 297ms/step - loss: 0.0617 - accuracy: 0.9820 - val_loss: 0.3180 - val_accuracy: 0.8969\n",
            "Epoch 39/100\n",
            "640/640 [==============================] - 190s 297ms/step - loss: 0.0525 - accuracy: 0.9857 - val_loss: 0.6316 - val_accuracy: 0.7906\n",
            "Epoch 40/100\n",
            "640/640 [==============================] - 190s 297ms/step - loss: 0.0687 - accuracy: 0.9783 - val_loss: 0.0763 - val_accuracy: 0.9742\n",
            "Epoch 41/100\n",
            "640/640 [==============================] - 190s 297ms/step - loss: 0.0377 - accuracy: 0.9897 - val_loss: 2.9302 - val_accuracy: 0.6125\n",
            "Epoch 42/100\n",
            "640/640 [==============================] - 190s 297ms/step - loss: 0.0863 - accuracy: 0.9753 - val_loss: 0.3918 - val_accuracy: 0.8648\n",
            "Epoch 43/100\n",
            "640/640 [==============================] - 190s 297ms/step - loss: 0.0494 - accuracy: 0.9831 - val_loss: 0.1168 - val_accuracy: 0.9641\n",
            "Epoch 44/100\n",
            "640/640 [==============================] - 191s 298ms/step - loss: 0.0303 - accuracy: 0.9894 - val_loss: 0.1546 - val_accuracy: 0.9453\n",
            "Epoch 45/100\n",
            "640/640 [==============================] - 191s 298ms/step - loss: 0.0306 - accuracy: 0.9910 - val_loss: 0.2213 - val_accuracy: 0.9156\n",
            "Epoch 46/100\n",
            "640/640 [==============================] - 191s 298ms/step - loss: 0.0356 - accuracy: 0.9881 - val_loss: 0.4152 - val_accuracy: 0.8906\n",
            "Epoch 47/100\n",
            "640/640 [==============================] - 191s 298ms/step - loss: 0.0607 - accuracy: 0.9841 - val_loss: 0.0687 - val_accuracy: 0.9773\n",
            "Epoch 48/100\n",
            "640/640 [==============================] - 191s 298ms/step - loss: 0.0592 - accuracy: 0.9858 - val_loss: 0.0550 - val_accuracy: 0.9812\n",
            "Epoch 49/100\n",
            "640/640 [==============================] - 191s 298ms/step - loss: 0.0378 - accuracy: 0.9893 - val_loss: 0.1976 - val_accuracy: 0.9461\n",
            "Epoch 50/100\n",
            "640/640 [==============================] - 191s 298ms/step - loss: 0.0389 - accuracy: 0.9876 - val_loss: 0.0457 - val_accuracy: 0.9820\n",
            "Epoch 51/100\n",
            "640/640 [==============================] - 191s 298ms/step - loss: 0.0478 - accuracy: 0.9846 - val_loss: 0.0617 - val_accuracy: 0.9797\n",
            "Epoch 52/100\n",
            "640/640 [==============================] - 191s 298ms/step - loss: 0.0376 - accuracy: 0.9885 - val_loss: 0.1905 - val_accuracy: 0.9242\n",
            "Epoch 53/100\n",
            "640/640 [==============================] - 191s 298ms/step - loss: 0.0443 - accuracy: 0.9831 - val_loss: 0.0687 - val_accuracy: 0.9758\n",
            "Epoch 54/100\n",
            "640/640 [==============================] - 190s 297ms/step - loss: 0.0300 - accuracy: 0.9918 - val_loss: 0.0713 - val_accuracy: 0.9734\n",
            "Epoch 55/100\n",
            "640/640 [==============================] - 191s 298ms/step - loss: 0.0324 - accuracy: 0.9880 - val_loss: 0.1737 - val_accuracy: 0.9297\n",
            "Epoch 56/100\n",
            "640/640 [==============================] - 190s 298ms/step - loss: 0.0273 - accuracy: 0.9912 - val_loss: 0.0405 - val_accuracy: 0.9867\n",
            "Epoch 57/100\n",
            "640/640 [==============================] - 190s 297ms/step - loss: 0.0160 - accuracy: 0.9939 - val_loss: 0.0863 - val_accuracy: 0.9758\n",
            "Epoch 58/100\n",
            "640/640 [==============================] - 191s 298ms/step - loss: 0.0495 - accuracy: 0.9877 - val_loss: 0.8176 - val_accuracy: 0.7648\n",
            "Epoch 59/100\n",
            "640/640 [==============================] - 191s 298ms/step - loss: 0.0196 - accuracy: 0.9950 - val_loss: 0.1128 - val_accuracy: 0.9641\n",
            "Epoch 60/100\n",
            "640/640 [==============================] - 191s 298ms/step - loss: 0.0344 - accuracy: 0.9875 - val_loss: 0.0484 - val_accuracy: 0.9820\n",
            "Epoch 61/100\n",
            "640/640 [==============================] - 191s 298ms/step - loss: 0.0229 - accuracy: 0.9925 - val_loss: 0.2832 - val_accuracy: 0.9094\n",
            "Epoch 62/100\n",
            "640/640 [==============================] - 191s 298ms/step - loss: 0.0239 - accuracy: 0.9917 - val_loss: 0.0759 - val_accuracy: 0.9734\n",
            "Epoch 63/100\n",
            "640/640 [==============================] - 190s 297ms/step - loss: 0.0109 - accuracy: 0.9960 - val_loss: 0.1296 - val_accuracy: 0.9625\n",
            "Epoch 64/100\n",
            "640/640 [==============================] - 191s 298ms/step - loss: 0.0105 - accuracy: 0.9957 - val_loss: 0.0478 - val_accuracy: 0.9820\n",
            "Epoch 65/100\n",
            "640/640 [==============================] - 191s 298ms/step - loss: 0.0605 - accuracy: 0.9850 - val_loss: 0.1703 - val_accuracy: 0.9461\n",
            "Epoch 66/100\n",
            "640/640 [==============================] - 191s 298ms/step - loss: 0.0433 - accuracy: 0.9852 - val_loss: 0.4199 - val_accuracy: 0.8648\n",
            "Epoch 67/100\n",
            "640/640 [==============================] - 190s 298ms/step - loss: 0.0191 - accuracy: 0.9921 - val_loss: 0.5463 - val_accuracy: 0.8367\n",
            "Epoch 68/100\n",
            "640/640 [==============================] - 190s 298ms/step - loss: 0.0405 - accuracy: 0.9839 - val_loss: 0.3080 - val_accuracy: 0.9109\n",
            "Epoch 69/100\n",
            "640/640 [==============================] - 190s 298ms/step - loss: 0.0153 - accuracy: 0.9939 - val_loss: 0.4399 - val_accuracy: 0.8773\n",
            "Epoch 70/100\n",
            "640/640 [==============================] - 191s 298ms/step - loss: 0.0114 - accuracy: 0.9952 - val_loss: 0.0454 - val_accuracy: 0.9867\n",
            "Epoch 71/100\n",
            "640/640 [==============================] - 191s 298ms/step - loss: 0.0187 - accuracy: 0.9922 - val_loss: 0.0489 - val_accuracy: 0.9789\n",
            "Epoch 72/100\n",
            "640/640 [==============================] - 191s 298ms/step - loss: 0.0289 - accuracy: 0.9931 - val_loss: 0.2240 - val_accuracy: 0.9250\n",
            "Epoch 73/100\n",
            "640/640 [==============================] - 190s 297ms/step - loss: 0.0095 - accuracy: 0.9972 - val_loss: 0.0980 - val_accuracy: 0.9695\n",
            "Epoch 74/100\n",
            "640/640 [==============================] - 190s 298ms/step - loss: 0.0144 - accuracy: 0.9952 - val_loss: 0.1042 - val_accuracy: 0.9617\n",
            "Epoch 75/100\n",
            "640/640 [==============================] - 191s 298ms/step - loss: 0.0360 - accuracy: 0.9903 - val_loss: 0.0496 - val_accuracy: 0.9844\n",
            "Epoch 76/100\n",
            "640/640 [==============================] - 190s 298ms/step - loss: 0.0125 - accuracy: 0.9945 - val_loss: 0.3947 - val_accuracy: 0.8758\n",
            "Epoch 77/100\n",
            "640/640 [==============================] - 190s 297ms/step - loss: 0.0352 - accuracy: 0.9807 - val_loss: 0.0518 - val_accuracy: 0.9844\n",
            "Epoch 78/100\n",
            "640/640 [==============================] - 190s 297ms/step - loss: 0.0232 - accuracy: 0.9903 - val_loss: 0.0383 - val_accuracy: 0.9883\n",
            "Epoch 79/100\n",
            "640/640 [==============================] - 190s 297ms/step - loss: 0.0204 - accuracy: 0.9914 - val_loss: 1.0328 - val_accuracy: 0.7609\n",
            "Epoch 80/100\n",
            "640/640 [==============================] - 190s 296ms/step - loss: 0.0118 - accuracy: 0.9945 - val_loss: 0.0590 - val_accuracy: 0.9773\n",
            "Epoch 81/100\n",
            "640/640 [==============================] - 190s 297ms/step - loss: 0.0097 - accuracy: 0.9954 - val_loss: 0.0736 - val_accuracy: 0.9727\n",
            "Epoch 82/100\n",
            "640/640 [==============================] - 190s 297ms/step - loss: 0.0060 - accuracy: 0.9969 - val_loss: 0.0404 - val_accuracy: 0.9867\n",
            "Epoch 83/100\n",
            "640/640 [==============================] - 190s 297ms/step - loss: 0.0036 - accuracy: 0.9979 - val_loss: 0.0372 - val_accuracy: 0.9867\n",
            "Epoch 84/100\n",
            "640/640 [==============================] - 190s 297ms/step - loss: 0.0369 - accuracy: 0.9839 - val_loss: 0.0333 - val_accuracy: 0.9922\n",
            "Epoch 85/100\n",
            "640/640 [==============================] - 190s 297ms/step - loss: 0.0090 - accuracy: 0.9960 - val_loss: 0.0360 - val_accuracy: 0.9852\n",
            "Epoch 86/100\n",
            "640/640 [==============================] - 190s 297ms/step - loss: 0.0049 - accuracy: 0.9984 - val_loss: 0.0297 - val_accuracy: 0.9875\n",
            "Epoch 87/100\n",
            "640/640 [==============================] - 190s 297ms/step - loss: 0.0111 - accuracy: 0.9980 - val_loss: 0.0342 - val_accuracy: 0.9859\n",
            "Epoch 88/100\n",
            "640/640 [==============================] - 190s 297ms/step - loss: 0.0057 - accuracy: 0.9968 - val_loss: 0.0321 - val_accuracy: 0.9891\n",
            "Epoch 89/100\n",
            "640/640 [==============================] - 190s 297ms/step - loss: 0.0195 - accuracy: 0.9922 - val_loss: 0.0772 - val_accuracy: 0.9719\n",
            "Epoch 90/100\n",
            "640/640 [==============================] - 190s 297ms/step - loss: 0.0122 - accuracy: 0.9949 - val_loss: 0.0548 - val_accuracy: 0.9828\n",
            "Epoch 91/100\n",
            "640/640 [==============================] - 190s 297ms/step - loss: 0.0319 - accuracy: 0.9891 - val_loss: 0.0475 - val_accuracy: 0.9836\n",
            "Epoch 92/100\n",
            "640/640 [==============================] - 190s 297ms/step - loss: 0.0059 - accuracy: 0.9977 - val_loss: 0.1272 - val_accuracy: 0.9664\n",
            "Epoch 93/100\n",
            "640/640 [==============================] - 190s 297ms/step - loss: 0.0162 - accuracy: 0.9955 - val_loss: 0.2014 - val_accuracy: 0.9375\n",
            "Epoch 94/100\n",
            "640/640 [==============================] - 190s 297ms/step - loss: 0.0149 - accuracy: 0.9953 - val_loss: 0.0495 - val_accuracy: 0.9805\n",
            "Epoch 95/100\n",
            "640/640 [==============================] - 190s 297ms/step - loss: 0.0059 - accuracy: 0.9967 - val_loss: 1.1422 - val_accuracy: 0.7734\n",
            "Epoch 96/100\n",
            "640/640 [==============================] - 190s 297ms/step - loss: 0.0132 - accuracy: 0.9953 - val_loss: 0.0501 - val_accuracy: 0.9852\n",
            "Epoch 97/100\n",
            "640/640 [==============================] - 190s 297ms/step - loss: 0.0025 - accuracy: 0.9996 - val_loss: 0.0944 - val_accuracy: 0.9734\n",
            "Epoch 98/100\n",
            "640/640 [==============================] - 190s 297ms/step - loss: 0.0076 - accuracy: 0.9966 - val_loss: 0.1341 - val_accuracy: 0.9586\n",
            "Epoch 99/100\n",
            "640/640 [==============================] - 190s 297ms/step - loss: 0.0205 - accuracy: 0.9935 - val_loss: 0.0390 - val_accuracy: 0.9891\n",
            "Epoch 100/100\n",
            "640/640 [==============================] - 190s 297ms/step - loss: 0.0043 - accuracy: 0.9977 - val_loss: 0.0396 - val_accuracy: 0.9906\n"
          ],
          "name": "stdout"
        }
      ]
    },
    {
      "cell_type": "code",
      "metadata": {
        "id": "_xnJPu6ySdDd"
      },
      "source": [
        "import matplotlib.pyplot as plt\r\n",
        "def plot_metrics(history):\r\n",
        "  # plotting the metrics\r\n",
        "  fig = plt.figure()\r\n",
        "  plt.subplot(2,1,1)\r\n",
        "  plt.plot(history.history['accuracy'])\r\n",
        "  plt.plot(history.history['val_accuracy'])\r\n",
        "  plt.title('model accuracy')\r\n",
        "  plt.ylabel('accuracy')\r\n",
        "  plt.xlabel('epoch')\r\n",
        "  plt.legend(['train', 'test'], loc='lower right')\r\n",
        "\r\n",
        "  plt.subplot(2,1,2)\r\n",
        "  plt.plot(history.history['loss'])\r\n",
        "  plt.plot(history.history['val_loss'])\r\n",
        "  plt.title('model loss')\r\n",
        "  plt.ylabel('loss')\r\n",
        "  plt.xlabel('epoch')\r\n",
        "  plt.legend(['train', 'test'], loc='upper right')\r\n",
        "\r\n",
        "  plt.tight_layout()"
      ],
      "execution_count": 16,
      "outputs": []
    },
    {
      "cell_type": "code",
      "metadata": {
        "colab": {
          "base_uri": "https://localhost:8080/",
          "height": 297
        },
        "id": "Ra4yhfMTSigi",
        "outputId": "3cf43826-d7fe-45a9-c076-5ac2fec97b76"
      },
      "source": [
        "plot_metrics(history)"
      ],
      "execution_count": 17,
      "outputs": [
        {
          "output_type": "display_data",
          "data": {
            "image/png": "[encoded data removed]",
            "text/plain": [
              "<Figure size 432x288 with 2 Axes>"
            ]
          },
          "metadata": {
            "tags": [],
            "needs_background": "light"
          }
        }
      ]
    },
    {
      "cell_type": "code",
      "metadata": {
        "id": "nGexHLdfSkIo",
        "colab": {
          "base_uri": "https://localhost:8080/"
        },
        "outputId": "1f896154-1604-4cf9-9836-b6838faef4bb"
      },
      "source": [
        "loss_and_metrics = model.evaluate(train_generator, verbose=2)\r\n",
        "\r\n",
        "print(\"Test Loss\", loss_and_metrics[0])\r\n",
        "print(\"Test Accuracy\", loss_and_metrics[1])"
      ],
      "execution_count": 18,
      "outputs": [
        {
          "output_type": "stream",
          "text": [
            "640/640 - 49s - loss: 0.0040 - accuracy: 0.9973\n",
            "Test Loss 0.003961245995014906\n",
            "Test Accuracy 0.997265636920929\n"
          ],
          "name": "stdout"
        }
      ]
    },
    {
      "cell_type": "code",
      "metadata": {
        "id": "F1eOi1KMSsv8",
        "colab": {
          "base_uri": "https://localhost:8080/"
        },
        "outputId": "c6258257-1f6a-4516-d1cf-3efab22dedd2"
      },
      "source": [
        "import time\r\n",
        "t0= time.process_time()\r\n",
        "y_pred_sm = model.predict(val_generator)\r\n",
        "t1 = time.process_time() - t0\r\n",
        "print(\"Time elapsed: \", t1, \" seconds\")\r\n",
        "\r\n",
        "y_pred = np.argmax(y_pred_sm, axis=1)"
      ],
      "execution_count": 20,
      "outputs": [
        {
          "output_type": "stream",
          "text": [
            "Time elapsed:  15.928788224999153  seconds\n"
          ],
          "name": "stdout"
        }
      ]
    }
  ]
}