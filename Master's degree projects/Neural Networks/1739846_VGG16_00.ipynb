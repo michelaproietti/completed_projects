{
  "nbformat": 4,
  "nbformat_minor": 0,
  "metadata": {
    "colab": {
      "name": "VGG16_00.ipynb",
      "provenance": [],
      "collapsed_sections": []
    },
    "kernelspec": {
      "name": "python3",
      "display_name": "Python 3"
    },
    "accelerator": "GPU"
  },
  "cells": [
    {
      "cell_type": "code",
      "metadata": {
        "id": "7bQ7VH2kEazx"
      },
      "source": [
        "import numpy as np\r\n",
        "import tensorflow as tf\r\n",
        "\r\n",
        "import matplotlib.pyplot as plt\r\n",
        "\r\n",
        "from tensorflow.keras.preprocessing.image import ImageDataGenerator\r\n",
        "from tensorflow.keras.models import Model\r\n",
        "from tensorflow.keras.layers import Dropout, Flatten, Dense, BatchNormalization\r\n",
        "from tensorflow.keras.applications import VGG16\r\n",
        "from keras.utils.vis_utils import plot_model"
      ],
      "execution_count": 23,
      "outputs": []
    },
    {
      "cell_type": "code",
      "metadata": {
        "id": "BnAK7K32EsSq"
      },
      "source": [
        "# dimensions of our images.\r\n",
        "img_width, img_height = 224, 224\r\n",
        "channels = 3\r\n",
        "batch_size = 40\r\n",
        "n_train_samples = 5120\r\n",
        "n_val_samples = 1280\r\n",
        "epochs = 100\r\n",
        "\r\n",
        "train_data_dir = '/content/drive/MyDrive/NN_project/data_00/train'\r\n",
        "validation_data_dir = '/content/drive/MyDrive/NN_project/data_00/validation'"
      ],
      "execution_count": 9,
      "outputs": []
    },
    {
      "cell_type": "code",
      "metadata": {
        "colab": {
          "base_uri": "https://localhost:8080/"
        },
        "id": "aoxFmSUlGRDW",
        "outputId": "cb40d671-a356-4f45-c637-6b5c7b0e99a5"
      },
      "source": [
        "datagen = ImageDataGenerator(rescale=1. / 255)\r\n",
        "\r\n",
        "train_generator = datagen.flow_from_directory(\r\n",
        "        train_data_dir,\r\n",
        "        target_size=(img_width, img_height),\r\n",
        "        batch_size=batch_size,\r\n",
        "        class_mode='binary',\r\n",
        "        shuffle=False)\r\n",
        "\r\n",
        "val_generator = datagen.flow_from_directory(\r\n",
        "    validation_data_dir,\r\n",
        "    target_size=(img_width, img_height),\r\n",
        "    batch_size=batch_size,\r\n",
        "    class_mode='binary',\r\n",
        "    shuffle=False)"
      ],
      "execution_count": 10,
      "outputs": [
        {
          "output_type": "stream",
          "text": [
            "Found 5120 images belonging to 2 classes.\n",
            "Found 1280 images belonging to 2 classes.\n"
          ],
          "name": "stdout"
        }
      ]
    },
    {
      "cell_type": "code",
      "metadata": {
        "colab": {
          "base_uri": "https://localhost:8080/"
        },
        "id": "TLxPpyo_IEhs",
        "outputId": "e5de20da-f169-49be-b522-502fa0f20726"
      },
      "source": [
        "pretrained_model = VGG16(input_shape=(img_height, img_width, channels), include_top=False, weights=\"imagenet\")"
      ],
      "execution_count": 11,
      "outputs": [
        {
          "output_type": "stream",
          "text": [
            "Downloading data from https://storage.googleapis.com/tensorflow/keras-applications/vgg16/vgg16_weights_tf_dim_ordering_tf_kernels_notop.h5\n",
            "58892288/58889256 [==============================] - 1s 0us/step\n"
          ],
          "name": "stdout"
        }
      ]
    },
    {
      "cell_type": "code",
      "metadata": {
        "id": "92lFjcggIKH1"
      },
      "source": [
        "last_layer = pretrained_model.get_layer('block5_pool')\r\n",
        "last_output = last_layer.output\r\n",
        "\r\n",
        "for idx,layer in enumerate(pretrained_model.layers):\r\n",
        "    layer.trainable = False"
      ],
      "execution_count": 13,
      "outputs": []
    },
    {
      "cell_type": "code",
      "metadata": {
        "id": "mzFJgc8sIjCi"
      },
      "source": [
        "x = Flatten()(last_output)\r\n",
        "\r\n",
        "x = Dropout(0.5)(x)\r\n",
        "x = Dense(256, activation='relu')(x)\r\n",
        "x = Dense(1, activation='sigmoid')(x)"
      ],
      "execution_count": 14,
      "outputs": []
    },
    {
      "cell_type": "code",
      "metadata": {
        "id": "v2HrRI06ImEV"
      },
      "source": [
        "model = Model(pretrained_model.input, x)\r\n",
        "\r\n",
        "model.compile(loss='binary_crossentropy',\r\n",
        "              optimizer='rmsprop',\r\n",
        "              metrics=['accuracy'])"
      ],
      "execution_count": 19,
      "outputs": []
    },
    {
      "cell_type": "code",
      "metadata": {
        "colab": {
          "base_uri": "https://localhost:8080/"
        },
        "id": "fZta8z-SJjcX",
        "outputId": "e54c8243-8f86-49ed-d91b-b783c4b0be0b"
      },
      "source": [
        "history = model.fit(\r\n",
        "    train_generator,\r\n",
        "    epochs=epochs,\r\n",
        "    validation_data=val_generator,\r\n",
        "    validation_steps=n_val_samples//batch_size,\r\n",
        "    steps_per_epoch=n_train_samples//batch_size)"
      ],
      "execution_count": 20,
      "outputs": [
        {
          "output_type": "stream",
          "text": [
            "Epoch 1/100\n",
            "128/128 [==============================] - 34s 196ms/step - loss: 4.9121 - accuracy: 0.4983 - val_loss: 0.6916 - val_accuracy: 0.5000\n",
            "Epoch 2/100\n",
            "128/128 [==============================] - 25s 195ms/step - loss: 0.7079 - accuracy: 0.5462 - val_loss: 0.6831 - val_accuracy: 0.6352\n",
            "Epoch 3/100\n",
            "128/128 [==============================] - 25s 195ms/step - loss: 0.6957 - accuracy: 0.5850 - val_loss: 0.6572 - val_accuracy: 0.6898\n",
            "Epoch 4/100\n",
            "128/128 [==============================] - 25s 196ms/step - loss: 0.6766 - accuracy: 0.6245 - val_loss: 0.6299 - val_accuracy: 0.6555\n",
            "Epoch 5/100\n",
            "128/128 [==============================] - 25s 196ms/step - loss: 0.6544 - accuracy: 0.6283 - val_loss: 0.7194 - val_accuracy: 0.5133\n",
            "Epoch 6/100\n",
            "128/128 [==============================] - 25s 197ms/step - loss: 0.6178 - accuracy: 0.6763 - val_loss: 0.6037 - val_accuracy: 0.6445\n",
            "Epoch 7/100\n",
            "128/128 [==============================] - 25s 197ms/step - loss: 0.6399 - accuracy: 0.6838 - val_loss: 0.5869 - val_accuracy: 0.7281\n",
            "Epoch 8/100\n",
            "128/128 [==============================] - 25s 196ms/step - loss: 0.6111 - accuracy: 0.7302 - val_loss: 0.5803 - val_accuracy: 0.6805\n",
            "Epoch 9/100\n",
            "128/128 [==============================] - 25s 196ms/step - loss: 0.6062 - accuracy: 0.7074 - val_loss: 0.5649 - val_accuracy: 0.7391\n",
            "Epoch 10/100\n",
            "128/128 [==============================] - 25s 196ms/step - loss: 0.6083 - accuracy: 0.6574 - val_loss: 0.5595 - val_accuracy: 0.7383\n",
            "Epoch 11/100\n",
            "128/128 [==============================] - 25s 196ms/step - loss: 0.5837 - accuracy: 0.7459 - val_loss: 0.5556 - val_accuracy: 0.7227\n",
            "Epoch 12/100\n",
            "128/128 [==============================] - 25s 196ms/step - loss: 0.5579 - accuracy: 0.7261 - val_loss: 0.5538 - val_accuracy: 0.7164\n",
            "Epoch 13/100\n",
            "128/128 [==============================] - 25s 195ms/step - loss: 0.5801 - accuracy: 0.7187 - val_loss: 0.5684 - val_accuracy: 0.7016\n",
            "Epoch 14/100\n",
            "128/128 [==============================] - 25s 196ms/step - loss: 0.5674 - accuracy: 0.7281 - val_loss: 0.6007 - val_accuracy: 0.6562\n",
            "Epoch 15/100\n",
            "128/128 [==============================] - 25s 196ms/step - loss: 0.5857 - accuracy: 0.6668 - val_loss: 0.5477 - val_accuracy: 0.7406\n",
            "Epoch 16/100\n",
            "128/128 [==============================] - 25s 196ms/step - loss: 0.5832 - accuracy: 0.7068 - val_loss: 0.5466 - val_accuracy: 0.7266\n",
            "Epoch 17/100\n",
            "128/128 [==============================] - 25s 196ms/step - loss: 0.5542 - accuracy: 0.7391 - val_loss: 0.5479 - val_accuracy: 0.7266\n",
            "Epoch 18/100\n",
            "128/128 [==============================] - 25s 197ms/step - loss: 0.5743 - accuracy: 0.7083 - val_loss: 0.5246 - val_accuracy: 0.7563\n",
            "Epoch 19/100\n",
            "128/128 [==============================] - 25s 196ms/step - loss: 0.5660 - accuracy: 0.7353 - val_loss: 0.5468 - val_accuracy: 0.7242\n",
            "Epoch 20/100\n",
            "128/128 [==============================] - 25s 196ms/step - loss: 0.5222 - accuracy: 0.7767 - val_loss: 0.5278 - val_accuracy: 0.7469\n",
            "Epoch 21/100\n",
            "128/128 [==============================] - 25s 196ms/step - loss: 0.5317 - accuracy: 0.7178 - val_loss: 0.5256 - val_accuracy: 0.7359\n",
            "Epoch 22/100\n",
            "128/128 [==============================] - 25s 196ms/step - loss: 0.5222 - accuracy: 0.7516 - val_loss: 0.5029 - val_accuracy: 0.7641\n",
            "Epoch 23/100\n",
            "128/128 [==============================] - 25s 196ms/step - loss: 0.5327 - accuracy: 0.7375 - val_loss: 0.5406 - val_accuracy: 0.6875\n",
            "Epoch 24/100\n",
            "128/128 [==============================] - 25s 196ms/step - loss: 0.5365 - accuracy: 0.7585 - val_loss: 0.5185 - val_accuracy: 0.7539\n",
            "Epoch 25/100\n",
            "128/128 [==============================] - 25s 196ms/step - loss: 0.5033 - accuracy: 0.7729 - val_loss: 0.4982 - val_accuracy: 0.7664\n",
            "Epoch 26/100\n",
            "128/128 [==============================] - 25s 196ms/step - loss: 0.5008 - accuracy: 0.7774 - val_loss: 0.4955 - val_accuracy: 0.7688\n",
            "Epoch 27/100\n",
            "128/128 [==============================] - 25s 196ms/step - loss: 0.4984 - accuracy: 0.7529 - val_loss: 0.5123 - val_accuracy: 0.7492\n",
            "Epoch 28/100\n",
            "128/128 [==============================] - 25s 196ms/step - loss: 0.5120 - accuracy: 0.7445 - val_loss: 0.4986 - val_accuracy: 0.7594\n",
            "Epoch 29/100\n",
            "128/128 [==============================] - 25s 196ms/step - loss: 0.5091 - accuracy: 0.7568 - val_loss: 0.4719 - val_accuracy: 0.7836\n",
            "Epoch 30/100\n",
            "128/128 [==============================] - 25s 196ms/step - loss: 0.4892 - accuracy: 0.7956 - val_loss: 0.5448 - val_accuracy: 0.7000\n",
            "Epoch 31/100\n",
            "128/128 [==============================] - 25s 196ms/step - loss: 0.4928 - accuracy: 0.7883 - val_loss: 0.4737 - val_accuracy: 0.7828\n",
            "Epoch 32/100\n",
            "128/128 [==============================] - 25s 196ms/step - loss: 0.5142 - accuracy: 0.7561 - val_loss: 0.7182 - val_accuracy: 0.6039\n",
            "Epoch 33/100\n",
            "128/128 [==============================] - 25s 196ms/step - loss: 0.4948 - accuracy: 0.7476 - val_loss: 0.5237 - val_accuracy: 0.7383\n",
            "Epoch 34/100\n",
            "128/128 [==============================] - 25s 196ms/step - loss: 0.5103 - accuracy: 0.7283 - val_loss: 0.5005 - val_accuracy: 0.7516\n",
            "Epoch 35/100\n",
            "128/128 [==============================] - 25s 196ms/step - loss: 0.4686 - accuracy: 0.7727 - val_loss: 0.4672 - val_accuracy: 0.7703\n",
            "Epoch 36/100\n",
            "128/128 [==============================] - 25s 196ms/step - loss: 0.4799 - accuracy: 0.7939 - val_loss: 0.4606 - val_accuracy: 0.7906\n",
            "Epoch 37/100\n",
            "128/128 [==============================] - 25s 196ms/step - loss: 0.4570 - accuracy: 0.7998 - val_loss: 0.4393 - val_accuracy: 0.8094\n",
            "Epoch 38/100\n",
            "128/128 [==============================] - 25s 196ms/step - loss: 0.4399 - accuracy: 0.8070 - val_loss: 0.4961 - val_accuracy: 0.7547\n",
            "Epoch 39/100\n",
            "128/128 [==============================] - 25s 196ms/step - loss: 0.4595 - accuracy: 0.8099 - val_loss: 0.4335 - val_accuracy: 0.8109\n",
            "Epoch 40/100\n",
            "128/128 [==============================] - 25s 196ms/step - loss: 0.4595 - accuracy: 0.7885 - val_loss: 0.4480 - val_accuracy: 0.7953\n",
            "Epoch 41/100\n",
            "128/128 [==============================] - 25s 196ms/step - loss: 0.4279 - accuracy: 0.8163 - val_loss: 0.4924 - val_accuracy: 0.7695\n",
            "Epoch 42/100\n",
            "128/128 [==============================] - 25s 196ms/step - loss: 0.4287 - accuracy: 0.8069 - val_loss: 0.4669 - val_accuracy: 0.7812\n",
            "Epoch 43/100\n",
            "128/128 [==============================] - 25s 196ms/step - loss: 0.4479 - accuracy: 0.8171 - val_loss: 0.4321 - val_accuracy: 0.8102\n",
            "Epoch 44/100\n",
            "128/128 [==============================] - 25s 196ms/step - loss: 0.4387 - accuracy: 0.8191 - val_loss: 0.4852 - val_accuracy: 0.7602\n",
            "Epoch 45/100\n",
            "128/128 [==============================] - 25s 196ms/step - loss: 0.4288 - accuracy: 0.8058 - val_loss: 0.4221 - val_accuracy: 0.8250\n",
            "Epoch 46/100\n",
            "128/128 [==============================] - 25s 196ms/step - loss: 0.4375 - accuracy: 0.8072 - val_loss: 0.4034 - val_accuracy: 0.8281\n",
            "Epoch 47/100\n",
            "128/128 [==============================] - 25s 196ms/step - loss: 0.4175 - accuracy: 0.8032 - val_loss: 0.4595 - val_accuracy: 0.7812\n",
            "Epoch 48/100\n",
            "128/128 [==============================] - 25s 196ms/step - loss: 0.4107 - accuracy: 0.8441 - val_loss: 0.4728 - val_accuracy: 0.7781\n",
            "Epoch 49/100\n",
            "128/128 [==============================] - 25s 196ms/step - loss: 0.4008 - accuracy: 0.8301 - val_loss: 0.3932 - val_accuracy: 0.8352\n",
            "Epoch 50/100\n",
            "128/128 [==============================] - 25s 195ms/step - loss: 0.4227 - accuracy: 0.8208 - val_loss: 0.4604 - val_accuracy: 0.7500\n",
            "Epoch 51/100\n",
            "128/128 [==============================] - 25s 196ms/step - loss: 0.4106 - accuracy: 0.8328 - val_loss: 0.3979 - val_accuracy: 0.8289\n",
            "Epoch 52/100\n",
            "128/128 [==============================] - 25s 196ms/step - loss: 0.4339 - accuracy: 0.8111 - val_loss: 0.4041 - val_accuracy: 0.8266\n",
            "Epoch 53/100\n",
            "128/128 [==============================] - 25s 196ms/step - loss: 0.4066 - accuracy: 0.8316 - val_loss: 0.3994 - val_accuracy: 0.8297\n",
            "Epoch 54/100\n",
            "128/128 [==============================] - 25s 196ms/step - loss: 0.4104 - accuracy: 0.8179 - val_loss: 0.4131 - val_accuracy: 0.8086\n",
            "Epoch 55/100\n",
            "128/128 [==============================] - 25s 196ms/step - loss: 0.3737 - accuracy: 0.8554 - val_loss: 0.4212 - val_accuracy: 0.8047\n",
            "Epoch 56/100\n",
            "128/128 [==============================] - 25s 196ms/step - loss: 0.4171 - accuracy: 0.8106 - val_loss: 0.3666 - val_accuracy: 0.8578\n",
            "Epoch 57/100\n",
            "128/128 [==============================] - 25s 196ms/step - loss: 0.3860 - accuracy: 0.8341 - val_loss: 0.3847 - val_accuracy: 0.8328\n",
            "Epoch 58/100\n",
            "128/128 [==============================] - 25s 196ms/step - loss: 0.4002 - accuracy: 0.8248 - val_loss: 0.3718 - val_accuracy: 0.8414\n",
            "Epoch 59/100\n",
            "128/128 [==============================] - 25s 196ms/step - loss: 0.3826 - accuracy: 0.8398 - val_loss: 0.3777 - val_accuracy: 0.8383\n",
            "Epoch 60/100\n",
            "128/128 [==============================] - 25s 196ms/step - loss: 0.3781 - accuracy: 0.8548 - val_loss: 0.3633 - val_accuracy: 0.8586\n",
            "Epoch 61/100\n",
            "128/128 [==============================] - 25s 196ms/step - loss: 0.3797 - accuracy: 0.8272 - val_loss: 0.3671 - val_accuracy: 0.8422\n",
            "Epoch 62/100\n",
            "128/128 [==============================] - 25s 196ms/step - loss: 0.3701 - accuracy: 0.8545 - val_loss: 0.4463 - val_accuracy: 0.7891\n",
            "Epoch 63/100\n",
            "128/128 [==============================] - 25s 196ms/step - loss: 0.3821 - accuracy: 0.8381 - val_loss: 0.3921 - val_accuracy: 0.8359\n",
            "Epoch 64/100\n",
            "128/128 [==============================] - 25s 196ms/step - loss: 0.3768 - accuracy: 0.8470 - val_loss: 0.3919 - val_accuracy: 0.8242\n",
            "Epoch 65/100\n",
            "128/128 [==============================] - 25s 196ms/step - loss: 0.3741 - accuracy: 0.8436 - val_loss: 0.4037 - val_accuracy: 0.8172\n",
            "Epoch 66/100\n",
            "128/128 [==============================] - 25s 196ms/step - loss: 0.3875 - accuracy: 0.8344 - val_loss: 0.3664 - val_accuracy: 0.8422\n",
            "Epoch 67/100\n",
            "128/128 [==============================] - 25s 196ms/step - loss: 0.3710 - accuracy: 0.8403 - val_loss: 1.4860 - val_accuracy: 0.5250\n",
            "Epoch 68/100\n",
            "128/128 [==============================] - 25s 196ms/step - loss: 0.3799 - accuracy: 0.8497 - val_loss: 0.3992 - val_accuracy: 0.8211\n",
            "Epoch 69/100\n",
            "128/128 [==============================] - 25s 196ms/step - loss: 0.3614 - accuracy: 0.8437 - val_loss: 0.3862 - val_accuracy: 0.8242\n",
            "Epoch 70/100\n",
            "128/128 [==============================] - 25s 196ms/step - loss: 0.3661 - accuracy: 0.8529 - val_loss: 0.6222 - val_accuracy: 0.6984\n",
            "Epoch 71/100\n",
            "128/128 [==============================] - 25s 196ms/step - loss: 0.3826 - accuracy: 0.8461 - val_loss: 0.3216 - val_accuracy: 0.8844\n",
            "Epoch 72/100\n",
            "128/128 [==============================] - 25s 196ms/step - loss: 0.3186 - accuracy: 0.8776 - val_loss: 0.4233 - val_accuracy: 0.8047\n",
            "Epoch 73/100\n",
            "128/128 [==============================] - 25s 196ms/step - loss: 0.3773 - accuracy: 0.8314 - val_loss: 0.6422 - val_accuracy: 0.6664\n",
            "Epoch 74/100\n",
            "128/128 [==============================] - 25s 196ms/step - loss: 0.3678 - accuracy: 0.8403 - val_loss: 0.3310 - val_accuracy: 0.8766\n",
            "Epoch 75/100\n",
            "128/128 [==============================] - 25s 196ms/step - loss: 0.3317 - accuracy: 0.8621 - val_loss: 0.4863 - val_accuracy: 0.7719\n",
            "Epoch 76/100\n",
            "128/128 [==============================] - 25s 196ms/step - loss: 0.3379 - accuracy: 0.8731 - val_loss: 0.4302 - val_accuracy: 0.7984\n",
            "Epoch 77/100\n",
            "128/128 [==============================] - 25s 196ms/step - loss: 0.3601 - accuracy: 0.8537 - val_loss: 0.3101 - val_accuracy: 0.8875\n",
            "Epoch 78/100\n",
            "128/128 [==============================] - 25s 196ms/step - loss: 0.3186 - accuracy: 0.8738 - val_loss: 0.3519 - val_accuracy: 0.8680\n",
            "Epoch 79/100\n",
            "128/128 [==============================] - 25s 196ms/step - loss: 0.3165 - accuracy: 0.8778 - val_loss: 0.3942 - val_accuracy: 0.8227\n",
            "Epoch 80/100\n",
            "128/128 [==============================] - 25s 196ms/step - loss: 0.3391 - accuracy: 0.8565 - val_loss: 0.2974 - val_accuracy: 0.8984\n",
            "Epoch 81/100\n",
            "128/128 [==============================] - 25s 196ms/step - loss: 0.3314 - accuracy: 0.8615 - val_loss: 0.3621 - val_accuracy: 0.8438\n",
            "Epoch 82/100\n",
            "128/128 [==============================] - 25s 196ms/step - loss: 0.3165 - accuracy: 0.8731 - val_loss: 0.4532 - val_accuracy: 0.7875\n",
            "Epoch 83/100\n",
            "128/128 [==============================] - 25s 196ms/step - loss: 0.3161 - accuracy: 0.8739 - val_loss: 0.3015 - val_accuracy: 0.8867\n",
            "Epoch 84/100\n",
            "128/128 [==============================] - 25s 196ms/step - loss: 0.3491 - accuracy: 0.8533 - val_loss: 0.3928 - val_accuracy: 0.8133\n",
            "Epoch 85/100\n",
            "128/128 [==============================] - 25s 196ms/step - loss: 0.3028 - accuracy: 0.8856 - val_loss: 0.3662 - val_accuracy: 0.8172\n",
            "Epoch 86/100\n",
            "128/128 [==============================] - 25s 196ms/step - loss: 0.3241 - accuracy: 0.8722 - val_loss: 0.2842 - val_accuracy: 0.8953\n",
            "Epoch 87/100\n",
            "128/128 [==============================] - 25s 196ms/step - loss: 0.3125 - accuracy: 0.8720 - val_loss: 0.4440 - val_accuracy: 0.8203\n",
            "Epoch 88/100\n",
            "128/128 [==============================] - 25s 196ms/step - loss: 0.3258 - accuracy: 0.8762 - val_loss: 0.2979 - val_accuracy: 0.8906\n",
            "Epoch 89/100\n",
            "128/128 [==============================] - 25s 196ms/step - loss: 0.3398 - accuracy: 0.8560 - val_loss: 0.6516 - val_accuracy: 0.7203\n",
            "Epoch 90/100\n",
            "128/128 [==============================] - 25s 196ms/step - loss: 0.3372 - accuracy: 0.8629 - val_loss: 0.3307 - val_accuracy: 0.8687\n",
            "Epoch 91/100\n",
            "128/128 [==============================] - 25s 196ms/step - loss: 0.3204 - accuracy: 0.8692 - val_loss: 0.3231 - val_accuracy: 0.8703\n",
            "Epoch 92/100\n",
            "128/128 [==============================] - 25s 196ms/step - loss: 0.3048 - accuracy: 0.8716 - val_loss: 0.4040 - val_accuracy: 0.8133\n",
            "Epoch 93/100\n",
            "128/128 [==============================] - 25s 196ms/step - loss: 0.3087 - accuracy: 0.8790 - val_loss: 0.2743 - val_accuracy: 0.8891\n",
            "Epoch 94/100\n",
            "128/128 [==============================] - 25s 196ms/step - loss: 0.2787 - accuracy: 0.8931 - val_loss: 0.3945 - val_accuracy: 0.8203\n",
            "Epoch 95/100\n",
            "128/128 [==============================] - 25s 196ms/step - loss: 0.3147 - accuracy: 0.8652 - val_loss: 0.2722 - val_accuracy: 0.9062\n",
            "Epoch 96/100\n",
            "128/128 [==============================] - 25s 195ms/step - loss: 0.2868 - accuracy: 0.8846 - val_loss: 0.3262 - val_accuracy: 0.8625\n",
            "Epoch 97/100\n",
            "128/128 [==============================] - 25s 195ms/step - loss: 0.2846 - accuracy: 0.8920 - val_loss: 0.3043 - val_accuracy: 0.8805\n",
            "Epoch 98/100\n",
            "128/128 [==============================] - 25s 196ms/step - loss: 0.3001 - accuracy: 0.8861 - val_loss: 0.2823 - val_accuracy: 0.8859\n",
            "Epoch 99/100\n",
            "128/128 [==============================] - 25s 196ms/step - loss: 0.2553 - accuracy: 0.8994 - val_loss: 0.3753 - val_accuracy: 0.8195\n",
            "Epoch 100/100\n",
            "128/128 [==============================] - 25s 196ms/step - loss: 0.3200 - accuracy: 0.8764 - val_loss: 0.2652 - val_accuracy: 0.9023\n"
          ],
          "name": "stdout"
        }
      ]
    },
    {
      "cell_type": "code",
      "metadata": {
        "id": "sRHxv9S6SkiP"
      },
      "source": [
        "def plot_metrics(history):\r\n",
        "  # plotting the metrics\r\n",
        "  fig = plt.figure()\r\n",
        "  plt.subplot(2,1,1)\r\n",
        "  plt.plot(history.history['accuracy'])\r\n",
        "  plt.plot(history.history['val_accuracy'])\r\n",
        "  plt.title('model accuracy')\r\n",
        "  plt.ylabel('accuracy')\r\n",
        "  plt.xlabel('epoch')\r\n",
        "  plt.legend(['train', 'test'], loc='lower right')\r\n",
        "\r\n",
        "  plt.subplot(2,1,2)\r\n",
        "  plt.plot(history.history['loss'])\r\n",
        "  plt.plot(history.history['val_loss'])\r\n",
        "  plt.title('model loss')\r\n",
        "  plt.ylabel('loss')\r\n",
        "  plt.xlabel('epoch')\r\n",
        "  plt.legend(['train', 'test'], loc='upper right')\r\n",
        "\r\n",
        "  plt.tight_layout()"
      ],
      "execution_count": 21,
      "outputs": []
    },
    {
      "cell_type": "code",
      "metadata": {
        "colab": {
          "base_uri": "https://localhost:8080/",
          "height": 297
        },
        "id": "RTiEXD5wT7BQ",
        "outputId": "444eb9ac-10c6-481a-eac6-f04d75f62726"
      },
      "source": [
        "plot_metrics(history)"
      ],
      "execution_count": 24,
      "outputs": [
        {
          "output_type": "display_data",
          "data": {
            "image/png": "[encoded data removed]",
            "text/plain": [
              "<Figure size 432x288 with 2 Axes>"
            ]
          },
          "metadata": {
            "tags": [],
            "needs_background": "light"
          }
        }
      ]
    },
    {
      "cell_type": "code",
      "metadata": {
        "colab": {
          "base_uri": "https://localhost:8080/"
        },
        "id": "WVIP6piHUIlW",
        "outputId": "0e039746-e27d-441c-c64c-41f24f6e9307"
      },
      "source": [
        "loss_and_metrics = model.evaluate(val_generator, verbose=2)\r\n",
        "\r\n",
        "print(\"Test Loss\", loss_and_metrics[0])\r\n",
        "print(\"Test Accuracy\", loss_and_metrics[1])"
      ],
      "execution_count": 26,
      "outputs": [
        {
          "output_type": "stream",
          "text": [
            "32/32 - 5s - loss: 0.2652 - accuracy: 0.9023\n",
            "Test Loss 0.2651588022708893\n",
            "Test Accuracy 0.90234375\n"
          ],
          "name": "stdout"
        }
      ]
    }
  ]
}