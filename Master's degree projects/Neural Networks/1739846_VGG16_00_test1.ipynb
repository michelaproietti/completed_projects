{
  "nbformat": 4,
  "nbformat_minor": 0,
  "metadata": {
    "colab": {
      "name": "VGG16_00_test1.ipynb",
      "provenance": [],
      "collapsed_sections": []
    },
    "kernelspec": {
      "name": "python3",
      "display_name": "Python 3"
    },
    "accelerator": "GPU"
  },
  "cells": [
    {
      "cell_type": "code",
      "metadata": {
        "colab": {
          "base_uri": "https://localhost:8080/"
        },
        "id": "5cuDfPm0Z4PZ",
        "outputId": "29994a2d-91b8-45df-a1f2-4393813b74af"
      },
      "source": [
        "import time\r\n",
        "import numpy as np\r\n",
        "import tensorflow as tf\r\n",
        "print(tf.test.gpu_device_name())\r\n",
        "\r\n",
        "import matplotlib.pyplot as plt\r\n",
        "\r\n",
        "from tensorflow.keras.preprocessing.image import ImageDataGenerator\r\n",
        "from tensorflow.keras.models import Model\r\n",
        "from tensorflow.keras.layers import Dropout, Flatten, Dense, BatchNormalization\r\n",
        "from tensorflow.keras.applications import VGG16\r\n",
        "from keras.utils.vis_utils import plot_model"
      ],
      "execution_count": 1,
      "outputs": [
        {
          "output_type": "stream",
          "text": [
            "/device:GPU:0\n"
          ],
          "name": "stdout"
        }
      ]
    },
    {
      "cell_type": "code",
      "metadata": {
        "id": "iIDhIey2aIvz"
      },
      "source": [
        "# dimensions of our images.\r\n",
        "img_width, img_height = 224, 224\r\n",
        "channels = 3\r\n",
        "batch_size = 64\r\n",
        "n_train_samples = 5120\r\n",
        "n_val_samples = 1280\r\n",
        "epochs = 100\r\n",
        "\r\n",
        "train_data_dir = '/content/drive/MyDrive/NN_project/data_00/train'\r\n",
        "validation_data_dir = '/content/drive/MyDrive/NN_project/data_00/validation'"
      ],
      "execution_count": 2,
      "outputs": []
    },
    {
      "cell_type": "code",
      "metadata": {
        "colab": {
          "base_uri": "https://localhost:8080/"
        },
        "id": "WDD81NMGaMmF",
        "outputId": "d32c9d82-5a53-4c18-9053-752807687610"
      },
      "source": [
        "datagen = ImageDataGenerator(rescale=1. / 255)\r\n",
        "\r\n",
        "train_generator = datagen.flow_from_directory(\r\n",
        "        train_data_dir,\r\n",
        "        target_size=(img_width, img_height),\r\n",
        "        batch_size=n_train_samples,\r\n",
        "        class_mode='binary',\r\n",
        "        shuffle=True)\r\n",
        "\r\n",
        "val_generator = datagen.flow_from_directory(\r\n",
        "    validation_data_dir,\r\n",
        "    target_size=(img_width, img_height),\r\n",
        "    batch_size=n_val_samples,\r\n",
        "    class_mode='binary',\r\n",
        "    shuffle=True)"
      ],
      "execution_count": 3,
      "outputs": [
        {
          "output_type": "stream",
          "text": [
            "Found 5120 images belonging to 2 classes.\n",
            "Found 1280 images belonging to 2 classes.\n"
          ],
          "name": "stdout"
        }
      ]
    },
    {
      "cell_type": "code",
      "metadata": {
        "id": "igqG6Sok_Ga_"
      },
      "source": [
        "x_train, y_train = next(train_generator)\r\n",
        "x_val, y_val = next(val_generator)"
      ],
      "execution_count": 4,
      "outputs": []
    },
    {
      "cell_type": "code",
      "metadata": {
        "colab": {
          "base_uri": "https://localhost:8080/"
        },
        "id": "ROgXctGpaiWf",
        "outputId": "f0b83aad-c719-46f8-ddda-dfb199bf8f73"
      },
      "source": [
        "pretrained_model = VGG16(input_shape=(img_height, img_width, channels), include_top=False, weights=\"imagenet\")"
      ],
      "execution_count": 5,
      "outputs": [
        {
          "output_type": "stream",
          "text": [
            "Downloading data from https://storage.googleapis.com/tensorflow/keras-applications/vgg16/vgg16_weights_tf_dim_ordering_tf_kernels_notop.h5\n",
            "58892288/58889256 [==============================] - 1s 0us/step\n"
          ],
          "name": "stdout"
        }
      ]
    },
    {
      "cell_type": "code",
      "metadata": {
        "id": "noAt4Tv0ak-K"
      },
      "source": [
        "last_layer = pretrained_model.get_layer('block5_pool')\r\n",
        "last_output = last_layer.output\r\n",
        "\r\n",
        "for idx,layer in enumerate(pretrained_model.layers):\r\n",
        "    layer.trainable = False"
      ],
      "execution_count": 6,
      "outputs": []
    },
    {
      "cell_type": "code",
      "metadata": {
        "id": "Noc-1amVaoiC"
      },
      "source": [
        "x = Flatten()(last_output)\r\n",
        "x = BatchNormalization()(x)\r\n",
        "\r\n",
        "x = Dropout(0.4)(x)\r\n",
        "x = Dense(200, activation='relu')(x)\r\n",
        "x = BatchNormalization()(x)\r\n",
        "\r\n",
        "x = Dropout(0.4)(x)\r\n",
        "x = Dense(100, activation='relu')(x)\r\n",
        "x = BatchNormalization()(x)\r\n",
        "\r\n",
        "x = BatchNormalization()(x)\r\n",
        "x = Dense(1, activation='sigmoid')(x)"
      ],
      "execution_count": 7,
      "outputs": []
    },
    {
      "cell_type": "code",
      "metadata": {
        "id": "5ZDVbXynapKW"
      },
      "source": [
        "model = Model(pretrained_model.input, x)\r\n",
        "\r\n",
        "model.compile(loss='binary_crossentropy',\r\n",
        "              optimizer='adam',\r\n",
        "              metrics=['accuracy'])"
      ],
      "execution_count": 8,
      "outputs": []
    },
    {
      "cell_type": "code",
      "metadata": {
        "id": "nL4zUCGLaxwa",
        "colab": {
          "base_uri": "https://localhost:8080/"
        },
        "outputId": "4037fed9-7bb8-4c96-c338-75588b95e6cc"
      },
      "source": [
        "history = model.fit(x_train, y_train,\r\n",
        "                    batch_size=64, epochs=50,\r\n",
        "                    validation_data=(x_val, y_val))"
      ],
      "execution_count": 9,
      "outputs": [
        {
          "output_type": "stream",
          "text": [
            "Epoch 1/50\n",
            "80/80 [==============================] - 60s 593ms/step - loss: 0.6093 - accuracy: 0.7147 - val_loss: 0.8717 - val_accuracy: 0.5063\n",
            "Epoch 2/50\n",
            "80/80 [==============================] - 47s 585ms/step - loss: 0.2410 - accuracy: 0.9055 - val_loss: 0.8113 - val_accuracy: 0.5484\n",
            "Epoch 3/50\n",
            "80/80 [==============================] - 47s 585ms/step - loss: 0.1148 - accuracy: 0.9619 - val_loss: 0.4470 - val_accuracy: 0.7672\n",
            "Epoch 4/50\n",
            "80/80 [==============================] - 47s 584ms/step - loss: 0.0799 - accuracy: 0.9759 - val_loss: 0.3141 - val_accuracy: 0.8422\n",
            "Epoch 5/50\n",
            "80/80 [==============================] - 47s 585ms/step - loss: 0.0662 - accuracy: 0.9763 - val_loss: 0.1190 - val_accuracy: 0.9602\n",
            "Epoch 6/50\n",
            "80/80 [==============================] - 47s 585ms/step - loss: 0.0665 - accuracy: 0.9753 - val_loss: 0.0877 - val_accuracy: 0.9695\n",
            "Epoch 7/50\n",
            "80/80 [==============================] - 47s 585ms/step - loss: 0.0486 - accuracy: 0.9841 - val_loss: 0.0628 - val_accuracy: 0.9781\n",
            "Epoch 8/50\n",
            "80/80 [==============================] - 47s 585ms/step - loss: 0.0405 - accuracy: 0.9864 - val_loss: 0.0659 - val_accuracy: 0.9758\n",
            "Epoch 9/50\n",
            "80/80 [==============================] - 47s 585ms/step - loss: 0.0419 - accuracy: 0.9862 - val_loss: 0.0575 - val_accuracy: 0.9781\n",
            "Epoch 10/50\n",
            "80/80 [==============================] - 47s 585ms/step - loss: 0.0414 - accuracy: 0.9865 - val_loss: 0.0551 - val_accuracy: 0.9781\n",
            "Epoch 11/50\n",
            "80/80 [==============================] - 47s 585ms/step - loss: 0.0348 - accuracy: 0.9884 - val_loss: 0.0574 - val_accuracy: 0.9797\n",
            "Epoch 12/50\n",
            "80/80 [==============================] - 47s 585ms/step - loss: 0.0361 - accuracy: 0.9885 - val_loss: 0.0551 - val_accuracy: 0.9797\n",
            "Epoch 13/50\n",
            "80/80 [==============================] - 47s 586ms/step - loss: 0.0309 - accuracy: 0.9885 - val_loss: 0.0689 - val_accuracy: 0.9727\n",
            "Epoch 14/50\n",
            "80/80 [==============================] - 47s 586ms/step - loss: 0.0396 - accuracy: 0.9838 - val_loss: 0.0315 - val_accuracy: 0.9891\n",
            "Epoch 15/50\n",
            "80/80 [==============================] - 47s 585ms/step - loss: 0.0323 - accuracy: 0.9887 - val_loss: 0.0430 - val_accuracy: 0.9859\n",
            "Epoch 16/50\n",
            "80/80 [==============================] - 47s 585ms/step - loss: 0.0258 - accuracy: 0.9903 - val_loss: 0.0238 - val_accuracy: 0.9914\n",
            "Epoch 17/50\n",
            "80/80 [==============================] - 47s 586ms/step - loss: 0.0250 - accuracy: 0.9899 - val_loss: 0.0403 - val_accuracy: 0.9883\n",
            "Epoch 18/50\n",
            "80/80 [==============================] - 47s 585ms/step - loss: 0.0276 - accuracy: 0.9891 - val_loss: 0.0438 - val_accuracy: 0.9859\n",
            "Epoch 19/50\n",
            "80/80 [==============================] - 47s 585ms/step - loss: 0.0214 - accuracy: 0.9931 - val_loss: 0.0383 - val_accuracy: 0.9852\n",
            "Epoch 20/50\n",
            "80/80 [==============================] - 47s 586ms/step - loss: 0.0246 - accuracy: 0.9930 - val_loss: 0.0245 - val_accuracy: 0.9937\n",
            "Epoch 21/50\n",
            "80/80 [==============================] - 47s 585ms/step - loss: 0.0259 - accuracy: 0.9902 - val_loss: 0.0160 - val_accuracy: 0.9953\n",
            "Epoch 22/50\n",
            "80/80 [==============================] - 47s 585ms/step - loss: 0.0212 - accuracy: 0.9918 - val_loss: 0.0432 - val_accuracy: 0.9812\n",
            "Epoch 23/50\n",
            "80/80 [==============================] - 47s 584ms/step - loss: 0.0225 - accuracy: 0.9929 - val_loss: 0.0257 - val_accuracy: 0.9922\n",
            "Epoch 24/50\n",
            "80/80 [==============================] - 47s 584ms/step - loss: 0.0150 - accuracy: 0.9958 - val_loss: 0.0174 - val_accuracy: 0.9945\n",
            "Epoch 25/50\n",
            "80/80 [==============================] - 47s 585ms/step - loss: 0.0259 - accuracy: 0.9910 - val_loss: 0.0292 - val_accuracy: 0.9891\n",
            "Epoch 26/50\n",
            "80/80 [==============================] - 47s 585ms/step - loss: 0.0256 - accuracy: 0.9919 - val_loss: 0.0191 - val_accuracy: 0.9930\n",
            "Epoch 27/50\n",
            "80/80 [==============================] - 47s 585ms/step - loss: 0.0225 - accuracy: 0.9921 - val_loss: 0.0189 - val_accuracy: 0.9945\n",
            "Epoch 28/50\n",
            "80/80 [==============================] - 47s 585ms/step - loss: 0.0175 - accuracy: 0.9911 - val_loss: 0.0258 - val_accuracy: 0.9922\n",
            "Epoch 29/50\n",
            "80/80 [==============================] - 47s 585ms/step - loss: 0.0188 - accuracy: 0.9940 - val_loss: 0.0228 - val_accuracy: 0.9898\n",
            "Epoch 30/50\n",
            "80/80 [==============================] - 47s 585ms/step - loss: 0.0246 - accuracy: 0.9931 - val_loss: 0.0504 - val_accuracy: 0.9844\n",
            "Epoch 31/50\n",
            "80/80 [==============================] - 47s 585ms/step - loss: 0.0189 - accuracy: 0.9931 - val_loss: 0.0250 - val_accuracy: 0.9906\n",
            "Epoch 32/50\n",
            "80/80 [==============================] - 47s 586ms/step - loss: 0.0257 - accuracy: 0.9911 - val_loss: 0.0254 - val_accuracy: 0.9906\n",
            "Epoch 33/50\n",
            "80/80 [==============================] - 47s 585ms/step - loss: 0.0219 - accuracy: 0.9936 - val_loss: 0.0316 - val_accuracy: 0.9859\n",
            "Epoch 34/50\n",
            "80/80 [==============================] - 47s 585ms/step - loss: 0.0213 - accuracy: 0.9935 - val_loss: 0.0430 - val_accuracy: 0.9859\n",
            "Epoch 35/50\n",
            "80/80 [==============================] - 47s 585ms/step - loss: 0.0250 - accuracy: 0.9900 - val_loss: 0.0479 - val_accuracy: 0.9789\n",
            "Epoch 36/50\n",
            "80/80 [==============================] - 47s 584ms/step - loss: 0.0185 - accuracy: 0.9925 - val_loss: 0.0219 - val_accuracy: 0.9922\n",
            "Epoch 37/50\n",
            "80/80 [==============================] - 47s 585ms/step - loss: 0.0128 - accuracy: 0.9952 - val_loss: 0.0210 - val_accuracy: 0.9922\n",
            "Epoch 38/50\n",
            "80/80 [==============================] - 47s 585ms/step - loss: 0.0133 - accuracy: 0.9951 - val_loss: 0.0164 - val_accuracy: 0.9953\n",
            "Epoch 39/50\n",
            "80/80 [==============================] - 47s 585ms/step - loss: 0.0135 - accuracy: 0.9954 - val_loss: 0.0444 - val_accuracy: 0.9883\n",
            "Epoch 40/50\n",
            "80/80 [==============================] - 47s 585ms/step - loss: 0.0195 - accuracy: 0.9929 - val_loss: 0.0152 - val_accuracy: 0.9937\n",
            "Epoch 41/50\n",
            "80/80 [==============================] - 47s 586ms/step - loss: 0.0144 - accuracy: 0.9963 - val_loss: 0.0112 - val_accuracy: 0.9977\n",
            "Epoch 42/50\n",
            "80/80 [==============================] - 47s 585ms/step - loss: 0.0157 - accuracy: 0.9954 - val_loss: 0.0190 - val_accuracy: 0.9937\n",
            "Epoch 43/50\n",
            "80/80 [==============================] - 47s 586ms/step - loss: 0.0185 - accuracy: 0.9925 - val_loss: 0.0184 - val_accuracy: 0.9922\n",
            "Epoch 44/50\n",
            "80/80 [==============================] - 47s 584ms/step - loss: 0.0134 - accuracy: 0.9950 - val_loss: 0.0326 - val_accuracy: 0.9867\n",
            "Epoch 45/50\n",
            "80/80 [==============================] - 47s 585ms/step - loss: 0.0156 - accuracy: 0.9950 - val_loss: 0.0226 - val_accuracy: 0.9914\n",
            "Epoch 46/50\n",
            "80/80 [==============================] - 47s 585ms/step - loss: 0.0130 - accuracy: 0.9963 - val_loss: 0.0177 - val_accuracy: 0.9945\n",
            "Epoch 47/50\n",
            "80/80 [==============================] - 47s 586ms/step - loss: 0.0109 - accuracy: 0.9967 - val_loss: 0.0266 - val_accuracy: 0.9906\n",
            "Epoch 48/50\n",
            "80/80 [==============================] - 47s 585ms/step - loss: 0.0099 - accuracy: 0.9964 - val_loss: 0.0250 - val_accuracy: 0.9914\n",
            "Epoch 49/50\n",
            "80/80 [==============================] - 47s 584ms/step - loss: 0.0201 - accuracy: 0.9933 - val_loss: 0.0295 - val_accuracy: 0.9891\n",
            "Epoch 50/50\n",
            "80/80 [==============================] - 47s 585ms/step - loss: 0.0207 - accuracy: 0.9943 - val_loss: 0.0310 - val_accuracy: 0.9883\n"
          ],
          "name": "stdout"
        }
      ]
    },
    {
      "cell_type": "code",
      "metadata": {
        "id": "bQ-N4epQa0eB"
      },
      "source": [
        "def plot_metrics(history):\r\n",
        "  # plotting the metrics\r\n",
        "  fig = plt.figure()\r\n",
        "  plt.subplot(2,1,1)\r\n",
        "  plt.plot(history.history['accuracy'])\r\n",
        "  plt.plot(history.history['val_accuracy'])\r\n",
        "  plt.title('model accuracy')\r\n",
        "  plt.ylabel('accuracy')\r\n",
        "  plt.xlabel('epoch')\r\n",
        "  plt.legend(['train', 'test'], loc='lower right')\r\n",
        "\r\n",
        "  plt.subplot(2,1,2)\r\n",
        "  plt.plot(history.history['loss'])\r\n",
        "  plt.plot(history.history['val_loss'])\r\n",
        "  plt.title('model loss')\r\n",
        "  plt.ylabel('loss')\r\n",
        "  plt.xlabel('epoch')\r\n",
        "  plt.legend(['train', 'test'], loc='upper right')\r\n",
        "\r\n",
        "  plt.tight_layout()"
      ],
      "execution_count": 10,
      "outputs": []
    },
    {
      "cell_type": "code",
      "metadata": {
        "id": "rvZyxYnca3-t",
        "colab": {
          "base_uri": "https://localhost:8080/",
          "height": 297
        },
        "outputId": "25a9ab2d-4530-4247-fd8b-1e6a0b32b0e1"
      },
      "source": [
        "plot_metrics(history)"
      ],
      "execution_count": 11,
      "outputs": [
        {
          "output_type": "display_data",
          "data": {
            "image/png": "[encoded data removed]",
            "text/plain": [
              "<Figure size 432x288 with 2 Axes>"
            ]
          },
          "metadata": {
            "tags": [],
            "needs_background": "light"
          }
        }
      ]
    },
    {
      "cell_type": "code",
      "metadata": {
        "id": "igtdpMoAa4e_",
        "colab": {
          "base_uri": "https://localhost:8080/"
        },
        "outputId": "f9c034c4-781a-4af8-92fe-c9e904aaddf0"
      },
      "source": [
        "loss_and_metrics = model.evaluate(x_val, y_val, verbose=2)\r\n",
        "\r\n",
        "print(\"Test Loss\", loss_and_metrics[0])\r\n",
        "print(\"Test Accuracy\", loss_and_metrics[1])"
      ],
      "execution_count": 12,
      "outputs": [
        {
          "output_type": "stream",
          "text": [
            "40/40 - 13s - loss: 0.0310 - accuracy: 0.9883\n",
            "Test Loss 0.030996346846222878\n",
            "Test Accuracy 0.98828125\n"
          ],
          "name": "stdout"
        }
      ]
    },
    {
      "cell_type": "code",
      "metadata": {
        "id": "kt-c8f5YoqIs",
        "colab": {
          "base_uri": "https://localhost:8080/"
        },
        "outputId": "a3acca0e-d784-46ce-9cd5-69e894b5fa49"
      },
      "source": [
        "t0= time.process_time()\r\n",
        "y_pred_sm = model.predict(x_val)\r\n",
        "t1 = time.process_time() - t0\r\n",
        "print(\"Time elapsed: \", t1, \" seconds\")\r\n",
        "\r\n",
        "y_pred = np.argmax(y_pred_sm, axis=1)"
      ],
      "execution_count": 13,
      "outputs": [
        {
          "output_type": "stream",
          "text": [
            "Time elapsed:  9.857046205000188  seconds\n"
          ],
          "name": "stdout"
        }
      ]
    }
  ]
}