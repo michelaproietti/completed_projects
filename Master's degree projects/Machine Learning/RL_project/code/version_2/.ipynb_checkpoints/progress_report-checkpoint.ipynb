{
 "cells": [
  {
   "cell_type": "markdown",
   "metadata": {},
   "source": [
    "# Plot and analyze the progress of the training"
   ]
  },
  {
   "cell_type": "code",
   "execution_count": null,
   "metadata": {},
   "outputs": [],
   "source": [
    "import numpy as np\n",
    "import matplotlib.pyplot as plt\n",
    "import pandas as pd\n",
    "import os\n",
    "%matplotlib inline\n",
    "plt.rcParams[\"figure.figsize\"] = (10,5)\n",
    "plt.style.use('ggplot')"
   ]
  },
  {
   "cell_type": "code",
   "execution_count": null,
   "metadata": {},
   "outputs": [],
   "source": [
    "# Update the values as in the trainings.\n",
    "date = \"Jan-30_21:52:39\"\n",
    "directory = \"immagini/\"\n",
    "epis = \"epis3000_\"\n",
    "gamma = \"gam0.995_\"\n",
    "batch_size = \"batchsize20\"\n",
    "hid1_mult = \"hid8_\"\n",
    "act_func = \"_leakyReLU_EntrSiSurr_Entr0.75_decay-0.008_backtrackiters12\""
   ]
  },
  {
   "cell_type": "code",
   "execution_count": null,
   "metadata": {},
   "outputs": [],
   "source": [
    "directory = directory+date+\"---\"+epis+gamma+batch_size+hid1_mult+act_func+\"/\"\n",
    "if not(os.path.exists(directory)):\n",
    "    os.makedirs(directory)"
   ]
  },
  {
   "cell_type": "code",
   "execution_count": null,
   "metadata": {},
   "outputs": [],
   "source": [
    "def df_plot(dfs, x, ys, ylim=None, legend_loc='best'):\n",
    "    if ylim is not None:\n",
    "        plt.ylim(ylim)\n",
    "    for df, name in dfs:\n",
    "        name = name.split('_')[1]\n",
    "        for y in ys:\n",
    "            plt.plot(df[x], df[y], linewidth=2,\n",
    "                     label=name + ' ' + y.replace('_', ''))\n",
    "    plt.xlabel(x.replace('_', ''))\n",
    "    plt.legend(loc=legend_loc)\n",
    "    plt.savefig(directory+ys[0]+\".png\")\n",
    "    plt.show()"
   ]
  },
  {
   "cell_type": "code",
   "execution_count": null,
   "metadata": {},
   "outputs": [],
   "source": [
    "# ENTER LIST OF LOG FILENAMES HERE:\n",
    "filepaths = ['log-files/HalfCheetah-v2/'+date+'/log.csv']\n",
    "dataframes = []\n",
    "names = []\n",
    "for filepath in filepaths:\n",
    "    names.append(filepath.split('/')[2])\n",
    "    dataframes.append(pd.read_csv(filepath))\n",
    "data = list(zip(dataframes, names))"
   ]
  },
  {
   "cell_type": "markdown",
   "metadata": {},
   "source": [
    "# Plots"
   ]
  },
  {
   "cell_type": "code",
   "execution_count": null,
   "metadata": {
    "scrolled": false
   },
   "outputs": [],
   "source": [
    "fig = plt.figure()\n",
    "fig = df_plot(data, '_Episode', ['_MeanReward'])\n",
    "#fig = df_plot(data, '_Episode', ['KL'])\n",
    "fig = df_plot(data, '_Episode', ['ExplainedVarOld'])\n",
    "fig = df_plot(data, '_Episode', ['PolicyLoss'], ylim=(-0.05, 0))"
   ]
  },
  {
   "cell_type": "code",
   "execution_count": null,
   "metadata": {},
   "outputs": [],
   "source": [
    "fig = plt.figure()\n",
    "df_plot(data, '_Episode', ['_mean_discrew'])\n",
    "df_plot(data, '_Episode', ['_std_discrew'])\n",
    "df_plot(data, '_Episode', ['_mean_adv'])\n",
    "df_plot(data, '_Episode', ['_std_adv'])"
   ]
  },
  {
   "cell_type": "code",
   "execution_count": null,
   "metadata": {},
   "outputs": [],
   "source": [
    "fig = plt.figure()\n",
    "df_plot(data, '_Episode', ['_mean_obs'])\n",
    "df_plot(data, '_Episode', ['_min_obs'])\n",
    "df_plot(data, '_Episode', ['_max_obs'])"
   ]
  },
  {
   "cell_type": "code",
   "execution_count": null,
   "metadata": {},
   "outputs": [],
   "source": [
    "fig = plt.figure()\n",
    "df_plot(data, '_Episode', ['_mean_act'])\n",
    "df_plot(data, '_Episode', ['_min_act'])\n",
    "df_plot(data, '_Episode', ['_max_act'])\n",
    "df_plot(data, '_Episode', ['_std_act'])"
   ]
  },
  {
   "cell_type": "code",
   "execution_count": null,
   "metadata": {},
   "outputs": [],
   "source": [
    "fig = plt.figure()\n",
    "#df_plot(data, '_Episode', ['PolicyEntropy'])"
   ]
  },
  {
   "cell_type": "code",
   "execution_count": null,
   "metadata": {},
   "outputs": [],
   "source": []
  }
 ],
 "metadata": {
  "kernelspec": {
   "display_name": "Python 3",
   "language": "python",
   "name": "python3"
  },
  "language_info": {
   "codemirror_mode": {
    "name": "ipython",
    "version": 3
   },
   "file_extension": ".py",
   "mimetype": "text/x-python",
   "name": "python",
   "nbconvert_exporter": "python",
   "pygments_lexer": "ipython3",
   "version": "3.6.10"
  }
 },
 "nbformat": 4,
 "nbformat_minor": 2
}
