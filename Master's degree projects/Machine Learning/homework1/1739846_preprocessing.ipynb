{
 "cells": [
  {
   "cell_type": "code",
   "execution_count": 1,
   "metadata": {},
   "outputs": [],
   "source": [
    "import json\n",
    "import networkx as nx\n",
    "from networkx import json_graph\n",
    "\n",
    "import pandas as pd\n",
    "from pandas.plotting import table\n",
    "import numpy as np\n",
    "import time\n",
    "import re\n",
    "\n",
    "import matplotlib.pyplot as plt\n",
    "import matplotlib.image as pltimg\n",
    "%matplotlib inline"
   ]
  },
  {
   "cell_type": "code",
   "execution_count": 2,
   "metadata": {},
   "outputs": [
    {
     "name": "stdout",
     "output_type": "stream",
     "text": [
      "data size =  14397\n"
     ]
    }
   ],
   "source": [
    "# getting lines from the json file\n",
    "lines = open(\"dataset/dataset.json\",'r').readlines()\n",
    "\n",
    "# getting the size of data\n",
    "data_size = len(lines)\n",
    "print(\"data size = \", data_size)"
   ]
  },
  {
   "cell_type": "code",
   "execution_count": 3,
   "metadata": {},
   "outputs": [],
   "source": [
    "# creating lists of number of nodes, edges, connected components\n",
    "# and simple cycles for each CGF graph\n",
    "\n",
    "n_nodes = []\n",
    "n_edges = []\n",
    "n_conncomps = []\n",
    "n_cycles = []\n",
    "\n",
    "for item in lines:\n",
    "    d = json.loads(item)\n",
    "    nx_graph = json_graph.adjacency_graph(d['cfg'])\n",
    "    name, type, nodes, edges, a_in, a_out = nx.info(nx_graph).split(\"\\n\",6)\n",
    "    n_nodes.append(int(nodes.split(\": \")[1]))\n",
    "    n_edges.append(int(edges.split(\": \")[1]))\n",
    "    u_graph = nx_graph.to_undirected()\n",
    "    n_conncomps.append(nx.number_connected_components(u_graph))\n",
    "    n_cycles.append(len(nx.cycle_basis(u_graph)))"
   ]
  },
  {
   "cell_type": "code",
   "execution_count": 4,
   "metadata": {},
   "outputs": [],
   "source": [
    "# computing the cyclomatic complexity for each item\n",
    "\n",
    "cycl_complex = []\n",
    "for i in range(data_size):\n",
    "    cycl_complex.append(n_edges[i]-n_nodes[i]+2*n_conncomps[i])"
   ]
  },
  {
   "cell_type": "code",
   "execution_count": 5,
   "metadata": {},
   "outputs": [],
   "source": [
    "# getting the lists of labels and asm_lists\n",
    "labels = []\n",
    "asm_lists = []\n",
    "\n",
    "for item in lines:\n",
    "    d = json.loads(item)\n",
    "    values = list(d.values())\n",
    "    labels.append(values[1])\n",
    "    asm_lists.append(values[2])"
   ]
  },
  {
   "cell_type": "code",
   "execution_count": 6,
   "metadata": {},
   "outputs": [],
   "source": [
    "n_memory_ins = [0]*data_size\n",
    "n_arithmetic_ins = [0]*data_size\n",
    "n_float_ins = [0]*data_size\n",
    "n_bitwise_ins = [0]*data_size\n",
    "n_jumps = [0]*data_size\n",
    "n_comparisons = [0]*data_size\n",
    "n_calls = [0]*data_size\n",
    "\n",
    "for i in range(data_size):\n",
    "    asm = asm_lists[i]\n",
    "    \n",
    "    n_memory_ins[i] += len(re.findall('mov', asm))\n",
    "    n_memory_ins[i] += len(re.findall('push', asm))\n",
    "    n_memory_ins[i] += len(re.findall('pop', asm))\n",
    "    n_memory_ins[i] += len(re.findall('cwtl', asm))\n",
    "    n_memory_ins[i] += len(re.findall('cltq', asm))\n",
    "    n_memory_ins[i] += len(re.findall('cqto', asm))\n",
    "\n",
    "    n_arithmetic_ins[i] += len(re.findall('lea', asm))\n",
    "    n_arithmetic_ins[i] += len(re.findall('inc', asm))\n",
    "    n_arithmetic_ins[i] += len(re.findall('dec', asm))\n",
    "    n_arithmetic_ins[i] += len(re.findall('neg', asm))\n",
    "    n_arithmetic_ins[i] += len(re.findall('add', asm))\n",
    "    n_arithmetic_ins[i] += len(re.findall('sub', asm))\n",
    "    n_arithmetic_ins[i] += len(re.findall('imul', asm))\n",
    "    n_arithmetic_ins[i] += len(re.findall('div', asm))\n",
    "\n",
    "\n",
    "    n_bitwise_ins[i] += len(re.findall('not', asm))\n",
    "    n_bitwise_ins[i] += len(re.findall('xor', asm))\n",
    "    n_bitwise_ins[i] += len(re.findall('or', asm))\n",
    "    n_bitwise_ins[i] += len(re.findall('and', asm))\n",
    "    n_bitwise_ins[i] += len(re.findall('sal', asm))\n",
    "    n_bitwise_ins[i] += len(re.findall('sar', asm))\n",
    "    n_bitwise_ins[i] += len(re.findall('shr', asm))\n",
    "\n",
    "    n_float_ins[i] += len(re.findall('xmm', asm))\n",
    "    n_float_ins[i] += len(re.findall('movs', asm))\n",
    "    n_float_ins[i] += len(re.findall('cvtss2sd', asm))\n",
    "    n_float_ins[i] += len(re.findall('cvtsd2ss', asm))\n",
    "    n_float_ins[i] += len(re.findall('cvtsi2s', asm))\n",
    "    n_float_ins[i] += len(re.findall('cvtsi2s', asm))\n",
    "    n_float_ins[i] += len(re.findall('cvtts', asm))\n",
    "    n_float_ins[i] += len(re.findall('adds', asm))\n",
    "    n_float_ins[i] += len(re.findall('subs', asm))\n",
    "    n_float_ins[i] += len(re.findall('muls', asm))\n",
    "    n_float_ins[i] += len(re.findall('divs', asm))\n",
    "    n_float_ins[i] += len(re.findall('maxs', asm))\n",
    "    n_float_ins[i] += len(re.findall('mins', asm))\n",
    "    n_float_ins[i] += len(re.findall('sqrts', asm))\n",
    "    n_float_ins[i] += len(re.findall('ucomis', asm))\n",
    "\n",
    "    n_jumps[i] += len(re.findall('j', asm))\n",
    "    \n",
    "    n_calls[i] += len(re.findall('call', asm))\n",
    "\n",
    "    n_comparisons[i] += len(re.findall('cmp', asm))\n",
    "    n_comparisons[i] += len(re.findall('test', asm))\n",
    "    n_comparisons[i] += len(re.findall('set', asm))"
   ]
  },
  {
   "cell_type": "code",
   "execution_count": 7,
   "metadata": {},
   "outputs": [],
   "source": [
    "data = {'n_nodes': n_nodes,\n",
    "       'cyclomatic_complexity' : cycl_complex,\n",
    "       'n_cycles' : n_cycles,\n",
    "       'n_memory_ins': n_memory_ins,\n",
    "       'n_arithmetic_ins' : n_arithmetic_ins,\n",
    "       'n_float_ins' : n_float_ins,\n",
    "       'n_bitwise_ins' : n_bitwise_ins,\n",
    "       'n_jumps' : n_jumps,\n",
    "       'n_comparisons' : n_comparisons,\n",
    "       'n_calls' : n_calls,\n",
    "       'label': labels}\n",
    "\n",
    "df = pd.DataFrame (data, columns = ['n_nodes', 'cyclomatic_complexity', 'n_cycles', 'n_memory_ins', \n",
    "                                    'n_arithmetic_ins', 'n_float_ins', 'n_bitwise_ins', \n",
    "                                    'n_jumps', 'n_comparisons', 'n_calls', 'label'])"
   ]
  },
  {
   "cell_type": "code",
   "execution_count": 8,
   "metadata": {
    "scrolled": true
   },
   "outputs": [
    {
     "data": {
      "text/html": [
       "<div>\n",
       "<style scoped>\n",
       "    .dataframe tbody tr th:only-of-type {\n",
       "        vertical-align: middle;\n",
       "    }\n",
       "\n",
       "    .dataframe tbody tr th {\n",
       "        vertical-align: top;\n",
       "    }\n",
       "\n",
       "    .dataframe thead th {\n",
       "        text-align: right;\n",
       "    }\n",
       "</style>\n",
       "<table border=\"1\" class=\"dataframe\">\n",
       "  <thead>\n",
       "    <tr style=\"text-align: right;\">\n",
       "      <th></th>\n",
       "      <th>n_nodes</th>\n",
       "      <th>cyclomatic_complexity</th>\n",
       "      <th>n_cycles</th>\n",
       "      <th>n_memory_ins</th>\n",
       "      <th>n_arithmetic_ins</th>\n",
       "      <th>n_float_ins</th>\n",
       "      <th>n_bitwise_ins</th>\n",
       "      <th>n_jumps</th>\n",
       "      <th>n_comparisons</th>\n",
       "      <th>n_calls</th>\n",
       "      <th>label</th>\n",
       "    </tr>\n",
       "  </thead>\n",
       "  <tbody>\n",
       "    <tr>\n",
       "      <th>0</th>\n",
       "      <td>23</td>\n",
       "      <td>9</td>\n",
       "      <td>8</td>\n",
       "      <td>54</td>\n",
       "      <td>5</td>\n",
       "      <td>4</td>\n",
       "      <td>54</td>\n",
       "      <td>15</td>\n",
       "      <td>8</td>\n",
       "      <td>6</td>\n",
       "      <td>string</td>\n",
       "    </tr>\n",
       "    <tr>\n",
       "      <th>1</th>\n",
       "      <td>15</td>\n",
       "      <td>7</td>\n",
       "      <td>6</td>\n",
       "      <td>10</td>\n",
       "      <td>6</td>\n",
       "      <td>52</td>\n",
       "      <td>13</td>\n",
       "      <td>12</td>\n",
       "      <td>4</td>\n",
       "      <td>1</td>\n",
       "      <td>math</td>\n",
       "    </tr>\n",
       "    <tr>\n",
       "      <th>2</th>\n",
       "      <td>18</td>\n",
       "      <td>17</td>\n",
       "      <td>16</td>\n",
       "      <td>188</td>\n",
       "      <td>65</td>\n",
       "      <td>17</td>\n",
       "      <td>247</td>\n",
       "      <td>16</td>\n",
       "      <td>17</td>\n",
       "      <td>0</td>\n",
       "      <td>encryption</td>\n",
       "    </tr>\n",
       "    <tr>\n",
       "      <th>3</th>\n",
       "      <td>2</td>\n",
       "      <td>1</td>\n",
       "      <td>0</td>\n",
       "      <td>7</td>\n",
       "      <td>1</td>\n",
       "      <td>6</td>\n",
       "      <td>5</td>\n",
       "      <td>1</td>\n",
       "      <td>1</td>\n",
       "      <td>1</td>\n",
       "      <td>math</td>\n",
       "    </tr>\n",
       "    <tr>\n",
       "      <th>4</th>\n",
       "      <td>22</td>\n",
       "      <td>15</td>\n",
       "      <td>11</td>\n",
       "      <td>22</td>\n",
       "      <td>10</td>\n",
       "      <td>3</td>\n",
       "      <td>32</td>\n",
       "      <td>14</td>\n",
       "      <td>10</td>\n",
       "      <td>7</td>\n",
       "      <td>sort</td>\n",
       "    </tr>\n",
       "    <tr>\n",
       "      <th>5</th>\n",
       "      <td>35</td>\n",
       "      <td>29</td>\n",
       "      <td>28</td>\n",
       "      <td>118</td>\n",
       "      <td>2</td>\n",
       "      <td>0</td>\n",
       "      <td>249</td>\n",
       "      <td>1</td>\n",
       "      <td>1</td>\n",
       "      <td>30</td>\n",
       "      <td>encryption</td>\n",
       "    </tr>\n",
       "    <tr>\n",
       "      <th>6</th>\n",
       "      <td>21</td>\n",
       "      <td>21</td>\n",
       "      <td>20</td>\n",
       "      <td>167</td>\n",
       "      <td>90</td>\n",
       "      <td>93</td>\n",
       "      <td>156</td>\n",
       "      <td>20</td>\n",
       "      <td>8</td>\n",
       "      <td>0</td>\n",
       "      <td>encryption</td>\n",
       "    </tr>\n",
       "    <tr>\n",
       "      <th>7</th>\n",
       "      <td>3</td>\n",
       "      <td>3</td>\n",
       "      <td>2</td>\n",
       "      <td>63</td>\n",
       "      <td>2</td>\n",
       "      <td>0</td>\n",
       "      <td>127</td>\n",
       "      <td>2</td>\n",
       "      <td>2</td>\n",
       "      <td>0</td>\n",
       "      <td>encryption</td>\n",
       "    </tr>\n",
       "    <tr>\n",
       "      <th>8</th>\n",
       "      <td>15</td>\n",
       "      <td>13</td>\n",
       "      <td>12</td>\n",
       "      <td>61</td>\n",
       "      <td>25</td>\n",
       "      <td>1</td>\n",
       "      <td>36</td>\n",
       "      <td>14</td>\n",
       "      <td>20</td>\n",
       "      <td>0</td>\n",
       "      <td>sort</td>\n",
       "    </tr>\n",
       "    <tr>\n",
       "      <th>9</th>\n",
       "      <td>14</td>\n",
       "      <td>4</td>\n",
       "      <td>3</td>\n",
       "      <td>37</td>\n",
       "      <td>6</td>\n",
       "      <td>1</td>\n",
       "      <td>34</td>\n",
       "      <td>5</td>\n",
       "      <td>1</td>\n",
       "      <td>7</td>\n",
       "      <td>string</td>\n",
       "    </tr>\n",
       "  </tbody>\n",
       "</table>\n",
       "</div>"
      ],
      "text/plain": [
       "   n_nodes  cyclomatic_complexity  n_cycles  n_memory_ins  n_arithmetic_ins  \\\n",
       "0       23                      9         8            54                 5   \n",
       "1       15                      7         6            10                 6   \n",
       "2       18                     17        16           188                65   \n",
       "3        2                      1         0             7                 1   \n",
       "4       22                     15        11            22                10   \n",
       "5       35                     29        28           118                 2   \n",
       "6       21                     21        20           167                90   \n",
       "7        3                      3         2            63                 2   \n",
       "8       15                     13        12            61                25   \n",
       "9       14                      4         3            37                 6   \n",
       "\n",
       "   n_float_ins  n_bitwise_ins  n_jumps  n_comparisons  n_calls       label  \n",
       "0            4             54       15              8        6      string  \n",
       "1           52             13       12              4        1        math  \n",
       "2           17            247       16             17        0  encryption  \n",
       "3            6              5        1              1        1        math  \n",
       "4            3             32       14             10        7        sort  \n",
       "5            0            249        1              1       30  encryption  \n",
       "6           93            156       20              8        0  encryption  \n",
       "7            0            127        2              2        0  encryption  \n",
       "8            1             36       14             20        0        sort  \n",
       "9            1             34        5              1        7      string  "
      ]
     },
     "execution_count": 8,
     "metadata": {},
     "output_type": "execute_result"
    }
   ],
   "source": [
    "df.head(10)"
   ]
  },
  {
   "cell_type": "code",
   "execution_count": 9,
   "metadata": {},
   "outputs": [
    {
     "data": {
      "text/plain": [
       "<AxesSubplot:title={'center':'Number of nodes'}, xlabel='label'>"
      ]
     },
     "execution_count": 9,
     "metadata": {},
     "output_type": "execute_result"
    },
    {
     "data": {
      "image/png": "[encoded data removed]",
      "text/plain": [
       "<Figure size 432x288 with 1 Axes>"
      ]
     },
     "metadata": {
      "needs_background": "light"
     },
     "output_type": "display_data"
    }
   ],
   "source": [
    "df.groupby('label')['n_nodes'].mean().plot(kind='bar', title='Number of nodes')"
   ]
  },
  {
   "cell_type": "code",
   "execution_count": 10,
   "metadata": {},
   "outputs": [
    {
     "data": {
      "text/plain": [
       "<AxesSubplot:title={'center':'Cyclomatic complexity'}, xlabel='label'>"
      ]
     },
     "execution_count": 10,
     "metadata": {},
     "output_type": "execute_result"
    },
    {
     "data": {
      "image/png": "[encoded data removed]",
      "text/plain": [
       "<Figure size 432x288 with 1 Axes>"
      ]
     },
     "metadata": {
      "needs_background": "light"
     },
     "output_type": "display_data"
    }
   ],
   "source": [
    "df.groupby('label')['cyclomatic_complexity'].mean().plot(kind='bar',title='Cyclomatic complexity')"
   ]
  },
  {
   "cell_type": "code",
   "execution_count": 11,
   "metadata": {},
   "outputs": [
    {
     "data": {
      "text/plain": [
       "<AxesSubplot:title={'center':'Number of cycles'}, xlabel='label'>"
      ]
     },
     "execution_count": 11,
     "metadata": {},
     "output_type": "execute_result"
    },
    {
     "data": {
      "image/png": "[encoded data removed]",
      "text/plain": [
       "<Figure size 432x288 with 1 Axes>"
      ]
     },
     "metadata": {
      "needs_background": "light"
     },
     "output_type": "display_data"
    }
   ],
   "source": [
    "df.groupby('label')['n_cycles'].mean().plot(kind='bar', title='Number of cycles')"
   ]
  },
  {
   "cell_type": "code",
   "execution_count": 12,
   "metadata": {},
   "outputs": [
    {
     "data": {
      "text/plain": [
       "<AxesSubplot:title={'center':'Number of memory instructions'}, xlabel='label'>"
      ]
     },
     "execution_count": 12,
     "metadata": {},
     "output_type": "execute_result"
    },
    {
     "data": {
      "image/png": "[encoded data removed]",
      "text/plain": [
       "<Figure size 432x288 with 1 Axes>"
      ]
     },
     "metadata": {
      "needs_background": "light"
     },
     "output_type": "display_data"
    }
   ],
   "source": [
    "df.groupby('label')['n_memory_ins'].mean().plot(kind='bar', title='Number of memory instructions')"
   ]
  },
  {
   "cell_type": "code",
   "execution_count": 13,
   "metadata": {},
   "outputs": [
    {
     "data": {
      "text/plain": [
       "<AxesSubplot:title={'center':'Number of arithmetic instructions'}, xlabel='label'>"
      ]
     },
     "execution_count": 13,
     "metadata": {},
     "output_type": "execute_result"
    },
    {
     "data": {
      "image/png": "[encoded data removed]",
      "text/plain": [
       "<Figure size 432x288 with 1 Axes>"
      ]
     },
     "metadata": {
      "needs_background": "light"
     },
     "output_type": "display_data"
    }
   ],
   "source": [
    "df.groupby('label')['n_arithmetic_ins'].mean().plot(kind='bar', title='Number of arithmetic instructions')"
   ]
  },
  {
   "cell_type": "code",
   "execution_count": 14,
   "metadata": {},
   "outputs": [
    {
     "data": {
      "text/plain": [
       "<AxesSubplot:title={'center':'Number of floating point instructions'}, xlabel='label'>"
      ]
     },
     "execution_count": 14,
     "metadata": {},
     "output_type": "execute_result"
    },
    {
     "data": {
      "image/png": "[encoded data removed]",
      "text/plain": [
       "<Figure size 432x288 with 1 Axes>"
      ]
     },
     "metadata": {
      "needs_background": "light"
     },
     "output_type": "display_data"
    }
   ],
   "source": [
    "df.groupby('label')['n_float_ins'].mean().plot(kind='bar', title='Number of floating point instructions')"
   ]
  },
  {
   "cell_type": "code",
   "execution_count": 15,
   "metadata": {},
   "outputs": [
    {
     "data": {
      "text/plain": [
       "<AxesSubplot:title={'center':'Number of bitwise instructions'}, xlabel='label'>"
      ]
     },
     "execution_count": 15,
     "metadata": {},
     "output_type": "execute_result"
    },
    {
     "data": {
      "image/png": "[encoded data removed]",
      "text/plain": [
       "<Figure size 432x288 with 1 Axes>"
      ]
     },
     "metadata": {
      "needs_background": "light"
     },
     "output_type": "display_data"
    }
   ],
   "source": [
    "df.groupby('label')['n_bitwise_ins'].mean().plot(kind='bar', title='Number of bitwise instructions')"
   ]
  },
  {
   "cell_type": "code",
   "execution_count": 16,
   "metadata": {},
   "outputs": [
    {
     "data": {
      "text/plain": [
       "<AxesSubplot:title={'center':'Number of jumps'}, xlabel='label'>"
      ]
     },
     "execution_count": 16,
     "metadata": {},
     "output_type": "execute_result"
    },
    {
     "data": {
      "image/png": "[encoded data removed]",
      "text/plain": [
       "<Figure size 432x288 with 1 Axes>"
      ]
     },
     "metadata": {
      "needs_background": "light"
     },
     "output_type": "display_data"
    }
   ],
   "source": [
    "df.groupby('label')['n_jumps'].mean().plot(kind='bar',title='Number of jumps')"
   ]
  },
  {
   "cell_type": "code",
   "execution_count": 17,
   "metadata": {},
   "outputs": [
    {
     "data": {
      "text/plain": [
       "<AxesSubplot:title={'center':'Number of comparisons'}, xlabel='label'>"
      ]
     },
     "execution_count": 17,
     "metadata": {},
     "output_type": "execute_result"
    },
    {
     "data": {
      "image/png": "[encoded data removed]",
      "text/plain": [
       "<Figure size 432x288 with 1 Axes>"
      ]
     },
     "metadata": {
      "needs_background": "light"
     },
     "output_type": "display_data"
    }
   ],
   "source": [
    "df.groupby('label')['n_comparisons'].mean().plot(kind='bar', title='Number of comparisons')"
   ]
  },
  {
   "cell_type": "code",
   "execution_count": 18,
   "metadata": {},
   "outputs": [
    {
     "data": {
      "text/plain": [
       "<AxesSubplot:title={'center':'Number of calls'}, xlabel='label'>"
      ]
     },
     "execution_count": 18,
     "metadata": {},
     "output_type": "execute_result"
    },
    {
     "data": {
      "image/png": "[encoded data removed]",
      "text/plain": [
       "<Figure size 432x288 with 1 Axes>"
      ]
     },
     "metadata": {
      "needs_background": "light"
     },
     "output_type": "display_data"
    }
   ],
   "source": [
    "df.groupby('label')['n_calls'].mean().plot(kind='bar', title='Number of calls')"
   ]
  },
  {
   "cell_type": "code",
   "execution_count": 19,
   "metadata": {},
   "outputs": [],
   "source": [
    "df.to_pickle('dataframe.plk')"
   ]
  }
 ],
 "metadata": {
  "kernelspec": {
   "display_name": "Python 3",
   "language": "python",
   "name": "python3"
  },
  "language_info": {
   "codemirror_mode": {
    "name": "ipython",
    "version": 3
   },
   "file_extension": ".py",
   "mimetype": "text/x-python",
   "name": "python",
   "nbconvert_exporter": "python",
   "pygments_lexer": "ipython3",
   "version": "3.7.9"
  }
 },
 "nbformat": 4,
 "nbformat_minor": 4
}
